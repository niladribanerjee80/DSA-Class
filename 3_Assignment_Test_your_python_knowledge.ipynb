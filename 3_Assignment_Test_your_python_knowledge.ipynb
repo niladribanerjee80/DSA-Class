{
  "nbformat": 4,
  "nbformat_minor": 0,
  "metadata": {
    "colab": {
      "provenance": [],
      "authorship_tag": "ABX9TyMVR3Q9zhN5XKiiIllK2fPX",
      "include_colab_link": true
    },
    "kernelspec": {
      "name": "python3",
      "display_name": "Python 3"
    },
    "language_info": {
      "name": "python"
    }
  },
  "cells": [
    {
      "cell_type": "markdown",
      "metadata": {
        "id": "view-in-github",
        "colab_type": "text"
      },
      "source": [
        "<a href=\"https://colab.research.google.com/github/niladribanerjee80/DSA-Class/blob/main/3_Assignment_Test_your_python_knowledge.ipynb\" target=\"_parent\"><img src=\"https://colab.research.google.com/assets/colab-badge.svg\" alt=\"Open In Colab\"/></a>"
      ]
    },
    {
      "cell_type": "markdown",
      "source": [
        "# word of advice:\n",
        "\n",
        "* If you want to use ChatGPT, that's perfectly fine as long as you go through the documentation to understand what the topics are, so that you are not blindsided when a new problem statement comes to you and if there is no chatGPT at your disposal. Otherwise, you may always have to depend on the GPT. This advice is applicable to all your future assignments.\n",
        "\n",
        "* The intent here is your skill enhancement which will be needed in your future endeavors or interviews and not getting finalized output as assignment or exam marks.\n",
        "\n",
        "Note\n",
        "\n",
        "* if you see, the reference resources are missing, you can find your own references from wherever you are comfortable with."
      ],
      "metadata": {
        "id": "IIAd7idLTivN"
      }
    },
    {
      "cell_type": "code",
      "execution_count": null,
      "metadata": {
        "id": "znM6qR7DTdRE"
      },
      "outputs": [],
      "source": []
    },
    {
      "cell_type": "markdown",
      "source": [
        "# Beginner Level"
      ],
      "metadata": {
        "id": "J_sr6_IwWinl"
      }
    },
    {
      "cell_type": "markdown",
      "source": [
        "## Problem 1: String Reversal\n",
        "\n",
        "Task: Write a Python function to reverse a given string. Hint: Use slicing to reverse the string. Reference: https://www.w3schools.com/python/python_strings.asp\n",
        "\n",
        "Function syntax\n",
        "```python\n",
        "def greet(name):\n",
        "    return f\"Hello, {name}!\"\n",
        "\n",
        "print(greet(\"World\"))  # Output: Hello, World!\n",
        "```"
      ],
      "metadata": {
        "id": "UdNsvG2lTmXv"
      }
    },
    {
      "cell_type": "code",
      "source": [
        "def reverse_string(s):\n",
        "    # write your code here"
      ],
      "metadata": {
        "id": "jrqFjvksTp-K"
      },
      "execution_count": null,
      "outputs": []
    },
    {
      "cell_type": "code",
      "source": [
        "# write your test cases here and execute them before you submit the assignment file\n",
        "# Test cases for : reverse_string(s)"
      ],
      "metadata": {
        "id": "819Q1fWvUIJ9"
      },
      "execution_count": null,
      "outputs": []
    },
    {
      "cell_type": "markdown",
      "source": [
        "## Problem 2: Sum of Digits\n",
        "Task: Write a Python function to calculate the sum of digits of a given number. Hint: Convert the number to a string, iterate over each character, and sum the integers.\n",
        "\n",
        "Help: w3schools for numbers, how to iterate on iterables. What are iterables etc."
      ],
      "metadata": {
        "id": "ep3WrfojUPKS"
      }
    },
    {
      "cell_type": "code",
      "source": [
        "def sum_of_digits(num):\n",
        "    # write your code here"
      ],
      "metadata": {
        "id": "Pmq6ztNUUV6K"
      },
      "execution_count": null,
      "outputs": []
    },
    {
      "cell_type": "code",
      "source": [
        "# write your test cases here and execute them before you submit the assignment file\n",
        "# Test cases for : sum_of_digits(num)"
      ],
      "metadata": {
        "id": "HDMgj83cUeqy"
      },
      "execution_count": null,
      "outputs": []
    },
    {
      "cell_type": "markdown",
      "source": [
        "## Problem 3: List Average\n",
        "Task: Write a Python function to calculate the average of numbers in a list. Hint: Use the sum() and len() functions. Reference: https://www.w3schools.com/python/python_lists.asp"
      ],
      "metadata": {
        "id": "GpN6u1djU8qG"
      }
    },
    {
      "cell_type": "code",
      "source": [
        "# write your function"
      ],
      "metadata": {
        "id": "ItjBblBGUe-T"
      },
      "execution_count": null,
      "outputs": []
    },
    {
      "cell_type": "code",
      "source": [
        "# test cases"
      ],
      "metadata": {
        "id": "hDECAzWFUfCF"
      },
      "execution_count": null,
      "outputs": []
    },
    {
      "cell_type": "markdown",
      "source": [
        "## Problem 4: Unique Elements in a List\n",
        "Task: Write a Python function to find all unique elements in a list. Hint: Use a set to store unique elements. Reference: https://www.geeksforgeeks.org/python-get-unique-values-list/"
      ],
      "metadata": {
        "id": "yOZfaZSyVjHh"
      }
    },
    {
      "cell_type": "code",
      "source": [
        "# write your function"
      ],
      "metadata": {
        "id": "DY4w7vmVUfFo"
      },
      "execution_count": null,
      "outputs": []
    },
    {
      "cell_type": "code",
      "source": [
        "# test cases"
      ],
      "metadata": {
        "id": "EqMhqLZjVnt3"
      },
      "execution_count": null,
      "outputs": []
    },
    {
      "cell_type": "markdown",
      "source": [
        "## Problem 5: Tuple to String\n",
        "Task: Write a Python function to convert a tuple of characters to a string. Hint: Use the join() method. Reference: https://www.w3schools.com/python/python_tuples.asp"
      ],
      "metadata": {
        "id": "L7VbdLzmVsZO"
      }
    },
    {
      "cell_type": "code",
      "source": [
        "# write your function"
      ],
      "metadata": {
        "id": "KgabopzDVnxp"
      },
      "execution_count": null,
      "outputs": []
    },
    {
      "cell_type": "code",
      "source": [
        "# test cases"
      ],
      "metadata": {
        "id": "P2eqcarSVvYo"
      },
      "execution_count": null,
      "outputs": []
    },
    {
      "cell_type": "markdown",
      "source": [
        "## Problem 6: Dictionary Value Sum\n",
        "Task: Write a Python function to find the sum of all values in a dictionary. Hint: Use the values() method and sum() function. Reference: https://www.geeksforgeeks.org/python-program-to-find-the-sum-of-values-in-a-dictionary/"
      ],
      "metadata": {
        "id": "jRBYIqhAVxlv"
      }
    },
    {
      "cell_type": "code",
      "source": [
        "# write your function"
      ],
      "metadata": {
        "id": "XBmjwG2eVx3e"
      },
      "execution_count": null,
      "outputs": []
    },
    {
      "cell_type": "code",
      "source": [
        "# test cases"
      ],
      "metadata": {
        "id": "Lk7Owlc7Vx7M"
      },
      "execution_count": null,
      "outputs": []
    },
    {
      "cell_type": "markdown",
      "source": [
        "## Problem 7: Vowel Count in String\n",
        "Task: Write a Python function to count the number of vowels in a string. Hint: Use a loop to iterate over the string and a set to store vowels. Reference: https://www.w3schools.com/python/python_for_loops.asp"
      ],
      "metadata": {
        "id": "fBL8iANwWKMY"
      }
    },
    {
      "cell_type": "code",
      "source": [
        "# write your function"
      ],
      "metadata": {
        "id": "GlbNfQh0Vx-0"
      },
      "execution_count": null,
      "outputs": []
    },
    {
      "cell_type": "code",
      "source": [
        "# test cases"
      ],
      "metadata": {
        "id": "nDIvLqnjVyCs"
      },
      "execution_count": null,
      "outputs": []
    },
    {
      "cell_type": "markdown",
      "source": [
        "## Problem 8: Remove Duplicates from List\n",
        "Task: Write a Python function to remove duplicates from a list. Hint: Convert the list to a set and back to a list. Reference: https://www.geeksforgeeks.org/python-remove-duplicates-list/"
      ],
      "metadata": {
        "id": "QgxkIiBsWNgC"
      }
    },
    {
      "cell_type": "code",
      "source": [
        "# write your function"
      ],
      "metadata": {
        "id": "kodH5aoAVyGE"
      },
      "execution_count": null,
      "outputs": []
    },
    {
      "cell_type": "code",
      "source": [
        "# test cases"
      ],
      "metadata": {
        "id": "ZEKWAxyAVyJt"
      },
      "execution_count": null,
      "outputs": []
    },
    {
      "cell_type": "markdown",
      "source": [
        "## Problem 9: Key with Maximum Value\n",
        "Task: Write a Python function to find the key with the maximum value in a dictionary. Hint: Use the max() function with a lambda function. Reference: https://www.w3schools.com/python/python_dictionaries.asp"
      ],
      "metadata": {
        "id": "7wjNlA0lWRNw"
      }
    },
    {
      "cell_type": "code",
      "source": [
        "# write your function"
      ],
      "metadata": {
        "id": "_D6jUpR6WRW3"
      },
      "execution_count": null,
      "outputs": []
    },
    {
      "cell_type": "code",
      "source": [
        "# test cases"
      ],
      "metadata": {
        "id": "NQ3k0Le5WRa0"
      },
      "execution_count": null,
      "outputs": []
    },
    {
      "cell_type": "markdown",
      "source": [
        "## Problem 10: Merge Two Lists\n",
        "Task: Write a Python function to merge two lists into a dictionary, where the first list contains keys and the second list contains values. Hint: Use the zip() function and dict() constructor. Reference: https://www.geeksforgeeks.org/python-convert-two-lists-into-a-dictionary/"
      ],
      "metadata": {
        "id": "2iOGKD9FWXRa"
      }
    },
    {
      "cell_type": "code",
      "source": [
        "# write your function"
      ],
      "metadata": {
        "id": "aekg5urDWRen"
      },
      "execution_count": null,
      "outputs": []
    },
    {
      "cell_type": "code",
      "source": [
        "# test cases"
      ],
      "metadata": {
        "id": "m2xoBc1IWRiU"
      },
      "execution_count": null,
      "outputs": []
    },
    {
      "cell_type": "markdown",
      "source": [],
      "metadata": {
        "id": "I34yOapQWge1"
      }
    },
    {
      "cell_type": "markdown",
      "source": [],
      "metadata": {
        "id": "fZ0ePamtWdft"
      }
    },
    {
      "cell_type": "code",
      "source": [],
      "metadata": {
        "id": "RzqsuCusWRlz"
      },
      "execution_count": null,
      "outputs": []
    },
    {
      "cell_type": "code",
      "source": [],
      "metadata": {
        "id": "VkZ00lY8WRpr"
      },
      "execution_count": null,
      "outputs": []
    }
  ]
}