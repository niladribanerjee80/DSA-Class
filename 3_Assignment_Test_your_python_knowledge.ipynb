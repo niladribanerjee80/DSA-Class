{
  "nbformat": 4,
  "nbformat_minor": 0,
  "metadata": {
    "colab": {
      "provenance": [],
      "authorship_tag": "ABX9TyNl7kmbd7q+rcgr8pOkuDey",
      "include_colab_link": true
    },
    "kernelspec": {
      "name": "python3",
      "display_name": "Python 3"
    },
    "language_info": {
      "name": "python"
    }
  },
  "cells": [
    {
      "cell_type": "markdown",
      "metadata": {
        "id": "view-in-github",
        "colab_type": "text"
      },
      "source": [
        "<a href=\"https://colab.research.google.com/github/niladribanerjee80/DSA-Class/blob/main/3_Assignment_Test_your_python_knowledge.ipynb\" target=\"_parent\"><img src=\"https://colab.research.google.com/assets/colab-badge.svg\" alt=\"Open In Colab\"/></a>"
      ]
    },
    {
      "cell_type": "markdown",
      "source": [
        "# word of advice:\n",
        "\n",
        "* If you want to use ChatGPT, that's perfectly fine as long as you go through the documentation to understand what the topics are, so that you are not blindsided when a new problem statement comes to you and if there is no chatGPT at your disposal. Otherwise, you may always have to depend on the GPT. This advice is applicable to all your future assignments.\n",
        "\n",
        "* The intent here is your skill enhancement which will be needed in your future endeavors or interviews and not getting finalized output as assignment or exam marks.\n",
        "\n",
        "Note\n",
        "\n",
        "* if you see, the reference resources are missing, you can find your own references from wherever you are comfortable with."
      ],
      "metadata": {
        "id": "IIAd7idLTivN"
      }
    },
    {
      "cell_type": "code",
      "execution_count": null,
      "metadata": {
        "id": "znM6qR7DTdRE"
      },
      "outputs": [],
      "source": []
    },
    {
      "cell_type": "markdown",
      "source": [
        "# Beginner Level"
      ],
      "metadata": {
        "id": "J_sr6_IwWinl"
      }
    },
    {
      "cell_type": "markdown",
      "source": [
        "## Problem 1: String Reversal\n",
        "\n",
        "Task: Write a Python function to reverse a given string. Hint: Use slicing to reverse the string. Reference: https://www.w3schools.com/python/python_strings.asp\n",
        "\n",
        "Function syntax\n",
        "```python\n",
        "def greet(name):\n",
        "    return f\"Hello, {name}!\"\n",
        "\n",
        "print(greet(\"World\"))  # Output: Hello, World!\n",
        "```"
      ],
      "metadata": {
        "id": "UdNsvG2lTmXv"
      }
    },
    {
      "cell_type": "code",
      "source": [
        "def reverse_string(s):\n",
        "    # write your code here"
      ],
      "metadata": {
        "id": "jrqFjvksTp-K"
      },
      "execution_count": null,
      "outputs": []
    },
    {
      "cell_type": "code",
      "source": [
        "# write your test cases here and execute them before you submit the assignment file\n",
        "# Test cases for : reverse_string(s)"
      ],
      "metadata": {
        "id": "819Q1fWvUIJ9"
      },
      "execution_count": null,
      "outputs": []
    },
    {
      "cell_type": "markdown",
      "source": [
        "## Problem 2: Sum of Digits\n",
        "Task: Write a Python function to calculate the sum of digits of a given number. Hint: Convert the number to a string, iterate over each character, and sum the integers.\n",
        "\n",
        "Help: w3schools for numbers, how to iterate on iterables. What are iterables etc."
      ],
      "metadata": {
        "id": "ep3WrfojUPKS"
      }
    },
    {
      "cell_type": "code",
      "source": [
        "def sum_of_digits(num):\n",
        "    # write your code here"
      ],
      "metadata": {
        "id": "Pmq6ztNUUV6K"
      },
      "execution_count": null,
      "outputs": []
    },
    {
      "cell_type": "code",
      "source": [
        "# write your test cases here and execute them before you submit the assignment file\n",
        "# Test cases for : sum_of_digits(num)"
      ],
      "metadata": {
        "id": "HDMgj83cUeqy"
      },
      "execution_count": null,
      "outputs": []
    },
    {
      "cell_type": "markdown",
      "source": [
        "## Problem 3: List Average\n",
        "Task: Write a Python function to calculate the average of numbers in a list. Hint: Use the sum() and len() functions. Reference: https://www.w3schools.com/python/python_lists.asp"
      ],
      "metadata": {
        "id": "GpN6u1djU8qG"
      }
    },
    {
      "cell_type": "code",
      "source": [
        "# write your function"
      ],
      "metadata": {
        "id": "ItjBblBGUe-T"
      },
      "execution_count": null,
      "outputs": []
    },
    {
      "cell_type": "code",
      "source": [
        "# test cases"
      ],
      "metadata": {
        "id": "hDECAzWFUfCF"
      },
      "execution_count": null,
      "outputs": []
    },
    {
      "cell_type": "markdown",
      "source": [
        "## Problem 4: Unique Elements in a List\n",
        "Task: Write a Python function to find all unique elements in a list. Hint: Use a set to store unique elements. Reference: https://www.geeksforgeeks.org/python-get-unique-values-list/"
      ],
      "metadata": {
        "id": "yOZfaZSyVjHh"
      }
    },
    {
      "cell_type": "code",
      "source": [
        "# write your function"
      ],
      "metadata": {
        "id": "DY4w7vmVUfFo"
      },
      "execution_count": null,
      "outputs": []
    },
    {
      "cell_type": "code",
      "source": [
        "# test cases"
      ],
      "metadata": {
        "id": "EqMhqLZjVnt3"
      },
      "execution_count": null,
      "outputs": []
    },
    {
      "cell_type": "markdown",
      "source": [
        "## Problem 5: Tuple to String\n",
        "Task: Write a Python function to convert a tuple of characters to a string. Hint: Use the join() method. Reference: https://www.w3schools.com/python/python_tuples.asp"
      ],
      "metadata": {
        "id": "L7VbdLzmVsZO"
      }
    },
    {
      "cell_type": "code",
      "source": [
        "# write your function"
      ],
      "metadata": {
        "id": "KgabopzDVnxp"
      },
      "execution_count": null,
      "outputs": []
    },
    {
      "cell_type": "code",
      "source": [
        "# test cases"
      ],
      "metadata": {
        "id": "P2eqcarSVvYo"
      },
      "execution_count": null,
      "outputs": []
    },
    {
      "cell_type": "markdown",
      "source": [
        "## Problem 6: Dictionary Value Sum\n",
        "Task: Write a Python function to find the sum of all values in a dictionary. Hint: Use the values() method and sum() function. Reference: https://www.geeksforgeeks.org/python-program-to-find-the-sum-of-values-in-a-dictionary/"
      ],
      "metadata": {
        "id": "jRBYIqhAVxlv"
      }
    },
    {
      "cell_type": "code",
      "source": [
        "# write your function"
      ],
      "metadata": {
        "id": "XBmjwG2eVx3e"
      },
      "execution_count": null,
      "outputs": []
    },
    {
      "cell_type": "code",
      "source": [
        "# test cases"
      ],
      "metadata": {
        "id": "Lk7Owlc7Vx7M"
      },
      "execution_count": null,
      "outputs": []
    },
    {
      "cell_type": "markdown",
      "source": [
        "## Problem 7: Vowel Count in String\n",
        "Task: Write a Python function to count the number of vowels in a string. Hint: Use a loop to iterate over the string and a set to store vowels. Reference: https://www.w3schools.com/python/python_for_loops.asp"
      ],
      "metadata": {
        "id": "fBL8iANwWKMY"
      }
    },
    {
      "cell_type": "code",
      "source": [
        "# write your function"
      ],
      "metadata": {
        "id": "GlbNfQh0Vx-0"
      },
      "execution_count": null,
      "outputs": []
    },
    {
      "cell_type": "code",
      "source": [
        "# test cases"
      ],
      "metadata": {
        "id": "nDIvLqnjVyCs"
      },
      "execution_count": null,
      "outputs": []
    },
    {
      "cell_type": "markdown",
      "source": [
        "## Problem 8: Remove Duplicates from List\n",
        "Task: Write a Python function to remove duplicates from a list. Hint: Convert the list to a set and back to a list. Reference: https://www.geeksforgeeks.org/python-remove-duplicates-list/"
      ],
      "metadata": {
        "id": "QgxkIiBsWNgC"
      }
    },
    {
      "cell_type": "code",
      "source": [
        "# write your function"
      ],
      "metadata": {
        "id": "kodH5aoAVyGE"
      },
      "execution_count": null,
      "outputs": []
    },
    {
      "cell_type": "code",
      "source": [
        "# test cases"
      ],
      "metadata": {
        "id": "ZEKWAxyAVyJt"
      },
      "execution_count": null,
      "outputs": []
    },
    {
      "cell_type": "markdown",
      "source": [
        "## Problem 9: Key with Maximum Value\n",
        "Task: Write a Python function to find the key with the maximum value in a dictionary. Hint: Use the max() function with a lambda function. Reference: https://www.w3schools.com/python/python_dictionaries.asp"
      ],
      "metadata": {
        "id": "7wjNlA0lWRNw"
      }
    },
    {
      "cell_type": "code",
      "source": [
        "# write your function"
      ],
      "metadata": {
        "id": "_D6jUpR6WRW3"
      },
      "execution_count": null,
      "outputs": []
    },
    {
      "cell_type": "code",
      "source": [
        "# test cases"
      ],
      "metadata": {
        "id": "NQ3k0Le5WRa0"
      },
      "execution_count": null,
      "outputs": []
    },
    {
      "cell_type": "markdown",
      "source": [
        "## Problem 10: Merge Two Lists\n",
        "Task: Write a Python function to merge two lists into a dictionary, where the first list contains keys and the second list contains values. Hint: Use the zip() function and dict() constructor. Reference: https://www.geeksforgeeks.org/python-convert-two-lists-into-a-dictionary/"
      ],
      "metadata": {
        "id": "2iOGKD9FWXRa"
      }
    },
    {
      "cell_type": "code",
      "source": [
        "# write your function"
      ],
      "metadata": {
        "id": "aekg5urDWRen"
      },
      "execution_count": null,
      "outputs": []
    },
    {
      "cell_type": "code",
      "source": [
        "# test cases"
      ],
      "metadata": {
        "id": "m2xoBc1IWRiU"
      },
      "execution_count": null,
      "outputs": []
    },
    {
      "cell_type": "markdown",
      "source": [
        "# Intermediate Level"
      ],
      "metadata": {
        "id": "I34yOapQWge1"
      }
    },
    {
      "cell_type": "markdown",
      "source": [
        "## Problem 1: LESSER OF TWO EVENS:\n",
        "Write a function that returns the lesser of two given numbers  both numbers are even, but returns the greater if one or both numbers are odd\n",
        "\n",
        "lesser_of_two_evens(2,4) --> 2\n",
        "lesser_of_two_evens(2,5) --> 5\n"
      ],
      "metadata": {
        "id": "fZ0ePamtWdft"
      }
    },
    {
      "cell_type": "code",
      "source": [
        "# write your function"
      ],
      "metadata": {
        "id": "RzqsuCusWRlz"
      },
      "execution_count": null,
      "outputs": []
    },
    {
      "cell_type": "code",
      "source": [
        "# test cases"
      ],
      "metadata": {
        "id": "VkZ00lY8WRpr"
      },
      "execution_count": null,
      "outputs": []
    },
    {
      "cell_type": "markdown",
      "source": [
        "## Problem 2: ANIMAL CRACKERS:\n",
        "Write a function takes a two-word string and returns True if both words begin with same letter\n",
        "animal_crackers('Levelheaded Llama') --> True\n",
        "animal_crackers('Crazy Kangaroo') --> False"
      ],
      "metadata": {
        "id": "NbJJHv-qtY61"
      }
    },
    {
      "cell_type": "code",
      "source": [
        "# write your function"
      ],
      "metadata": {
        "id": "KFYSsZ0mtXGP"
      },
      "execution_count": null,
      "outputs": []
    },
    {
      "cell_type": "code",
      "source": [
        "# test cases"
      ],
      "metadata": {
        "id": "1jGTtyyctXJx"
      },
      "execution_count": null,
      "outputs": []
    },
    {
      "cell_type": "markdown",
      "source": [
        "## Problem 3: MAKES TWENTY:\n",
        "\n",
        "Given two integers, return True if the sum of the integers is 20 *or* if one of the integers is 20. If not, return False\n",
        "\n",
        "\n",
        "makes_twenty(20,10) --> True\n",
        "makes_twenty(12,8) --> True\n",
        "makes_twenty(2,3) --> False"
      ],
      "metadata": {
        "id": "i8C9gn7OtZ3Z"
      }
    },
    {
      "cell_type": "code",
      "source": [
        "# write your function"
      ],
      "metadata": {
        "id": "lht7y10JtXM9"
      },
      "execution_count": null,
      "outputs": []
    },
    {
      "cell_type": "code",
      "source": [
        "# test cases"
      ],
      "metadata": {
        "id": "fYfzHIeRtXQT"
      },
      "execution_count": null,
      "outputs": []
    },
    {
      "cell_type": "markdown",
      "source": [
        "## Problem 4: OLD MACDONALD:\n",
        "\n",
        "Write a function that capitalizes the first and fourth letters of a name\n",
        "\n",
        "old_macdonald('macdonald') --> MacDonald\n",
        "Note: `'macdonald'.capitalize()` returns `'Macdonald'`"
      ],
      "metadata": {
        "id": "eOaRxuxBtalz"
      }
    },
    {
      "cell_type": "code",
      "source": [
        "# write your function"
      ],
      "metadata": {
        "id": "nbU_VAR6tXTs"
      },
      "execution_count": null,
      "outputs": []
    },
    {
      "cell_type": "code",
      "source": [
        "# test cases"
      ],
      "metadata": {
        "id": "jeOfwQbXtXW3"
      },
      "execution_count": null,
      "outputs": []
    },
    {
      "cell_type": "markdown",
      "source": [
        "## Problem 5: MASTER YODA:\n",
        "\n",
        "Given a sentence, return a sentence with the words reversed\n",
        "\n",
        "\n",
        "master_yoda('I am home') --> 'home am I'\n",
        "\n",
        "master_yoda('We are ready') --> 'ready are We'\n",
        "\n",
        "Note: The .join() method may be useful here. The .join() method allows you to join together strings in a list with some connector string. For example, some uses of the .join() method:\n",
        "\n",
        ">>> \"--\".join(['a','b','c'])\n",
        ">>> 'a--b--c'\n",
        "\n",
        "This means if you had a list of words you wanted to turn back into a sentence, you could just join them with a single space string:\n",
        "\n",
        ">>> \" \".join(['Hello','world'])\n",
        ">>> \"Hello world\""
      ],
      "metadata": {
        "id": "QMZM9DI2tbfM"
      }
    },
    {
      "cell_type": "code",
      "source": [
        "# write your function"
      ],
      "metadata": {
        "id": "Nm9brQnVtXaJ"
      },
      "execution_count": null,
      "outputs": []
    },
    {
      "cell_type": "code",
      "source": [
        "# test cases"
      ],
      "metadata": {
        "id": "18-wddjEtXdj"
      },
      "execution_count": null,
      "outputs": []
    },
    {
      "cell_type": "markdown",
      "source": [
        "## Problem 6: PAPER DOLL:\n",
        "\n",
        "Given a string, return a string where for every character in the original there are three characters\n",
        "\n",
        "\n",
        "paper_doll('Hello') --> 'HHHeeellllllooo'\n",
        "\n",
        "paper_doll('Mississippi') --> 'MMMiiissssssiiippppppiii'"
      ],
      "metadata": {
        "id": "HrzOQQtWt2FZ"
      }
    },
    {
      "cell_type": "code",
      "source": [
        "# write your function"
      ],
      "metadata": {
        "id": "qLx6trVFt2RR"
      },
      "execution_count": null,
      "outputs": []
    },
    {
      "cell_type": "code",
      "source": [
        "# test cases"
      ],
      "metadata": {
        "id": "1ueeCRGzt2VI"
      },
      "execution_count": null,
      "outputs": []
    },
    {
      "cell_type": "markdown",
      "source": [
        "## Problem 7: BLACKJACK:\n",
        "\n",
        "Given three integers between 1 and 11, if their sum is less than or equal to 21, return their sum. If their sum exceeds 21 *and* there's an eleven, reduce the total sum by 10.\n",
        "\n",
        "Finally, if the sum (even after adjustment) exceeds 21, return 'BUST'\n",
        "\n",
        "blackjack(5,6,7) --> 18\n",
        "\n",
        "blackjack(9,9,9) --> 'BUST'\n",
        "\n",
        "blackjack(9,9,11) --> 19"
      ],
      "metadata": {
        "id": "jY_4SyJwt2hd"
      }
    },
    {
      "cell_type": "code",
      "source": [
        "# write your function"
      ],
      "metadata": {
        "id": "Hs5NqFwkt2q2"
      },
      "execution_count": null,
      "outputs": []
    },
    {
      "cell_type": "code",
      "source": [
        "# test cases"
      ],
      "metadata": {
        "id": "qXzg3udIt2up"
      },
      "execution_count": null,
      "outputs": []
    },
    {
      "cell_type": "markdown",
      "source": [
        "## Problem 8: SPY GAME:\n",
        "\n",
        "Write a function that takes in a list of integers and returns True if it contains 007 in order\n",
        "\n",
        "spy_game([1,2,4,0,0,7,5]) --> True\n",
        "\n",
        "spy_game([1,0,2,4,0,5,7]) --> True\n",
        "\n",
        "spy_game([1,7,2,0,4,5,0]) --> False"
      ],
      "metadata": {
        "id": "m0OGBzbBt24R"
      }
    },
    {
      "cell_type": "code",
      "source": [
        "# write your function"
      ],
      "metadata": {
        "id": "T-4Z-LiQt2_k"
      },
      "execution_count": null,
      "outputs": []
    },
    {
      "cell_type": "code",
      "source": [
        "# test cases"
      ],
      "metadata": {
        "id": "zgUECfHYt3DO"
      },
      "execution_count": null,
      "outputs": []
    },
    {
      "cell_type": "markdown",
      "source": [
        "## Problem 9: SUMMER OF '69:\n",
        "\n",
        "Return the sum of the numbers in the array, except ignore sections of numbers starting with a 6 and extending to the next 9 (every 6 will be followed by at least one 9). Return 0 for no numbers.\n",
        "\n",
        "summer_69([1, 3, 5]) --> 9\n",
        "\n",
        "summer_69([4, 5, 6, 7, 8, 9]) --> 9\n",
        "\n",
        "summer_69([2, 1, 6, 9, 11]) --> 14"
      ],
      "metadata": {
        "id": "v4HBwkqGt3Pk"
      }
    },
    {
      "cell_type": "code",
      "source": [
        "# write your function"
      ],
      "metadata": {
        "id": "ym-81M2PuNMC"
      },
      "execution_count": null,
      "outputs": []
    },
    {
      "cell_type": "code",
      "source": [
        "# test cases"
      ],
      "metadata": {
        "id": "060pl_ZGuNQj"
      },
      "execution_count": null,
      "outputs": []
    },
    {
      "cell_type": "markdown",
      "source": [
        "## Problem 10: COUNT PRIMES:\n",
        "\n",
        "Write a function that returns the *number* of prime numbers that exist up to and including a given number\n",
        "\n",
        "count_primes(100) --> 25\n",
        "\n",
        "By convention, 0 and 1 are not prime."
      ],
      "metadata": {
        "id": "PdlGr9wluNdl"
      }
    },
    {
      "cell_type": "code",
      "source": [
        "# write your function"
      ],
      "metadata": {
        "id": "zKHTnBpfuNqh"
      },
      "execution_count": null,
      "outputs": []
    },
    {
      "cell_type": "code",
      "source": [
        "# test cases"
      ],
      "metadata": {
        "id": "wnJBGReVuNuQ"
      },
      "execution_count": null,
      "outputs": []
    },
    {
      "cell_type": "markdown",
      "source": [
        "## Problem 11: UP LOW:\n",
        "\n",
        "Write a Python function that accepts a string and calculates the number of upper case letters and lower case letters.Sample String : 'Hello Mr. Rogers, how are you this fine Tuesday?'\n",
        "\n",
        "Expected Output :\n",
        "\n",
        "No. of Upper case characters : 4\n",
        "\n",
        "No. of Lower case Characters : 33\n",
        "\n",
        "HINT: Two string methods that might prove useful:  and\n",
        "If you feel ambitious, explore the Collections module to solve this problem!\n"
      ],
      "metadata": {
        "id": "7Z-ft0LbuN8p"
      }
    },
    {
      "cell_type": "code",
      "source": [
        "# write your function"
      ],
      "metadata": {
        "id": "v2QxqTxguOHo"
      },
      "execution_count": null,
      "outputs": []
    },
    {
      "cell_type": "code",
      "source": [
        "# test cases"
      ],
      "metadata": {
        "id": "QwPEkd4YuOLa"
      },
      "execution_count": null,
      "outputs": []
    },
    {
      "cell_type": "markdown",
      "source": [
        "## Problem 12: unique_list:\n",
        "\n",
        "Write a Python function that takes a list and returns a new list with unique elements of the first list.\n",
        "\n",
        "Sample List : [1,1,1,1,2,2,3,3,3,3,4,5]\n",
        "\n",
        "Unique List : [1, 2, 3, 4, 5]"
      ],
      "metadata": {
        "id": "GHzsepfuuOV2"
      }
    },
    {
      "cell_type": "code",
      "source": [
        "# write your function"
      ],
      "metadata": {
        "id": "-loOiKUKug8u"
      },
      "execution_count": null,
      "outputs": []
    },
    {
      "cell_type": "code",
      "source": [
        "# test cases"
      ],
      "metadata": {
        "id": "ZiKbFVPSuhAV"
      },
      "execution_count": null,
      "outputs": []
    },
    {
      "cell_type": "markdown",
      "source": [
        "## Problem 13: palindrome:\n",
        "\n",
        "Write a Python function that checks whether a word or phrase is palindrome or not.\n",
        "\n",
        "Note: A palindrome is word, phrase, or sequence that reads the same backward as forward,\n",
        "\n",
        "e.g., madam,kayak,racecar, or a phrase \"nurses run\".\n",
        "\n",
        "Hint: You may want to check out the .replace() method in a string to help out with dealing with spaces. Also google search how to reverse a string in Python, there are some clever ways to do it with slicing notation."
      ],
      "metadata": {
        "id": "JvmIMouhuhIj"
      }
    },
    {
      "cell_type": "code",
      "source": [
        "# write your function"
      ],
      "metadata": {
        "id": "jLHGpdtHuhQk"
      },
      "execution_count": null,
      "outputs": []
    },
    {
      "cell_type": "code",
      "source": [
        "# test cases"
      ],
      "metadata": {
        "id": "JfP-bAmXuhU9"
      },
      "execution_count": null,
      "outputs": []
    },
    {
      "cell_type": "markdown",
      "source": [
        "## Problem 14: ispangram:\n",
        "\n",
        "Write a Python function to check whether a string is pangram or not. (Assume the string passed in does not have any punctuation)\n",
        "\n",
        "Note : Pangrams are words or sentences containing every letter of the alphabet at least once.\n",
        "For example : \"The quick brown fox jumps over the lazy dog\"\n",
        "\n",
        "Hint: You may want to use .replace() method to get rid of spaces.\n",
        "\n",
        "Hint: Look at the string module\n",
        "\n",
        "Hint: In case you want to use set comparisons"
      ],
      "metadata": {
        "id": "0yww8uXvuhcm"
      }
    },
    {
      "cell_type": "code",
      "source": [
        "# write your function"
      ],
      "metadata": {
        "id": "fGsh216quiv0"
      },
      "execution_count": null,
      "outputs": []
    },
    {
      "cell_type": "code",
      "source": [
        "# test cases"
      ],
      "metadata": {
        "id": "TF1AJDnXuizt"
      },
      "execution_count": null,
      "outputs": []
    },
    {
      "cell_type": "markdown",
      "source": [
        "# Great Job !"
      ],
      "metadata": {
        "id": "tSSixzn3u3YS"
      }
    },
    {
      "cell_type": "code",
      "source": [],
      "metadata": {
        "id": "LCz_VfQTu4rR"
      },
      "execution_count": null,
      "outputs": []
    }
  ]
}