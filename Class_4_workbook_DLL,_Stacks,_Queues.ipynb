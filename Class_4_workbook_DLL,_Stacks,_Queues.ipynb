{
  "nbformat": 4,
  "nbformat_minor": 0,
  "metadata": {
    "colab": {
      "provenance": [],
      "authorship_tag": "ABX9TyMlZ/m3lifBVFQqaVOS8d2b",
      "include_colab_link": true
    },
    "kernelspec": {
      "name": "python3",
      "display_name": "Python 3"
    },
    "language_info": {
      "name": "python"
    }
  },
  "cells": [
    {
      "cell_type": "markdown",
      "metadata": {
        "id": "view-in-github",
        "colab_type": "text"
      },
      "source": [
        "<a href=\"https://colab.research.google.com/github/niladribanerjee80/DSA-Class/blob/main/Class_4_workbook_DLL%2C_Stacks%2C_Queues.ipynb\" target=\"_parent\"><img src=\"https://colab.research.google.com/assets/colab-badge.svg\" alt=\"Open In Colab\"/></a>"
      ]
    },
    {
      "cell_type": "code",
      "source": [
        "import graphviz\n",
        "dot = graphviz.Digraph()"
      ],
      "metadata": {
        "id": "AKt1HkFL7BKq"
      },
      "execution_count": null,
      "outputs": []
    },
    {
      "cell_type": "code",
      "execution_count": 55,
      "metadata": {
        "id": "M3U6Xk2K498I"
      },
      "outputs": [],
      "source": [
        "import graphviz\n",
        "\n",
        "class Node:\n",
        "\n",
        "    def __init__(self,value):\n",
        "        self.value = value\n",
        "        self.next = None\n",
        "        self.prev = None\n",
        "\n",
        "class DLL:\n",
        "\n",
        "    def __init__(self,value):\n",
        "        new_node = Node(value)\n",
        "        self.head = new_node\n",
        "        self.tail = new_node\n",
        "        self.length = 1\n",
        "\n",
        "    def append(self,value):\n",
        "        new_node = Node(value)\n",
        "\n",
        "        if self.length == 0:\n",
        "            self.head = new_node\n",
        "            self.tail = new_node\n",
        "        else:\n",
        "            self.tail.next = new_node\n",
        "            new_node.prev = self.tail\n",
        "            self.tail = new_node\n",
        "\n",
        "        self.length += 1\n",
        "        return True\n",
        "\n",
        "    def print_list(self,msg = \"DLL created\"):\n",
        "        print(\"--------------\")\n",
        "        print(msg)\n",
        "        print(\"--------------\")\n",
        "\n",
        "        temp = self.head\n",
        "        print(\"Start\", end = \" <- \")\n",
        "        while temp:\n",
        "            if temp == self.tail:\n",
        "                print(temp.value, end = \" -> End\")\n",
        "            else:\n",
        "                print(temp.value, end = \" <-> \")\n",
        "            temp = temp.next\n",
        "\n",
        "        print(\"\\n\")\n",
        "        print(\"Head   :=> \",self.head.value)\n",
        "        print(\"Tail   :=> \",self.tail.value)\n",
        "        print(\"Length :=> \",self.length)\n",
        "\n",
        "    def print_graph(self,msg = \"Graph created\"):\n",
        "        pass\n",
        "\n",
        "    def pop(self):\n",
        "        pass\n",
        "\n",
        "    def prepend(self,value):\n",
        "        pass\n",
        "\n",
        "    def pop_first(self):\n",
        "        pass\n",
        "\n",
        "    def get(self,index):\n",
        "        pass\n",
        "\n",
        "    def set_value(self,index,value):\n",
        "        pass\n",
        "\n",
        "    def insert(self,index,value):\n",
        "        pass\n",
        "\n",
        "    def remove(self,index):\n",
        "        pass"
      ]
    },
    {
      "cell_type": "code",
      "source": [],
      "metadata": {
        "id": "CHELn_8HPe3y"
      },
      "execution_count": null,
      "outputs": []
    },
    {
      "cell_type": "code",
      "source": [],
      "metadata": {
        "id": "zwkz-Jmeopbk"
      },
      "execution_count": null,
      "outputs": []
    },
    {
      "cell_type": "code",
      "source": [],
      "metadata": {
        "id": "K9qF9lNWopfa"
      },
      "execution_count": null,
      "outputs": []
    },
    {
      "cell_type": "code",
      "source": [],
      "metadata": {
        "id": "uUBFzIkZopjH"
      },
      "execution_count": null,
      "outputs": []
    },
    {
      "cell_type": "code",
      "source": [],
      "metadata": {
        "id": "loW8sLgWopnB"
      },
      "execution_count": null,
      "outputs": []
    },
    {
      "cell_type": "code",
      "source": [],
      "metadata": {
        "id": "t_MxvHmCopqv"
      },
      "execution_count": null,
      "outputs": []
    },
    {
      "cell_type": "code",
      "source": [],
      "metadata": {
        "id": "V_z85fv1opuW"
      },
      "execution_count": null,
      "outputs": []
    },
    {
      "cell_type": "code",
      "source": [],
      "metadata": {
        "id": "34Q78Xc2opx_"
      },
      "execution_count": null,
      "outputs": []
    },
    {
      "cell_type": "code",
      "source": [],
      "metadata": {
        "id": "OBbx8xrCop1k"
      },
      "execution_count": null,
      "outputs": []
    },
    {
      "cell_type": "code",
      "source": [],
      "metadata": {
        "id": "aoVOlACvop4_"
      },
      "execution_count": null,
      "outputs": []
    },
    {
      "cell_type": "code",
      "source": [],
      "metadata": {
        "id": "frLza_3Hop8U"
      },
      "execution_count": null,
      "outputs": []
    },
    {
      "cell_type": "code",
      "source": [],
      "metadata": {
        "id": "H9UOf3uuop_w"
      },
      "execution_count": null,
      "outputs": []
    },
    {
      "cell_type": "code",
      "source": [],
      "metadata": {
        "id": "P2Ff0830oqDH"
      },
      "execution_count": null,
      "outputs": []
    },
    {
      "cell_type": "code",
      "source": [],
      "metadata": {
        "id": "F4UqgUpxoqGx"
      },
      "execution_count": null,
      "outputs": []
    },
    {
      "cell_type": "code",
      "source": [],
      "metadata": {
        "id": "dUwo-yU4oqKO"
      },
      "execution_count": null,
      "outputs": []
    },
    {
      "cell_type": "code",
      "source": [],
      "metadata": {
        "id": "wiD3B1asoqNr"
      },
      "execution_count": null,
      "outputs": []
    },
    {
      "cell_type": "code",
      "source": [],
      "metadata": {
        "id": "_5tz8Z4WoqRH"
      },
      "execution_count": null,
      "outputs": []
    },
    {
      "cell_type": "markdown",
      "source": [
        "# Stacks"
      ],
      "metadata": {
        "id": "0EHHAWl_PbaG"
      }
    },
    {
      "cell_type": "code",
      "source": [
        "class Node:\n",
        "    def __init__(self,value):\n",
        "        pass\n",
        "\n",
        "class Stack:\n",
        "    def __init__(self,value):\n",
        "        pass\n",
        "\n",
        "    def print_stack(self):\n",
        "        pass\n",
        "\n",
        "    def push(self,value):\n",
        "        pass\n",
        "\n",
        "    def pop(self):\n",
        "        pass"
      ],
      "metadata": {
        "id": "uRaEAvZw-aAo"
      },
      "execution_count": 54,
      "outputs": []
    },
    {
      "cell_type": "code",
      "source": [],
      "metadata": {
        "id": "9MBcg8K0o0C0"
      },
      "execution_count": null,
      "outputs": []
    },
    {
      "cell_type": "code",
      "source": [],
      "metadata": {
        "id": "hJ4sa-nFo0Gm"
      },
      "execution_count": null,
      "outputs": []
    },
    {
      "cell_type": "code",
      "source": [],
      "metadata": {
        "id": "QJVgoYKao0N7"
      },
      "execution_count": null,
      "outputs": []
    },
    {
      "cell_type": "code",
      "source": [],
      "metadata": {
        "id": "mIYG1ceTo0RZ"
      },
      "execution_count": null,
      "outputs": []
    },
    {
      "cell_type": "code",
      "source": [],
      "metadata": {
        "id": "mXmutDOCo0U9"
      },
      "execution_count": null,
      "outputs": []
    },
    {
      "cell_type": "code",
      "source": [],
      "metadata": {
        "id": "zU-H2-JXo0Yc"
      },
      "execution_count": null,
      "outputs": []
    },
    {
      "cell_type": "code",
      "source": [],
      "metadata": {
        "id": "WbiI0MZAo0cB"
      },
      "execution_count": null,
      "outputs": []
    },
    {
      "cell_type": "markdown",
      "source": [
        "# Queues"
      ],
      "metadata": {
        "id": "LuhV09uZPo1V"
      }
    },
    {
      "cell_type": "code",
      "source": [
        "class Node:\n",
        "    def __init__(self,value):\n",
        "        pass\n",
        "\n",
        "class Queue:\n",
        "    def __init__(self,value):\n",
        "        pass\n",
        "\n",
        "    def make_empty(self):\n",
        "        pass\n",
        "\n",
        "    def print_queue(self,msg = \"Queue created : \"):\n",
        "        pass\n",
        "\n",
        "    def enqueue(self,value):\n",
        "        pass\n",
        "\n",
        "    def dequeue(self):\n",
        "        pass"
      ],
      "metadata": {
        "id": "xlwUluPdPoF-"
      },
      "execution_count": 43,
      "outputs": []
    },
    {
      "cell_type": "code",
      "source": [],
      "metadata": {
        "id": "OM92l68RPoYw"
      },
      "execution_count": null,
      "outputs": []
    },
    {
      "cell_type": "code",
      "source": [],
      "metadata": {
        "id": "v_5rEF07Pocn"
      },
      "execution_count": null,
      "outputs": []
    }
  ]
}