{
  "nbformat": 4,
  "nbformat_minor": 0,
  "metadata": {
    "colab": {
      "provenance": [],
      "authorship_tag": "ABX9TyNpBMUUtBYkuHRd716ZDVVQ",
      "include_colab_link": true
    },
    "kernelspec": {
      "name": "python3",
      "display_name": "Python 3"
    },
    "language_info": {
      "name": "python"
    }
  },
  "cells": [
    {
      "cell_type": "markdown",
      "metadata": {
        "id": "view-in-github",
        "colab_type": "text"
      },
      "source": [
        "<a href=\"https://colab.research.google.com/github/niladribanerjee80/DSA-Class/blob/main/Class_4_workbook_DLL%2C_Stacks%2C_Queues.ipynb\" target=\"_parent\"><img src=\"https://colab.research.google.com/assets/colab-badge.svg\" alt=\"Open In Colab\"/></a>"
      ]
    },
    {
      "cell_type": "code",
      "source": [
        "import graphviz\n",
        "dot = graphviz.Digraph()"
      ],
      "metadata": {
        "id": "AKt1HkFL7BKq"
      },
      "execution_count": null,
      "outputs": []
    },
    {
      "cell_type": "code",
      "execution_count": 40,
      "metadata": {
        "id": "M3U6Xk2K498I"
      },
      "outputs": [],
      "source": [
        "import graphviz\n",
        "\n",
        "class Node:\n",
        "\n",
        "    def __init__(self,value):\n",
        "        self.value = value\n",
        "        self.next = None\n",
        "        self.prev = None\n",
        "\n",
        "class DLL:\n",
        "\n",
        "    def __init__(self,value):\n",
        "        new_node = Node(value)\n",
        "        self.head = new_node\n",
        "        self.tail = new_node\n",
        "        self.length = 1\n",
        "\n",
        "    def append(self,value):\n",
        "        new_node = Node(value)\n",
        "\n",
        "        if self.length == 0:\n",
        "            self.head = new_node\n",
        "            self.tail = new_node\n",
        "        else:\n",
        "            self.tail.next = new_node\n",
        "            new_node.prev = self.tail\n",
        "            self.tail = new_node\n",
        "\n",
        "        self.length += 1\n",
        "        return True\n",
        "\n",
        "    def print_list(self,msg = \"DLL created\"):\n",
        "        print(\"--------------\")\n",
        "        print(msg)\n",
        "        print(\"--------------\")\n",
        "\n",
        "        temp = self.head\n",
        "        print(\"Start\", end = \" <- \")\n",
        "        while temp:\n",
        "            if temp == self.tail:\n",
        "                print(temp.value, end = \" -> End\")\n",
        "            else:\n",
        "                print(temp.value, end = \" <-> \")\n",
        "            temp = temp.next\n",
        "\n",
        "        print(\"\\n\")\n",
        "        print(\"Head   :=> \",self.head.value)\n",
        "        print(\"Tail   :=> \",self.tail.value)\n",
        "        print(\"Length :=> \",self.length)\n",
        "\n",
        "    def print_graph(self,msg = \"Graph created\"):\n",
        "        pass\n",
        "\n",
        "    def pop(self):\n",
        "        pass\n",
        "\n",
        "    def prepend(self,value):\n",
        "        pass\n",
        "\n",
        "    def pop_first(self):\n",
        "        pass\n",
        "\n",
        "    def get(self,index):\n",
        "        pass\n",
        "\n",
        "    def set_value(self,index,value):\n",
        "        pass\n",
        "\n",
        "    def insert(self,index,value):\n",
        "        pass\n",
        "\n",
        "    def remove(self,index):\n",
        "        pass"
      ]
    },
    {
      "cell_type": "code",
      "source": [],
      "metadata": {
        "id": "CHELn_8HPe3y"
      },
      "execution_count": null,
      "outputs": []
    },
    {
      "cell_type": "code",
      "source": [],
      "metadata": {
        "id": "zwkz-Jmeopbk"
      },
      "execution_count": null,
      "outputs": []
    },
    {
      "cell_type": "code",
      "source": [],
      "metadata": {
        "id": "K9qF9lNWopfa"
      },
      "execution_count": null,
      "outputs": []
    },
    {
      "cell_type": "code",
      "source": [],
      "metadata": {
        "id": "uUBFzIkZopjH"
      },
      "execution_count": null,
      "outputs": []
    },
    {
      "cell_type": "code",
      "source": [],
      "metadata": {
        "id": "loW8sLgWopnB"
      },
      "execution_count": null,
      "outputs": []
    },
    {
      "cell_type": "code",
      "source": [],
      "metadata": {
        "id": "t_MxvHmCopqv"
      },
      "execution_count": null,
      "outputs": []
    },
    {
      "cell_type": "code",
      "source": [],
      "metadata": {
        "id": "V_z85fv1opuW"
      },
      "execution_count": null,
      "outputs": []
    },
    {
      "cell_type": "code",
      "source": [],
      "metadata": {
        "id": "34Q78Xc2opx_"
      },
      "execution_count": null,
      "outputs": []
    },
    {
      "cell_type": "code",
      "source": [],
      "metadata": {
        "id": "OBbx8xrCop1k"
      },
      "execution_count": null,
      "outputs": []
    },
    {
      "cell_type": "code",
      "source": [],
      "metadata": {
        "id": "aoVOlACvop4_"
      },
      "execution_count": null,
      "outputs": []
    },
    {
      "cell_type": "code",
      "source": [],
      "metadata": {
        "id": "frLza_3Hop8U"
      },
      "execution_count": null,
      "outputs": []
    },
    {
      "cell_type": "code",
      "source": [],
      "metadata": {
        "id": "H9UOf3uuop_w"
      },
      "execution_count": null,
      "outputs": []
    },
    {
      "cell_type": "code",
      "source": [],
      "metadata": {
        "id": "P2Ff0830oqDH"
      },
      "execution_count": null,
      "outputs": []
    },
    {
      "cell_type": "code",
      "source": [],
      "metadata": {
        "id": "F4UqgUpxoqGx"
      },
      "execution_count": null,
      "outputs": []
    },
    {
      "cell_type": "code",
      "source": [],
      "metadata": {
        "id": "dUwo-yU4oqKO"
      },
      "execution_count": null,
      "outputs": []
    },
    {
      "cell_type": "code",
      "source": [],
      "metadata": {
        "id": "wiD3B1asoqNr"
      },
      "execution_count": null,
      "outputs": []
    },
    {
      "cell_type": "code",
      "source": [],
      "metadata": {
        "id": "_5tz8Z4WoqRH"
      },
      "execution_count": null,
      "outputs": []
    },
    {
      "cell_type": "markdown",
      "source": [
        "# Stacks"
      ],
      "metadata": {
        "id": "0EHHAWl_PbaG"
      }
    },
    {
      "cell_type": "code",
      "source": [
        "class Node:\n",
        "\n",
        "    def __init__(self,value):\n",
        "        self.value = value\n",
        "        self.next = None\n",
        "\n",
        "class Stack:\n",
        "\n",
        "    def __init__(self,value):\n",
        "        new_node = Node(value)\n",
        "        self.top = new_node\n",
        "        self.height = 1\n",
        "\n",
        "    def print_stack(self):\n",
        "        temp = self.top\n",
        "\n",
        "        while temp is not None:\n",
        "            print(temp.value)\n",
        "            temp = temp.next\n",
        "\n",
        "    def push(self,value):\n",
        "        # create a new node\n",
        "        new_node = Node(value)\n",
        "\n",
        "        # current top\n",
        "        temp = self.top\n",
        "\n",
        "        self.top = new_node\n",
        "        new_node.next = temp\n",
        "\n",
        "        self.height += 1\n",
        "\n",
        "    def pop(self):\n",
        "\n",
        "        if self.height == 0:\n",
        "            return None\n",
        "\n",
        "        # collect the node\n",
        "        temp = self.top\n",
        "\n",
        "        # move the head pointer\n",
        "        self.top = temp.next\n",
        "\n",
        "        # ensure the next is dettached from temp\n",
        "        temp.next = None\n",
        "\n",
        "        # adjust the height\n",
        "        self.height -= 1\n",
        "\n",
        "        return temp"
      ],
      "metadata": {
        "id": "uRaEAvZw-aAo"
      },
      "execution_count": null,
      "outputs": []
    },
    {
      "cell_type": "markdown",
      "source": [
        "# Queues"
      ],
      "metadata": {
        "id": "LuhV09uZPo1V"
      }
    },
    {
      "cell_type": "code",
      "source": [
        "class Node:\n",
        "\n",
        "    def __init__(self,value):\n",
        "        self.value = value\n",
        "        self.next = None\n",
        "\n",
        "class Queue:\n",
        "\n",
        "    def __init__(self,value):\n",
        "        # create a new node\n",
        "        new_node = Node(value)\n",
        "        self.first = new_node\n",
        "        self.last = new_node\n",
        "        self.length = 1\n",
        "\n",
        "    def make_empty(self):\n",
        "        self.first = None\n",
        "        self.last = None\n",
        "        self.length = 0\n",
        "\n",
        "    def print_queue(self,msg = \"Queue created : \"):\n",
        "        print(\"--------------\")\n",
        "        print(msg)\n",
        "\n",
        "        temp = self.first\n",
        "\n",
        "        while temp is not None:\n",
        "            print(temp.value)\n",
        "            temp = temp.next\n",
        "\n",
        "        print('\\n')\n",
        "        print(f\"Queue Length = {self.length}\")\n",
        "        if self.first:\n",
        "            print(f\"Queue First = {self.first.value}\")\n",
        "        else:\n",
        "            print(\"Queue First = None\")\n",
        "\n",
        "        if self.last:\n",
        "            print(f\"Queue Last = {self.last.value}\")\n",
        "        else:\n",
        "            print(\"Queue Last = None\")\n",
        "\n",
        "    def enqueue(self,value):\n",
        "        # create a new node\n",
        "        new_node = Node(value)\n",
        "\n",
        "        if self.length == 0:\n",
        "            self.first = new_node\n",
        "            self.last = new_node\n",
        "        else:\n",
        "            temp = self.last\n",
        "            temp.next = new_node\n",
        "            self.last = new_node\n",
        "\n",
        "        self.length += 1\n",
        "        return True\n",
        "\n",
        "    def dequeue(self):\n",
        "\n",
        "        if self.first is None:\n",
        "            return None\n",
        "\n",
        "        temp = self.first\n",
        "\n",
        "        if self.length == 1:\n",
        "            self.first = None\n",
        "            self.last = None\n",
        "        else:\n",
        "            self.first = temp.next\n",
        "\n",
        "        temp.next = None\n",
        "        self.length -= 1\n",
        "\n",
        "        return temp"
      ],
      "metadata": {
        "id": "xlwUluPdPoF-"
      },
      "execution_count": null,
      "outputs": []
    },
    {
      "cell_type": "code",
      "source": [],
      "metadata": {
        "id": "0bZzXWNDPoKG"
      },
      "execution_count": null,
      "outputs": []
    },
    {
      "cell_type": "code",
      "source": [],
      "metadata": {
        "id": "LpjXOdVPPoNx"
      },
      "execution_count": null,
      "outputs": []
    },
    {
      "cell_type": "code",
      "source": [],
      "metadata": {
        "id": "a2lTDg4DPoRU"
      },
      "execution_count": null,
      "outputs": []
    },
    {
      "cell_type": "code",
      "source": [],
      "metadata": {
        "id": "KMR3VLlcPoU8"
      },
      "execution_count": null,
      "outputs": []
    },
    {
      "cell_type": "code",
      "source": [],
      "metadata": {
        "id": "OM92l68RPoYw"
      },
      "execution_count": null,
      "outputs": []
    },
    {
      "cell_type": "code",
      "source": [],
      "metadata": {
        "id": "v_5rEF07Pocn"
      },
      "execution_count": null,
      "outputs": []
    }
  ]
}