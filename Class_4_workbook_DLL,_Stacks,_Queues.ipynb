{
  "nbformat": 4,
  "nbformat_minor": 0,
  "metadata": {
    "colab": {
      "provenance": [],
      "authorship_tag": "ABX9TyMGT4xBRNIBAJKF5Q1+CWRb",
      "include_colab_link": true
    },
    "kernelspec": {
      "name": "python3",
      "display_name": "Python 3"
    },
    "language_info": {
      "name": "python"
    }
  },
  "cells": [
    {
      "cell_type": "markdown",
      "metadata": {
        "id": "view-in-github",
        "colab_type": "text"
      },
      "source": [
        "<a href=\"https://colab.research.google.com/github/niladribanerjee80/DSA-Class/blob/main/Class_4_workbook_DLL%2C_Stacks%2C_Queues.ipynb\" target=\"_parent\"><img src=\"https://colab.research.google.com/assets/colab-badge.svg\" alt=\"Open In Colab\"/></a>"
      ]
    },
    {
      "cell_type": "code",
      "source": [
        "import graphviz\n",
        "dot = graphviz.Digraph()"
      ],
      "metadata": {
        "id": "AKt1HkFL7BKq"
      },
      "execution_count": null,
      "outputs": []
    },
    {
      "cell_type": "code",
      "execution_count": null,
      "metadata": {
        "id": "M3U6Xk2K498I"
      },
      "outputs": [],
      "source": [
        "import graphviz\n",
        "\n",
        "class Node:\n",
        "\n",
        "    def __init__(self,value):\n",
        "        self.value = value\n",
        "        self.next = None\n",
        "        self.prev = None\n",
        "\n",
        "class DLL:\n",
        "\n",
        "    def __init__(self,value):\n",
        "        new_node = Node(value)\n",
        "        self.head = new_node\n",
        "        self.tail = new_node\n",
        "        self.length = 1\n",
        "\n",
        "    def append(self,value):\n",
        "        new_node = Node(value)\n",
        "\n",
        "        if self.length == 0:\n",
        "            self.head = new_node\n",
        "            self.tail = new_node\n",
        "        else:\n",
        "            self.tail.next = new_node\n",
        "            new_node.prev = self.tail\n",
        "            self.tail = new_node\n",
        "\n",
        "        self.length += 1\n",
        "        return True\n",
        "\n",
        "    def print_list(self,msg = \"DLL created\"):\n",
        "        print(\"--------------\")\n",
        "        print(msg)\n",
        "        print(\"--------------\")\n",
        "\n",
        "        temp = self.head\n",
        "        print(\"Start\", end = \" <- \")\n",
        "        while temp:\n",
        "            if temp == self.tail:\n",
        "                print(temp.value, end = \" -> End\")\n",
        "            else:\n",
        "                print(temp.value, end = \" <-> \")\n",
        "            temp = temp.next\n",
        "\n",
        "        print(\"\\n\")\n",
        "        print(\"Head   :=> \",self.head.value)\n",
        "        print(\"Tail   :=> \",self.tail.value)\n",
        "        print(\"Length :=> \",self.length)\n",
        "\n",
        "    def print_graph(self,msg = \"Graph created\"):\n",
        "        dot = graphviz.Digraph()\n",
        "        dot.attr(rankdir=\"LR\")\n",
        "\n",
        "        temp = self.head\n",
        "        index = 0\n",
        "\n",
        "        while temp:\n",
        "            label = f\"{temp.value} (index={index})\"\n",
        "\n",
        "            if self.length == 1:\n",
        "                dot.node(str(temp.value), label, fillcolor = \"aqua\", style = \"filled\")\n",
        "            else:\n",
        "                if temp == self.head:\n",
        "                    dot.node(str(temp.value), label, fillcolor = \"chartreuse1\", style = \"filled\")\n",
        "                elif temp == self.tail:\n",
        "                    dot.node(str(temp.value), label, fillcolor = \"deepskyblue\", style = \"filled\")\n",
        "                else:\n",
        "                    dot.node(str(temp.value), label)\n",
        "\n",
        "                if temp.next:\n",
        "                    dot.edge(str(temp.value),str(temp.next.value))\n",
        "\n",
        "                if temp.prev:\n",
        "                    dot.edge(str(temp.value),str(temp.prev.value))\n",
        "\n",
        "            temp = temp.next\n",
        "            index += 1\n",
        "\n",
        "        # create the start\n",
        "        dot.edge(\"Start\",str(self.head.value), dir=\"back\")\n",
        "\n",
        "        # create the end\n",
        "        dot.edge(str(self.tail.value),\"End\")\n",
        "\n",
        "        return dot\n",
        "\n",
        "    def pop(self):\n",
        "        if self.length == 0:\n",
        "            return None\n",
        "        popped_node = self.tail\n",
        "        if self.length == 1:\n",
        "            self.head = None\n",
        "            self.tail = None\n",
        "        else:\n",
        "            self.tail = popped_node.prev\n",
        "            self.tail.next = None\n",
        "        popped_node.prev = None\n",
        "        self.length -= 1\n",
        "        return popped_node\n",
        "\n",
        "    def prepend(self,value):\n",
        "        pass\n",
        "\n",
        "    def pop_first(self):\n",
        "        pass\n",
        "\n",
        "    def get(self):\n",
        "        pass\n",
        "\n",
        "    def set_value(self,value):\n",
        "        pass\n",
        "\n",
        "    def insert(self,index,value):\n",
        "        pass\n",
        "\n",
        "    def remove(self,index):\n",
        "        pass\n"
      ]
    },
    {
      "cell_type": "code",
      "source": [
        "my_dll = DLL(1)\n",
        "my_dll.append(2)\n",
        "my_dll.append(3)\n",
        "my_dll.append(4)\n",
        "my_dll.append(5)\n",
        "# my_dll.print_list()"
      ],
      "metadata": {
        "colab": {
          "base_uri": "https://localhost:8080/"
        },
        "id": "D0aKE-PV54-p",
        "outputId": "2f5bb0d0-aec2-4844-a6f8-2b67b8459214"
      },
      "execution_count": null,
      "outputs": [
        {
          "output_type": "execute_result",
          "data": {
            "text/plain": [
              "True"
            ]
          },
          "metadata": {},
          "execution_count": 40
        }
      ]
    },
    {
      "cell_type": "code",
      "source": [
        "my_dll.print_graph()"
      ],
      "metadata": {
        "colab": {
          "base_uri": "https://localhost:8080/",
          "height": 80
        },
        "id": "CWX2S5EZ6GgG",
        "outputId": "37420db8-69f3-4b70-8abc-61ede89734bb"
      },
      "execution_count": null,
      "outputs": [
        {
          "output_type": "execute_result",
          "data": {
            "image/svg+xml": "<?xml version=\"1.0\" encoding=\"UTF-8\" standalone=\"no\"?>\n<!DOCTYPE svg PUBLIC \"-//W3C//DTD SVG 1.1//EN\"\n \"http://www.w3.org/Graphics/SVG/1.1/DTD/svg11.dtd\">\n<!-- Generated by graphviz version 2.43.0 (0)\n -->\n<!-- Title: %3 Pages: 1 -->\n<svg width=\"859pt\" height=\"44pt\"\n viewBox=\"0.00 0.00 859.05 44.00\" xmlns=\"http://www.w3.org/2000/svg\" xmlns:xlink=\"http://www.w3.org/1999/xlink\">\n<g id=\"graph0\" class=\"graph\" transform=\"scale(1 1) rotate(0) translate(4 40)\">\n<title>%3</title>\n<polygon fill=\"white\" stroke=\"transparent\" points=\"-4,4 -4,-40 855.05,-40 855.05,4 -4,4\"/>\n<!-- 1 -->\n<g id=\"node1\" class=\"node\">\n<title>1</title>\n<ellipse fill=\"#7fff00\" stroke=\"black\" cx=\"143.24\" cy=\"-18\" rx=\"52.79\" ry=\"18\"/>\n<text text-anchor=\"middle\" x=\"143.24\" y=\"-14.3\" font-family=\"Times,serif\" font-size=\"14.00\">1 (index=0)</text>\n</g>\n<!-- 2 -->\n<g id=\"node2\" class=\"node\">\n<title>2</title>\n<ellipse fill=\"none\" stroke=\"black\" cx=\"284.53\" cy=\"-18\" rx=\"52.79\" ry=\"18\"/>\n<text text-anchor=\"middle\" x=\"284.53\" y=\"-14.3\" font-family=\"Times,serif\" font-size=\"14.00\">2 (index=1)</text>\n</g>\n<!-- 1&#45;&gt;2 -->\n<g id=\"edge1\" class=\"edge\">\n<title>1&#45;&gt;2</title>\n<path fill=\"none\" stroke=\"black\" d=\"M192.57,-11.54C203.05,-11.25 214.24,-11.18 225.06,-11.33\"/>\n<polygon fill=\"black\" stroke=\"black\" points=\"225.22,-14.83 235.29,-11.54 225.37,-7.83 225.22,-14.83\"/>\n</g>\n<!-- 2&#45;&gt;1 -->\n<g id=\"edge3\" class=\"edge\">\n<title>2&#45;&gt;1</title>\n<path fill=\"none\" stroke=\"black\" d=\"M235.29,-24.46C224.81,-24.75 213.62,-24.82 202.8,-24.67\"/>\n<polygon fill=\"black\" stroke=\"black\" points=\"202.64,-21.17 192.57,-24.46 202.49,-28.17 202.64,-21.17\"/>\n</g>\n<!-- 3 -->\n<g id=\"node3\" class=\"node\">\n<title>3</title>\n<ellipse fill=\"none\" stroke=\"black\" cx=\"425.82\" cy=\"-18\" rx=\"52.79\" ry=\"18\"/>\n<text text-anchor=\"middle\" x=\"425.82\" y=\"-14.3\" font-family=\"Times,serif\" font-size=\"14.00\">3 (index=2)</text>\n</g>\n<!-- 2&#45;&gt;3 -->\n<g id=\"edge2\" class=\"edge\">\n<title>2&#45;&gt;3</title>\n<path fill=\"none\" stroke=\"black\" d=\"M333.86,-11.54C344.34,-11.25 355.53,-11.18 366.35,-11.33\"/>\n<polygon fill=\"black\" stroke=\"black\" points=\"366.51,-14.83 376.58,-11.54 366.66,-7.83 366.51,-14.83\"/>\n</g>\n<!-- 3&#45;&gt;2 -->\n<g id=\"edge5\" class=\"edge\">\n<title>3&#45;&gt;2</title>\n<path fill=\"none\" stroke=\"black\" d=\"M376.58,-24.46C366.1,-24.75 354.91,-24.82 344.09,-24.67\"/>\n<polygon fill=\"black\" stroke=\"black\" points=\"343.93,-21.17 333.86,-24.46 343.78,-28.17 343.93,-21.17\"/>\n</g>\n<!-- 4 -->\n<g id=\"node4\" class=\"node\">\n<title>4</title>\n<ellipse fill=\"none\" stroke=\"black\" cx=\"567.11\" cy=\"-18\" rx=\"52.79\" ry=\"18\"/>\n<text text-anchor=\"middle\" x=\"567.11\" y=\"-14.3\" font-family=\"Times,serif\" font-size=\"14.00\">4 (index=3)</text>\n</g>\n<!-- 3&#45;&gt;4 -->\n<g id=\"edge4\" class=\"edge\">\n<title>3&#45;&gt;4</title>\n<path fill=\"none\" stroke=\"black\" d=\"M475.15,-11.54C485.63,-11.25 496.82,-11.18 507.64,-11.33\"/>\n<polygon fill=\"black\" stroke=\"black\" points=\"507.8,-14.83 517.87,-11.54 507.95,-7.83 507.8,-14.83\"/>\n</g>\n<!-- 4&#45;&gt;3 -->\n<g id=\"edge7\" class=\"edge\">\n<title>4&#45;&gt;3</title>\n<path fill=\"none\" stroke=\"black\" d=\"M517.87,-24.46C507.4,-24.75 496.2,-24.82 485.38,-24.67\"/>\n<polygon fill=\"black\" stroke=\"black\" points=\"485.22,-21.17 475.15,-24.46 485.07,-28.17 485.22,-21.17\"/>\n</g>\n<!-- 5 -->\n<g id=\"node5\" class=\"node\">\n<title>5</title>\n<ellipse fill=\"deepskyblue\" stroke=\"black\" cx=\"708.4\" cy=\"-18\" rx=\"52.79\" ry=\"18\"/>\n<text text-anchor=\"middle\" x=\"708.4\" y=\"-14.3\" font-family=\"Times,serif\" font-size=\"14.00\">5 (index=4)</text>\n</g>\n<!-- 4&#45;&gt;5 -->\n<g id=\"edge6\" class=\"edge\">\n<title>4&#45;&gt;5</title>\n<path fill=\"none\" stroke=\"black\" d=\"M616.44,-11.54C626.92,-11.25 638.11,-11.18 648.93,-11.33\"/>\n<polygon fill=\"black\" stroke=\"black\" points=\"649.09,-14.83 659.16,-11.54 649.24,-7.83 649.09,-14.83\"/>\n</g>\n<!-- 5&#45;&gt;4 -->\n<g id=\"edge8\" class=\"edge\">\n<title>5&#45;&gt;4</title>\n<path fill=\"none\" stroke=\"black\" d=\"M659.16,-24.46C648.69,-24.75 637.49,-24.82 626.67,-24.67\"/>\n<polygon fill=\"black\" stroke=\"black\" points=\"626.51,-21.17 616.44,-24.46 626.36,-28.17 626.51,-21.17\"/>\n</g>\n<!-- End -->\n<g id=\"node7\" class=\"node\">\n<title>End</title>\n<ellipse fill=\"none\" stroke=\"black\" cx=\"824.05\" cy=\"-18\" rx=\"27\" ry=\"18\"/>\n<text text-anchor=\"middle\" x=\"824.05\" y=\"-14.3\" font-family=\"Times,serif\" font-size=\"14.00\">End</text>\n</g>\n<!-- 5&#45;&gt;End -->\n<g id=\"edge10\" class=\"edge\">\n<title>5&#45;&gt;End</title>\n<path fill=\"none\" stroke=\"black\" d=\"M761.24,-18C769.87,-18 778.65,-18 786.78,-18\"/>\n<polygon fill=\"black\" stroke=\"black\" points=\"787.04,-21.5 797.04,-18 787.04,-14.5 787.04,-21.5\"/>\n</g>\n<!-- Start -->\n<g id=\"node6\" class=\"node\">\n<title>Start</title>\n<ellipse fill=\"none\" stroke=\"black\" cx=\"27.3\" cy=\"-18\" rx=\"27.1\" ry=\"18\"/>\n<text text-anchor=\"middle\" x=\"27.3\" y=\"-14.3\" font-family=\"Times,serif\" font-size=\"14.00\">Start</text>\n</g>\n<!-- Start&#45;&gt;1 -->\n<g id=\"edge9\" class=\"edge\">\n<title>Start&#45;&gt;1</title>\n<path fill=\"none\" stroke=\"black\" d=\"M64.96,-18C73.07,-18 81.81,-18 90.4,-18\"/>\n<polygon fill=\"black\" stroke=\"black\" points=\"64.72,-14.5 54.72,-18 64.72,-21.5 64.72,-14.5\"/>\n</g>\n</g>\n</svg>\n",
            "text/plain": [
              "<graphviz.graphs.Digraph at 0x7c05bf01a7a0>"
            ]
          },
          "metadata": {},
          "execution_count": 41
        }
      ]
    },
    {
      "cell_type": "code",
      "source": [
        "popped_node = my_dll.pop()\n",
        "print(\"Popped Node = \",popped_node.value)"
      ],
      "metadata": {
        "colab": {
          "base_uri": "https://localhost:8080/"
        },
        "id": "Ot0BTz6H8nHp",
        "outputId": "413c616c-91a7-4245-874d-4eada118398a"
      },
      "execution_count": null,
      "outputs": [
        {
          "output_type": "stream",
          "name": "stdout",
          "text": [
            "Popped Node =  5\n"
          ]
        }
      ]
    },
    {
      "cell_type": "code",
      "source": [
        "my_dll.print_graph()"
      ],
      "metadata": {
        "colab": {
          "base_uri": "https://localhost:8080/",
          "height": 80
        },
        "id": "PnvS7OQV-X5e",
        "outputId": "5e53a752-1095-41d0-b0e6-48a94d47b701"
      },
      "execution_count": null,
      "outputs": [
        {
          "output_type": "execute_result",
          "data": {
            "image/svg+xml": "<?xml version=\"1.0\" encoding=\"UTF-8\" standalone=\"no\"?>\n<!DOCTYPE svg PUBLIC \"-//W3C//DTD SVG 1.1//EN\"\n \"http://www.w3.org/Graphics/SVG/1.1/DTD/svg11.dtd\">\n<!-- Generated by graphviz version 2.43.0 (0)\n -->\n<!-- Title: %3 Pages: 1 -->\n<svg width=\"718pt\" height=\"44pt\"\n viewBox=\"0.00 0.00 717.76 44.00\" xmlns=\"http://www.w3.org/2000/svg\" xmlns:xlink=\"http://www.w3.org/1999/xlink\">\n<g id=\"graph0\" class=\"graph\" transform=\"scale(1 1) rotate(0) translate(4 40)\">\n<title>%3</title>\n<polygon fill=\"white\" stroke=\"transparent\" points=\"-4,4 -4,-40 713.76,-40 713.76,4 -4,4\"/>\n<!-- 1 -->\n<g id=\"node1\" class=\"node\">\n<title>1</title>\n<ellipse fill=\"#7fff00\" stroke=\"black\" cx=\"143.24\" cy=\"-18\" rx=\"52.79\" ry=\"18\"/>\n<text text-anchor=\"middle\" x=\"143.24\" y=\"-14.3\" font-family=\"Times,serif\" font-size=\"14.00\">1 (index=0)</text>\n</g>\n<!-- 2 -->\n<g id=\"node2\" class=\"node\">\n<title>2</title>\n<ellipse fill=\"none\" stroke=\"black\" cx=\"284.53\" cy=\"-18\" rx=\"52.79\" ry=\"18\"/>\n<text text-anchor=\"middle\" x=\"284.53\" y=\"-14.3\" font-family=\"Times,serif\" font-size=\"14.00\">2 (index=1)</text>\n</g>\n<!-- 1&#45;&gt;2 -->\n<g id=\"edge1\" class=\"edge\">\n<title>1&#45;&gt;2</title>\n<path fill=\"none\" stroke=\"black\" d=\"M192.57,-11.54C203.05,-11.25 214.24,-11.18 225.06,-11.33\"/>\n<polygon fill=\"black\" stroke=\"black\" points=\"225.22,-14.83 235.29,-11.54 225.37,-7.83 225.22,-14.83\"/>\n</g>\n<!-- 2&#45;&gt;1 -->\n<g id=\"edge3\" class=\"edge\">\n<title>2&#45;&gt;1</title>\n<path fill=\"none\" stroke=\"black\" d=\"M235.29,-24.46C224.81,-24.75 213.62,-24.82 202.8,-24.67\"/>\n<polygon fill=\"black\" stroke=\"black\" points=\"202.64,-21.17 192.57,-24.46 202.49,-28.17 202.64,-21.17\"/>\n</g>\n<!-- 3 -->\n<g id=\"node3\" class=\"node\">\n<title>3</title>\n<ellipse fill=\"none\" stroke=\"black\" cx=\"425.82\" cy=\"-18\" rx=\"52.79\" ry=\"18\"/>\n<text text-anchor=\"middle\" x=\"425.82\" y=\"-14.3\" font-family=\"Times,serif\" font-size=\"14.00\">3 (index=2)</text>\n</g>\n<!-- 2&#45;&gt;3 -->\n<g id=\"edge2\" class=\"edge\">\n<title>2&#45;&gt;3</title>\n<path fill=\"none\" stroke=\"black\" d=\"M333.86,-11.54C344.34,-11.25 355.53,-11.18 366.35,-11.33\"/>\n<polygon fill=\"black\" stroke=\"black\" points=\"366.51,-14.83 376.58,-11.54 366.66,-7.83 366.51,-14.83\"/>\n</g>\n<!-- 3&#45;&gt;2 -->\n<g id=\"edge5\" class=\"edge\">\n<title>3&#45;&gt;2</title>\n<path fill=\"none\" stroke=\"black\" d=\"M376.58,-24.46C366.1,-24.75 354.91,-24.82 344.09,-24.67\"/>\n<polygon fill=\"black\" stroke=\"black\" points=\"343.93,-21.17 333.86,-24.46 343.78,-28.17 343.93,-21.17\"/>\n</g>\n<!-- 4 -->\n<g id=\"node4\" class=\"node\">\n<title>4</title>\n<ellipse fill=\"deepskyblue\" stroke=\"black\" cx=\"567.11\" cy=\"-18\" rx=\"52.79\" ry=\"18\"/>\n<text text-anchor=\"middle\" x=\"567.11\" y=\"-14.3\" font-family=\"Times,serif\" font-size=\"14.00\">4 (index=3)</text>\n</g>\n<!-- 3&#45;&gt;4 -->\n<g id=\"edge4\" class=\"edge\">\n<title>3&#45;&gt;4</title>\n<path fill=\"none\" stroke=\"black\" d=\"M475.15,-11.54C485.63,-11.25 496.82,-11.18 507.64,-11.33\"/>\n<polygon fill=\"black\" stroke=\"black\" points=\"507.8,-14.83 517.87,-11.54 507.95,-7.83 507.8,-14.83\"/>\n</g>\n<!-- 4&#45;&gt;3 -->\n<g id=\"edge6\" class=\"edge\">\n<title>4&#45;&gt;3</title>\n<path fill=\"none\" stroke=\"black\" d=\"M517.87,-24.46C507.4,-24.75 496.2,-24.82 485.38,-24.67\"/>\n<polygon fill=\"black\" stroke=\"black\" points=\"485.22,-21.17 475.15,-24.46 485.07,-28.17 485.22,-21.17\"/>\n</g>\n<!-- End -->\n<g id=\"node6\" class=\"node\">\n<title>End</title>\n<ellipse fill=\"none\" stroke=\"black\" cx=\"682.76\" cy=\"-18\" rx=\"27\" ry=\"18\"/>\n<text text-anchor=\"middle\" x=\"682.76\" y=\"-14.3\" font-family=\"Times,serif\" font-size=\"14.00\">End</text>\n</g>\n<!-- 4&#45;&gt;End -->\n<g id=\"edge8\" class=\"edge\">\n<title>4&#45;&gt;End</title>\n<path fill=\"none\" stroke=\"black\" d=\"M619.95,-18C628.58,-18 637.36,-18 645.49,-18\"/>\n<polygon fill=\"black\" stroke=\"black\" points=\"645.75,-21.5 655.75,-18 645.75,-14.5 645.75,-21.5\"/>\n</g>\n<!-- Start -->\n<g id=\"node5\" class=\"node\">\n<title>Start</title>\n<ellipse fill=\"none\" stroke=\"black\" cx=\"27.3\" cy=\"-18\" rx=\"27.1\" ry=\"18\"/>\n<text text-anchor=\"middle\" x=\"27.3\" y=\"-14.3\" font-family=\"Times,serif\" font-size=\"14.00\">Start</text>\n</g>\n<!-- Start&#45;&gt;1 -->\n<g id=\"edge7\" class=\"edge\">\n<title>Start&#45;&gt;1</title>\n<path fill=\"none\" stroke=\"black\" d=\"M64.96,-18C73.07,-18 81.81,-18 90.4,-18\"/>\n<polygon fill=\"black\" stroke=\"black\" points=\"64.72,-14.5 54.72,-18 64.72,-21.5 64.72,-14.5\"/>\n</g>\n</g>\n</svg>\n",
            "text/plain": [
              "<graphviz.graphs.Digraph at 0x7c05bf01b8e0>"
            ]
          },
          "metadata": {},
          "execution_count": 43
        }
      ]
    },
    {
      "cell_type": "code",
      "source": [],
      "metadata": {
        "id": "qsFz_4psPeXP"
      },
      "execution_count": null,
      "outputs": []
    },
    {
      "cell_type": "code",
      "source": [],
      "metadata": {
        "id": "RYR89sFHPebj"
      },
      "execution_count": null,
      "outputs": []
    },
    {
      "cell_type": "code",
      "source": [],
      "metadata": {
        "id": "coSWlUr8PefX"
      },
      "execution_count": null,
      "outputs": []
    },
    {
      "cell_type": "code",
      "source": [],
      "metadata": {
        "id": "nqrTZ-6WPei-"
      },
      "execution_count": null,
      "outputs": []
    },
    {
      "cell_type": "code",
      "source": [],
      "metadata": {
        "id": "763h1-DRPemk"
      },
      "execution_count": null,
      "outputs": []
    },
    {
      "cell_type": "code",
      "source": [],
      "metadata": {
        "id": "1OJEcmMcPeqU"
      },
      "execution_count": null,
      "outputs": []
    },
    {
      "cell_type": "code",
      "source": [],
      "metadata": {
        "id": "lia614x8Pet8"
      },
      "execution_count": null,
      "outputs": []
    },
    {
      "cell_type": "code",
      "source": [],
      "metadata": {
        "id": "1KuHThWRPexk"
      },
      "execution_count": null,
      "outputs": []
    },
    {
      "cell_type": "code",
      "source": [],
      "metadata": {
        "id": "CHELn_8HPe3y"
      },
      "execution_count": null,
      "outputs": []
    },
    {
      "cell_type": "markdown",
      "source": [
        "# Stacks"
      ],
      "metadata": {
        "id": "0EHHAWl_PbaG"
      }
    },
    {
      "cell_type": "code",
      "source": [
        "class Node:\n",
        "\n",
        "    def __init__(self,value):\n",
        "        self.value = value\n",
        "        self.next = None\n",
        "\n",
        "class Stack:\n",
        "\n",
        "    def __init__(self,value):\n",
        "        new_node = Node(value)\n",
        "        self.top = new_node\n",
        "        self.height = 1\n",
        "\n",
        "    def print_stack(self):\n",
        "        temp = self.top\n",
        "\n",
        "        while temp is not None:\n",
        "            print(temp.value)\n",
        "            temp = temp.next\n",
        "\n",
        "    def push(self,value):\n",
        "        # create a new node\n",
        "        new_node = Node(value)\n",
        "\n",
        "        # current top\n",
        "        temp = self.top\n",
        "\n",
        "        self.top = new_node\n",
        "        new_node.next = temp\n",
        "\n",
        "        self.height += 1\n",
        "\n",
        "    def pop(self):\n",
        "\n",
        "        if self.height == 0:\n",
        "            return None\n",
        "\n",
        "        # collect the node\n",
        "        temp = self.top\n",
        "\n",
        "        # move the head pointer\n",
        "        self.top = temp.next\n",
        "\n",
        "        # ensure the next is dettached from temp\n",
        "        temp.next = None\n",
        "\n",
        "        # adjust the height\n",
        "        self.height -= 1\n",
        "\n",
        "        return temp"
      ],
      "metadata": {
        "id": "uRaEAvZw-aAo"
      },
      "execution_count": null,
      "outputs": []
    },
    {
      "cell_type": "markdown",
      "source": [
        "# Queues"
      ],
      "metadata": {
        "id": "LuhV09uZPo1V"
      }
    },
    {
      "cell_type": "code",
      "source": [
        "class Node:\n",
        "\n",
        "    def __init__(self,value):\n",
        "        self.value = value\n",
        "        self.next = None\n",
        "\n",
        "class Queue:\n",
        "\n",
        "    def __init__(self,value):\n",
        "        # create a new node\n",
        "        new_node = Node(value)\n",
        "        self.first = new_node\n",
        "        self.last = new_node\n",
        "        self.length = 1\n",
        "\n",
        "    def make_empty(self):\n",
        "        self.first = None\n",
        "        self.last = None\n",
        "        self.length = 0\n",
        "\n",
        "    def print_queue(self,msg = \"Queue created : \"):\n",
        "        print(\"--------------\")\n",
        "        print(msg)\n",
        "\n",
        "        temp = self.first\n",
        "\n",
        "        while temp is not None:\n",
        "            print(temp.value)\n",
        "            temp = temp.next\n",
        "\n",
        "        print('\\n')\n",
        "        print(f\"Queue Length = {self.length}\")\n",
        "        if self.first:\n",
        "            print(f\"Queue First = {self.first.value}\")\n",
        "        else:\n",
        "            print(\"Queue First = None\")\n",
        "\n",
        "        if self.last:\n",
        "            print(f\"Queue Last = {self.last.value}\")\n",
        "        else:\n",
        "            print(\"Queue Last = None\")\n",
        "\n",
        "    def enqueue(self,value):\n",
        "        # create a new node\n",
        "        new_node = Node(value)\n",
        "\n",
        "        if self.length == 0:\n",
        "            self.first = new_node\n",
        "            self.last = new_node\n",
        "        else:\n",
        "            temp = self.last\n",
        "            temp.next = new_node\n",
        "            self.last = new_node\n",
        "\n",
        "        self.length += 1\n",
        "        return True\n",
        "\n",
        "    def dequeue(self):\n",
        "\n",
        "        if self.first is None:\n",
        "            return None\n",
        "\n",
        "        temp = self.first\n",
        "\n",
        "        if self.length == 1:\n",
        "            self.first = None\n",
        "            self.last = None\n",
        "        else:\n",
        "            self.first = temp.next\n",
        "\n",
        "        temp.next = None\n",
        "        self.length -= 1\n",
        "\n",
        "        return temp"
      ],
      "metadata": {
        "id": "xlwUluPdPoF-"
      },
      "execution_count": null,
      "outputs": []
    },
    {
      "cell_type": "code",
      "source": [],
      "metadata": {
        "id": "0bZzXWNDPoKG"
      },
      "execution_count": null,
      "outputs": []
    },
    {
      "cell_type": "code",
      "source": [],
      "metadata": {
        "id": "LpjXOdVPPoNx"
      },
      "execution_count": null,
      "outputs": []
    },
    {
      "cell_type": "code",
      "source": [],
      "metadata": {
        "id": "a2lTDg4DPoRU"
      },
      "execution_count": null,
      "outputs": []
    },
    {
      "cell_type": "code",
      "source": [],
      "metadata": {
        "id": "KMR3VLlcPoU8"
      },
      "execution_count": null,
      "outputs": []
    },
    {
      "cell_type": "code",
      "source": [],
      "metadata": {
        "id": "OM92l68RPoYw"
      },
      "execution_count": null,
      "outputs": []
    },
    {
      "cell_type": "code",
      "source": [],
      "metadata": {
        "id": "v_5rEF07Pocn"
      },
      "execution_count": null,
      "outputs": []
    }
  ]
}