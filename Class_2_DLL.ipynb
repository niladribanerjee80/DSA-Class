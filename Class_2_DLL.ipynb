{
  "nbformat": 4,
  "nbformat_minor": 0,
  "metadata": {
    "colab": {
      "provenance": [],
      "authorship_tag": "ABX9TyOzZB2fcX1VVjOQ0Pzz8EGx",
      "include_colab_link": true
    },
    "kernelspec": {
      "name": "python3",
      "display_name": "Python 3"
    },
    "language_info": {
      "name": "python"
    }
  },
  "cells": [
    {
      "cell_type": "markdown",
      "metadata": {
        "id": "view-in-github",
        "colab_type": "text"
      },
      "source": [
        "<a href=\"https://colab.research.google.com/github/niladribanerjee80/DSA-Class/blob/main/Class_2_DLL.ipynb\" target=\"_parent\"><img src=\"https://colab.research.google.com/assets/colab-badge.svg\" alt=\"Open In Colab\"/></a>"
      ]
    },
    {
      "cell_type": "code",
      "source": [
        "import graphviz\n",
        "\n",
        "class Node:\n",
        "    def __init__(self,value):\n",
        "        self.value = value\n",
        "        self.next = None\n",
        "        self.prev = None\n",
        "\n",
        "class DoubleLinkedList:\n",
        "    def __init__(self,value):\n",
        "        new_node = Node(value)\n",
        "        self.head = new_node\n",
        "        self.tail = new_node\n",
        "        self.length = 1\n",
        "\n",
        "    def print_list(self,msg=\"Print DLL\"):\n",
        "        print(\"--------\")\n",
        "        print(msg)\n",
        "        print(\"--------\")\n",
        "        if self.length == 0:\n",
        "            return \"Nothing to display\"\n",
        "        temp = self.head\n",
        "        next_list = []\n",
        "        prev_list = []\n",
        "        while temp is not None:\n",
        "            next_list.append(temp.value)\n",
        "            if temp.prev:\n",
        "                prev_list.append(temp.prev.value)\n",
        "            temp = temp.next\n",
        "        if next_list[:-1] == prev_list:\n",
        "            result = \"\"\n",
        "            for index,item in enumerate(next_list):\n",
        "                if index == 0:\n",
        "                    result = str(item)\n",
        "                else:\n",
        "                    result = result + \"<->\" + str(item)\n",
        "            print(result)\n",
        "        else:\n",
        "            print(\"DLL is not formed correctly\")\n",
        "\n",
        "    def print_graph(self,msg=\"Graph DLL\"):\n",
        "        print(\"--------\")\n",
        "        print(msg)\n",
        "        print(\"--------\")\n",
        "        dot = graphviz.Digraph()\n",
        "        dot.attr(rankdir=\"LR\")\n",
        "        temp = self.head\n",
        "        index = 0\n",
        "        while temp is not None:\n",
        "            label = f\"{temp.value} (index={index})\"\n",
        "            if self.length == 1:\n",
        "                dot.node(str(temp.value),label,fillcolor=\"chartreuse\",style=\"filled\")\n",
        "            else:\n",
        "                if temp == self.head:\n",
        "                    dot.node(str(temp.value),label,fillcolor=\"aquamarine\",style=\"filled\")\n",
        "                elif temp == self.tail:\n",
        "                    dot.node(str(temp.value),label,fillcolor=\"cyan\",style=\"filled\")\n",
        "                else:\n",
        "                    dot.node(str(temp.value),label)\n",
        "            if temp.next:\n",
        "                dot.edge(str(temp.value),str(temp.next.value))\n",
        "            if temp.prev:\n",
        "                dot.edge(str(temp.value),str(temp.prev.value))\n",
        "            temp = temp.next\n",
        "            index += 1\n",
        "        dot.edge(\"Start\", str(self.head.value),dir=\"back\")\n",
        "        dot.edge(str(self.tail.value), \"End\")\n",
        "        return dot\n",
        "\n",
        "    def append(self,value):\n",
        "        new_node = Node(value)\n",
        "        if self.length == 0:\n",
        "            self.head = new_node\n",
        "            self.tail = new_node\n",
        "        else:\n",
        "            self.tail.next = new_node\n",
        "            new_node.prev = self.tail\n",
        "            self.tail = new_node\n",
        "        self.length += 1\n",
        "        return True\n",
        "\n",
        "    def pop(self):\n",
        "        if self.length == 0:\n",
        "            return None\n",
        "        popped_node = self.tail\n",
        "        if self.length == 1:\n",
        "            self.head = None\n",
        "            self.tail = None\n",
        "        else:\n",
        "            self.tail = self.tail.prev\n",
        "            self.tail.next = None\n",
        "        popped_node.prev = None\n",
        "        self.length -= 1\n",
        "        return popped_node\n",
        "\n",
        "    def make_empty(self):\n",
        "        self.head = None\n",
        "        self.tail = None\n",
        "        self.length = 0\n",
        "\n",
        "    def prepend(self,value):\n",
        "        new_node = Node(value)\n",
        "        if self.length == 0:\n",
        "            self.head = new_node\n",
        "            self.tail = new_node\n",
        "        else:\n",
        "            new_node.next = self.head\n",
        "            self.head.prev = new_node\n",
        "            self.head = new_node\n",
        "        self.length += 1\n",
        "        return True\n",
        "\n",
        "    def pop_first(self):\n",
        "        if self.length == 0:\n",
        "            return None\n",
        "        popped_node = self.head\n",
        "        if self.length == 1:\n",
        "            self.head = None\n",
        "            self.tail = None\n",
        "        else:\n",
        "            self.head = self.head.next\n",
        "            self.head.prev = None\n",
        "        popped_node.next = None\n",
        "        self.length -= 1\n",
        "        return popped_node\n",
        "\n",
        "    def get(self,index):\n",
        "        if self.length == 0:\n",
        "            return None\n",
        "        if index < 0 or index >= self.length:\n",
        "            return None\n",
        "        if index < (self.length/2):\n",
        "            temp = self.head\n",
        "            for _ in range(index):\n",
        "                temp = temp.next\n",
        "        else:\n",
        "            temp = self.tail\n",
        "            for _ in range(self.length-1,index,-1):\n",
        "                temp = temp.prev\n",
        "        return temp\n",
        "\n",
        "    def set_value(self,index,value):\n",
        "        temp = self.get(index)\n",
        "        if temp:\n",
        "            temp.value = value\n",
        "            return True\n",
        "        else:\n",
        "            return False\n",
        "\n",
        "    def insert(self,index,value):\n",
        "        if index < 0 or index > self.length:\n",
        "            return False\n",
        "        elif index == 0:\n",
        "            return self.prepend(value)\n",
        "        elif index == self.length:\n",
        "            return self.append(value)\n",
        "        else:\n",
        "            new_node = Node(value)\n",
        "            curr_node = self.get(index)\n",
        "            prev_node = curr_node.prev\n",
        "            if curr_node:\n",
        "                if prev_node:\n",
        "                    prev_node.next = new_node\n",
        "                new_node.prev = prev_node\n",
        "                new_node.next = curr_node\n",
        "                curr_node.prev = new_node\n",
        "        self.length += 1\n",
        "        return True\n",
        "\n",
        "    def remove(self,index):\n",
        "        if index < 0 or index >= self.length:\n",
        "            return False\n",
        "        elif index == 0:\n",
        "            return self.pop_first()\n",
        "        elif index == self.length:\n",
        "            return self.pop()\n",
        "        else:\n",
        "            curr = self.get(index)\n",
        "            prev = curr.prev\n",
        "            next = curr.next\n",
        "\n",
        "            prev.next = next\n",
        "            next.prev = prev\n",
        "\n",
        "            curr.prev = None\n",
        "            curr.next = None\n",
        "        self.length -= 1\n",
        "        return curr"
      ],
      "metadata": {
        "id": "_C8itjb1FmdB"
      },
      "execution_count": 38,
      "outputs": []
    },
    {
      "cell_type": "code",
      "source": [
        "dll = DoubleLinkedList(11)\n",
        "dll.append(3)\n",
        "dll.append(27)\n",
        "dll.append(80)\n",
        "dll.print_graph()"
      ],
      "metadata": {
        "colab": {
          "base_uri": "https://localhost:8080/",
          "height": 132
        },
        "id": "cjLybmw-CgHc",
        "outputId": "c8af2566-5597-419b-b7ee-166f7e9da922"
      },
      "execution_count": 4,
      "outputs": [
        {
          "output_type": "stream",
          "name": "stdout",
          "text": [
            "--------\n",
            "Graph DLL\n",
            "--------\n"
          ]
        },
        {
          "output_type": "execute_result",
          "data": {
            "image/svg+xml": "<?xml version=\"1.0\" encoding=\"UTF-8\" standalone=\"no\"?>\n<!DOCTYPE svg PUBLIC \"-//W3C//DTD SVG 1.1//EN\"\n \"http://www.w3.org/Graphics/SVG/1.1/DTD/svg11.dtd\">\n<!-- Generated by graphviz version 2.43.0 (0)\n -->\n<!-- Title: %3 Pages: 1 -->\n<svg width=\"745pt\" height=\"44pt\"\n viewBox=\"0.00 0.00 745.06 44.00\" xmlns=\"http://www.w3.org/2000/svg\" xmlns:xlink=\"http://www.w3.org/1999/xlink\">\n<g id=\"graph0\" class=\"graph\" transform=\"scale(1 1) rotate(0) translate(4 40)\">\n<title>%3</title>\n<polygon fill=\"white\" stroke=\"transparent\" points=\"-4,4 -4,-40 741.06,-40 741.06,4 -4,4\"/>\n<!-- 11 -->\n<g id=\"node1\" class=\"node\">\n<title>11</title>\n<ellipse fill=\"aquamarine\" stroke=\"black\" cx=\"147.79\" cy=\"-18\" rx=\"57.39\" ry=\"18\"/>\n<text text-anchor=\"middle\" x=\"147.79\" y=\"-14.3\" font-family=\"Times,serif\" font-size=\"14.00\">11 (index=0)</text>\n</g>\n<!-- 3 -->\n<g id=\"node2\" class=\"node\">\n<title>3</title>\n<ellipse fill=\"none\" stroke=\"black\" cx=\"293.63\" cy=\"-18\" rx=\"52.79\" ry=\"18\"/>\n<text text-anchor=\"middle\" x=\"293.63\" y=\"-14.3\" font-family=\"Times,serif\" font-size=\"14.00\">3 (index=1)</text>\n</g>\n<!-- 11&#45;&gt;3 -->\n<g id=\"edge1\" class=\"edge\">\n<title>11&#45;&gt;3</title>\n<path fill=\"none\" stroke=\"black\" d=\"M201.13,-11.48C211.84,-11.22 223.18,-11.18 234.1,-11.36\"/>\n<polygon fill=\"black\" stroke=\"black\" points=\"234.32,-14.86 244.4,-11.59 234.48,-7.86 234.32,-14.86\"/>\n</g>\n<!-- 3&#45;&gt;11 -->\n<g id=\"edge3\" class=\"edge\">\n<title>3&#45;&gt;11</title>\n<path fill=\"none\" stroke=\"black\" d=\"M244.4,-24.41C233.75,-24.73 222.33,-24.82 211.22,-24.7\"/>\n<polygon fill=\"black\" stroke=\"black\" points=\"211.19,-21.2 201.13,-24.52 211.06,-28.2 211.19,-21.2\"/>\n</g>\n<!-- 27 -->\n<g id=\"node3\" class=\"node\">\n<title>27</title>\n<ellipse fill=\"none\" stroke=\"black\" cx=\"439.47\" cy=\"-18\" rx=\"57.39\" ry=\"18\"/>\n<text text-anchor=\"middle\" x=\"439.47\" y=\"-14.3\" font-family=\"Times,serif\" font-size=\"14.00\">27 (index=2)</text>\n</g>\n<!-- 3&#45;&gt;27 -->\n<g id=\"edge2\" class=\"edge\">\n<title>3&#45;&gt;27</title>\n<path fill=\"none\" stroke=\"black\" d=\"M342.93,-11.58C353.55,-11.27 364.95,-11.18 376.04,-11.3\"/>\n<polygon fill=\"black\" stroke=\"black\" points=\"376.04,-14.8 386.1,-11.48 376.17,-7.8 376.04,-14.8\"/>\n</g>\n<!-- 27&#45;&gt;3 -->\n<g id=\"edge5\" class=\"edge\">\n<title>27&#45;&gt;3</title>\n<path fill=\"none\" stroke=\"black\" d=\"M386.1,-24.52C375.41,-24.78 364.1,-24.82 353.21,-24.65\"/>\n<polygon fill=\"black\" stroke=\"black\" points=\"353,-21.14 342.93,-24.42 352.85,-28.14 353,-21.14\"/>\n</g>\n<!-- 80 -->\n<g id=\"node4\" class=\"node\">\n<title>80</title>\n<ellipse fill=\"cyan\" stroke=\"black\" cx=\"589.86\" cy=\"-18\" rx=\"57.39\" ry=\"18\"/>\n<text text-anchor=\"middle\" x=\"589.86\" y=\"-14.3\" font-family=\"Times,serif\" font-size=\"14.00\">80 (index=3)</text>\n</g>\n<!-- 27&#45;&gt;80 -->\n<g id=\"edge4\" class=\"edge\">\n<title>27&#45;&gt;80</title>\n<path fill=\"none\" stroke=\"black\" d=\"M493.21,-11.51C503.81,-11.25 515.06,-11.18 525.97,-11.32\"/>\n<polygon fill=\"black\" stroke=\"black\" points=\"526.23,-14.83 536.3,-11.51 526.36,-7.83 526.23,-14.83\"/>\n</g>\n<!-- 80&#45;&gt;27 -->\n<g id=\"edge6\" class=\"edge\">\n<title>80&#45;&gt;27</title>\n<path fill=\"none\" stroke=\"black\" d=\"M536.3,-24.49C525.7,-24.75 514.45,-24.82 503.54,-24.68\"/>\n<polygon fill=\"black\" stroke=\"black\" points=\"503.27,-21.18 493.21,-24.49 503.14,-28.18 503.27,-21.18\"/>\n</g>\n<!-- End -->\n<g id=\"node6\" class=\"node\">\n<title>End</title>\n<ellipse fill=\"none\" stroke=\"black\" cx=\"710.06\" cy=\"-18\" rx=\"27\" ry=\"18\"/>\n<text text-anchor=\"middle\" x=\"710.06\" y=\"-14.3\" font-family=\"Times,serif\" font-size=\"14.00\">End</text>\n</g>\n<!-- 80&#45;&gt;End -->\n<g id=\"edge8\" class=\"edge\">\n<title>80&#45;&gt;End</title>\n<path fill=\"none\" stroke=\"black\" d=\"M647.19,-18C655.87,-18 664.63,-18 672.72,-18\"/>\n<polygon fill=\"black\" stroke=\"black\" points=\"672.91,-21.5 682.91,-18 672.91,-14.5 672.91,-21.5\"/>\n</g>\n<!-- Start -->\n<g id=\"node5\" class=\"node\">\n<title>Start</title>\n<ellipse fill=\"none\" stroke=\"black\" cx=\"27.3\" cy=\"-18\" rx=\"27.1\" ry=\"18\"/>\n<text text-anchor=\"middle\" x=\"27.3\" y=\"-14.3\" font-family=\"Times,serif\" font-size=\"14.00\">Start</text>\n</g>\n<!-- Start&#45;&gt;11 -->\n<g id=\"edge7\" class=\"edge\">\n<title>Start&#45;&gt;11</title>\n<path fill=\"none\" stroke=\"black\" d=\"M64.99,-18C73,-18 81.66,-18 90.24,-18\"/>\n<polygon fill=\"black\" stroke=\"black\" points=\"64.89,-14.5 54.89,-18 64.89,-21.5 64.89,-14.5\"/>\n</g>\n</g>\n</svg>\n",
            "text/plain": [
              "<graphviz.graphs.Digraph at 0x7dc7f06145b0>"
            ]
          },
          "metadata": {},
          "execution_count": 4
        }
      ]
    },
    {
      "cell_type": "code",
      "source": [
        "dll.prepend(45)\n",
        "dll.print_graph()"
      ],
      "metadata": {
        "colab": {
          "base_uri": "https://localhost:8080/",
          "height": 132
        },
        "id": "Lpr5Fzzln3Mg",
        "outputId": "da38ced8-dc15-497d-ef65-be1129419d6d"
      },
      "execution_count": 5,
      "outputs": [
        {
          "output_type": "stream",
          "name": "stdout",
          "text": [
            "--------\n",
            "Graph DLL\n",
            "--------\n"
          ]
        },
        {
          "output_type": "execute_result",
          "data": {
            "image/svg+xml": "<?xml version=\"1.0\" encoding=\"UTF-8\" standalone=\"no\"?>\n<!DOCTYPE svg PUBLIC \"-//W3C//DTD SVG 1.1//EN\"\n \"http://www.w3.org/Graphics/SVG/1.1/DTD/svg11.dtd\">\n<!-- Generated by graphviz version 2.43.0 (0)\n -->\n<!-- Title: %3 Pages: 1 -->\n<svg width=\"895pt\" height=\"44pt\"\n viewBox=\"0.00 0.00 895.45 44.00\" xmlns=\"http://www.w3.org/2000/svg\" xmlns:xlink=\"http://www.w3.org/1999/xlink\">\n<g id=\"graph0\" class=\"graph\" transform=\"scale(1 1) rotate(0) translate(4 40)\">\n<title>%3</title>\n<polygon fill=\"white\" stroke=\"transparent\" points=\"-4,4 -4,-40 891.45,-40 891.45,4 -4,4\"/>\n<!-- 45 -->\n<g id=\"node1\" class=\"node\">\n<title>45</title>\n<ellipse fill=\"aquamarine\" stroke=\"black\" cx=\"147.79\" cy=\"-18\" rx=\"57.39\" ry=\"18\"/>\n<text text-anchor=\"middle\" x=\"147.79\" y=\"-14.3\" font-family=\"Times,serif\" font-size=\"14.00\">45 (index=0)</text>\n</g>\n<!-- 11 -->\n<g id=\"node2\" class=\"node\">\n<title>11</title>\n<ellipse fill=\"none\" stroke=\"black\" cx=\"298.18\" cy=\"-18\" rx=\"57.39\" ry=\"18\"/>\n<text text-anchor=\"middle\" x=\"298.18\" y=\"-14.3\" font-family=\"Times,serif\" font-size=\"14.00\">11 (index=1)</text>\n</g>\n<!-- 45&#45;&gt;11 -->\n<g id=\"edge1\" class=\"edge\">\n<title>45&#45;&gt;11</title>\n<path fill=\"none\" stroke=\"black\" d=\"M201.52,-11.51C212.13,-11.25 223.38,-11.18 234.29,-11.32\"/>\n<polygon fill=\"black\" stroke=\"black\" points=\"234.55,-14.83 244.62,-11.51 234.68,-7.83 234.55,-14.83\"/>\n</g>\n<!-- 11&#45;&gt;45 -->\n<g id=\"edge3\" class=\"edge\">\n<title>11&#45;&gt;45</title>\n<path fill=\"none\" stroke=\"black\" d=\"M244.62,-24.49C234.02,-24.75 222.77,-24.82 211.86,-24.68\"/>\n<polygon fill=\"black\" stroke=\"black\" points=\"211.59,-21.18 201.52,-24.49 211.46,-28.18 211.59,-21.18\"/>\n</g>\n<!-- 3 -->\n<g id=\"node3\" class=\"node\">\n<title>3</title>\n<ellipse fill=\"none\" stroke=\"black\" cx=\"444.02\" cy=\"-18\" rx=\"52.79\" ry=\"18\"/>\n<text text-anchor=\"middle\" x=\"444.02\" y=\"-14.3\" font-family=\"Times,serif\" font-size=\"14.00\">3 (index=2)</text>\n</g>\n<!-- 11&#45;&gt;3 -->\n<g id=\"edge2\" class=\"edge\">\n<title>11&#45;&gt;3</title>\n<path fill=\"none\" stroke=\"black\" d=\"M351.52,-11.48C362.23,-11.22 373.57,-11.18 384.49,-11.36\"/>\n<polygon fill=\"black\" stroke=\"black\" points=\"384.71,-14.86 394.79,-11.59 384.87,-7.86 384.71,-14.86\"/>\n</g>\n<!-- 3&#45;&gt;11 -->\n<g id=\"edge5\" class=\"edge\">\n<title>3&#45;&gt;11</title>\n<path fill=\"none\" stroke=\"black\" d=\"M394.79,-24.41C384.14,-24.73 372.72,-24.82 361.61,-24.7\"/>\n<polygon fill=\"black\" stroke=\"black\" points=\"361.58,-21.2 351.52,-24.52 361.45,-28.2 361.58,-21.2\"/>\n</g>\n<!-- 27 -->\n<g id=\"node4\" class=\"node\">\n<title>27</title>\n<ellipse fill=\"none\" stroke=\"black\" cx=\"589.86\" cy=\"-18\" rx=\"57.39\" ry=\"18\"/>\n<text text-anchor=\"middle\" x=\"589.86\" y=\"-14.3\" font-family=\"Times,serif\" font-size=\"14.00\">27 (index=3)</text>\n</g>\n<!-- 3&#45;&gt;27 -->\n<g id=\"edge4\" class=\"edge\">\n<title>3&#45;&gt;27</title>\n<path fill=\"none\" stroke=\"black\" d=\"M493.32,-11.58C503.94,-11.27 515.34,-11.18 526.43,-11.3\"/>\n<polygon fill=\"black\" stroke=\"black\" points=\"526.43,-14.8 536.49,-11.48 526.56,-7.8 526.43,-14.8\"/>\n</g>\n<!-- 27&#45;&gt;3 -->\n<g id=\"edge7\" class=\"edge\">\n<title>27&#45;&gt;3</title>\n<path fill=\"none\" stroke=\"black\" d=\"M536.49,-24.52C525.8,-24.78 514.49,-24.82 503.6,-24.65\"/>\n<polygon fill=\"black\" stroke=\"black\" points=\"503.39,-21.14 493.32,-24.42 503.24,-28.14 503.39,-21.14\"/>\n</g>\n<!-- 80 -->\n<g id=\"node5\" class=\"node\">\n<title>80</title>\n<ellipse fill=\"cyan\" stroke=\"black\" cx=\"740.25\" cy=\"-18\" rx=\"57.39\" ry=\"18\"/>\n<text text-anchor=\"middle\" x=\"740.25\" y=\"-14.3\" font-family=\"Times,serif\" font-size=\"14.00\">80 (index=4)</text>\n</g>\n<!-- 27&#45;&gt;80 -->\n<g id=\"edge6\" class=\"edge\">\n<title>27&#45;&gt;80</title>\n<path fill=\"none\" stroke=\"black\" d=\"M643.59,-11.51C654.2,-11.25 665.45,-11.18 676.36,-11.32\"/>\n<polygon fill=\"black\" stroke=\"black\" points=\"676.62,-14.83 686.69,-11.51 676.75,-7.83 676.62,-14.83\"/>\n</g>\n<!-- 80&#45;&gt;27 -->\n<g id=\"edge8\" class=\"edge\">\n<title>80&#45;&gt;27</title>\n<path fill=\"none\" stroke=\"black\" d=\"M686.69,-24.49C676.09,-24.75 664.84,-24.82 653.93,-24.68\"/>\n<polygon fill=\"black\" stroke=\"black\" points=\"653.66,-21.18 643.59,-24.49 653.53,-28.18 653.66,-21.18\"/>\n</g>\n<!-- End -->\n<g id=\"node7\" class=\"node\">\n<title>End</title>\n<ellipse fill=\"none\" stroke=\"black\" cx=\"860.45\" cy=\"-18\" rx=\"27\" ry=\"18\"/>\n<text text-anchor=\"middle\" x=\"860.45\" y=\"-14.3\" font-family=\"Times,serif\" font-size=\"14.00\">End</text>\n</g>\n<!-- 80&#45;&gt;End -->\n<g id=\"edge10\" class=\"edge\">\n<title>80&#45;&gt;End</title>\n<path fill=\"none\" stroke=\"black\" d=\"M797.58,-18C806.26,-18 815.02,-18 823.11,-18\"/>\n<polygon fill=\"black\" stroke=\"black\" points=\"823.3,-21.5 833.3,-18 823.3,-14.5 823.3,-21.5\"/>\n</g>\n<!-- Start -->\n<g id=\"node6\" class=\"node\">\n<title>Start</title>\n<ellipse fill=\"none\" stroke=\"black\" cx=\"27.3\" cy=\"-18\" rx=\"27.1\" ry=\"18\"/>\n<text text-anchor=\"middle\" x=\"27.3\" y=\"-14.3\" font-family=\"Times,serif\" font-size=\"14.00\">Start</text>\n</g>\n<!-- Start&#45;&gt;45 -->\n<g id=\"edge9\" class=\"edge\">\n<title>Start&#45;&gt;45</title>\n<path fill=\"none\" stroke=\"black\" d=\"M64.99,-18C73,-18 81.66,-18 90.24,-18\"/>\n<polygon fill=\"black\" stroke=\"black\" points=\"64.89,-14.5 54.89,-18 64.89,-21.5 64.89,-14.5\"/>\n</g>\n</g>\n</svg>\n",
            "text/plain": [
              "<graphviz.graphs.Digraph at 0x7dc7f0694f40>"
            ]
          },
          "metadata": {},
          "execution_count": 5
        }
      ]
    },
    {
      "cell_type": "code",
      "source": [
        "pop_first_node = dll.pop_first()\n",
        "print(\"Pop First Node = \",pop_first_node.value)\n",
        "dll.print_graph()"
      ],
      "metadata": {
        "colab": {
          "base_uri": "https://localhost:8080/",
          "height": 150
        },
        "id": "EFxVOQMSoJNY",
        "outputId": "9efbfad2-730c-4ebd-a2d9-ec80125b059c"
      },
      "execution_count": 7,
      "outputs": [
        {
          "output_type": "stream",
          "name": "stdout",
          "text": [
            "Pop First Node =  45\n",
            "--------\n",
            "Graph DLL\n",
            "--------\n"
          ]
        },
        {
          "output_type": "execute_result",
          "data": {
            "image/svg+xml": "<?xml version=\"1.0\" encoding=\"UTF-8\" standalone=\"no\"?>\n<!DOCTYPE svg PUBLIC \"-//W3C//DTD SVG 1.1//EN\"\n \"http://www.w3.org/Graphics/SVG/1.1/DTD/svg11.dtd\">\n<!-- Generated by graphviz version 2.43.0 (0)\n -->\n<!-- Title: %3 Pages: 1 -->\n<svg width=\"745pt\" height=\"44pt\"\n viewBox=\"0.00 0.00 745.06 44.00\" xmlns=\"http://www.w3.org/2000/svg\" xmlns:xlink=\"http://www.w3.org/1999/xlink\">\n<g id=\"graph0\" class=\"graph\" transform=\"scale(1 1) rotate(0) translate(4 40)\">\n<title>%3</title>\n<polygon fill=\"white\" stroke=\"transparent\" points=\"-4,4 -4,-40 741.06,-40 741.06,4 -4,4\"/>\n<!-- 11 -->\n<g id=\"node1\" class=\"node\">\n<title>11</title>\n<ellipse fill=\"aquamarine\" stroke=\"black\" cx=\"147.79\" cy=\"-18\" rx=\"57.39\" ry=\"18\"/>\n<text text-anchor=\"middle\" x=\"147.79\" y=\"-14.3\" font-family=\"Times,serif\" font-size=\"14.00\">11 (index=0)</text>\n</g>\n<!-- 3 -->\n<g id=\"node2\" class=\"node\">\n<title>3</title>\n<ellipse fill=\"none\" stroke=\"black\" cx=\"293.63\" cy=\"-18\" rx=\"52.79\" ry=\"18\"/>\n<text text-anchor=\"middle\" x=\"293.63\" y=\"-14.3\" font-family=\"Times,serif\" font-size=\"14.00\">3 (index=1)</text>\n</g>\n<!-- 11&#45;&gt;3 -->\n<g id=\"edge1\" class=\"edge\">\n<title>11&#45;&gt;3</title>\n<path fill=\"none\" stroke=\"black\" d=\"M201.13,-11.48C211.84,-11.22 223.18,-11.18 234.1,-11.36\"/>\n<polygon fill=\"black\" stroke=\"black\" points=\"234.32,-14.86 244.4,-11.59 234.48,-7.86 234.32,-14.86\"/>\n</g>\n<!-- 3&#45;&gt;11 -->\n<g id=\"edge3\" class=\"edge\">\n<title>3&#45;&gt;11</title>\n<path fill=\"none\" stroke=\"black\" d=\"M244.4,-24.41C233.75,-24.73 222.33,-24.82 211.22,-24.7\"/>\n<polygon fill=\"black\" stroke=\"black\" points=\"211.19,-21.2 201.13,-24.52 211.06,-28.2 211.19,-21.2\"/>\n</g>\n<!-- 27 -->\n<g id=\"node3\" class=\"node\">\n<title>27</title>\n<ellipse fill=\"none\" stroke=\"black\" cx=\"439.47\" cy=\"-18\" rx=\"57.39\" ry=\"18\"/>\n<text text-anchor=\"middle\" x=\"439.47\" y=\"-14.3\" font-family=\"Times,serif\" font-size=\"14.00\">27 (index=2)</text>\n</g>\n<!-- 3&#45;&gt;27 -->\n<g id=\"edge2\" class=\"edge\">\n<title>3&#45;&gt;27</title>\n<path fill=\"none\" stroke=\"black\" d=\"M342.93,-11.58C353.55,-11.27 364.95,-11.18 376.04,-11.3\"/>\n<polygon fill=\"black\" stroke=\"black\" points=\"376.04,-14.8 386.1,-11.48 376.17,-7.8 376.04,-14.8\"/>\n</g>\n<!-- 27&#45;&gt;3 -->\n<g id=\"edge5\" class=\"edge\">\n<title>27&#45;&gt;3</title>\n<path fill=\"none\" stroke=\"black\" d=\"M386.1,-24.52C375.41,-24.78 364.1,-24.82 353.21,-24.65\"/>\n<polygon fill=\"black\" stroke=\"black\" points=\"353,-21.14 342.93,-24.42 352.85,-28.14 353,-21.14\"/>\n</g>\n<!-- 80 -->\n<g id=\"node4\" class=\"node\">\n<title>80</title>\n<ellipse fill=\"cyan\" stroke=\"black\" cx=\"589.86\" cy=\"-18\" rx=\"57.39\" ry=\"18\"/>\n<text text-anchor=\"middle\" x=\"589.86\" y=\"-14.3\" font-family=\"Times,serif\" font-size=\"14.00\">80 (index=3)</text>\n</g>\n<!-- 27&#45;&gt;80 -->\n<g id=\"edge4\" class=\"edge\">\n<title>27&#45;&gt;80</title>\n<path fill=\"none\" stroke=\"black\" d=\"M493.21,-11.51C503.81,-11.25 515.06,-11.18 525.97,-11.32\"/>\n<polygon fill=\"black\" stroke=\"black\" points=\"526.23,-14.83 536.3,-11.51 526.36,-7.83 526.23,-14.83\"/>\n</g>\n<!-- 80&#45;&gt;27 -->\n<g id=\"edge6\" class=\"edge\">\n<title>80&#45;&gt;27</title>\n<path fill=\"none\" stroke=\"black\" d=\"M536.3,-24.49C525.7,-24.75 514.45,-24.82 503.54,-24.68\"/>\n<polygon fill=\"black\" stroke=\"black\" points=\"503.27,-21.18 493.21,-24.49 503.14,-28.18 503.27,-21.18\"/>\n</g>\n<!-- End -->\n<g id=\"node6\" class=\"node\">\n<title>End</title>\n<ellipse fill=\"none\" stroke=\"black\" cx=\"710.06\" cy=\"-18\" rx=\"27\" ry=\"18\"/>\n<text text-anchor=\"middle\" x=\"710.06\" y=\"-14.3\" font-family=\"Times,serif\" font-size=\"14.00\">End</text>\n</g>\n<!-- 80&#45;&gt;End -->\n<g id=\"edge8\" class=\"edge\">\n<title>80&#45;&gt;End</title>\n<path fill=\"none\" stroke=\"black\" d=\"M647.19,-18C655.87,-18 664.63,-18 672.72,-18\"/>\n<polygon fill=\"black\" stroke=\"black\" points=\"672.91,-21.5 682.91,-18 672.91,-14.5 672.91,-21.5\"/>\n</g>\n<!-- Start -->\n<g id=\"node5\" class=\"node\">\n<title>Start</title>\n<ellipse fill=\"none\" stroke=\"black\" cx=\"27.3\" cy=\"-18\" rx=\"27.1\" ry=\"18\"/>\n<text text-anchor=\"middle\" x=\"27.3\" y=\"-14.3\" font-family=\"Times,serif\" font-size=\"14.00\">Start</text>\n</g>\n<!-- Start&#45;&gt;11 -->\n<g id=\"edge7\" class=\"edge\">\n<title>Start&#45;&gt;11</title>\n<path fill=\"none\" stroke=\"black\" d=\"M64.99,-18C73,-18 81.66,-18 90.24,-18\"/>\n<polygon fill=\"black\" stroke=\"black\" points=\"64.89,-14.5 54.89,-18 64.89,-21.5 64.89,-14.5\"/>\n</g>\n</g>\n</svg>\n",
            "text/plain": [
              "<graphviz.graphs.Digraph at 0x7dc7f0694820>"
            ]
          },
          "metadata": {},
          "execution_count": 7
        }
      ]
    },
    {
      "cell_type": "code",
      "source": [
        "pop_node = dll.pop()\n",
        "print(\"Pop Node = \",pop_node.value)\n",
        "dll.print_graph()"
      ],
      "metadata": {
        "colab": {
          "base_uri": "https://localhost:8080/",
          "height": 150
        },
        "id": "oJPcWMkgoUzb",
        "outputId": "57802675-b654-4754-8f61-db3bb0bad41f"
      },
      "execution_count": 8,
      "outputs": [
        {
          "output_type": "stream",
          "name": "stdout",
          "text": [
            "Pop Node =  80\n",
            "--------\n",
            "Graph DLL\n",
            "--------\n"
          ]
        },
        {
          "output_type": "execute_result",
          "data": {
            "image/svg+xml": "<?xml version=\"1.0\" encoding=\"UTF-8\" standalone=\"no\"?>\n<!DOCTYPE svg PUBLIC \"-//W3C//DTD SVG 1.1//EN\"\n \"http://www.w3.org/Graphics/SVG/1.1/DTD/svg11.dtd\">\n<!-- Generated by graphviz version 2.43.0 (0)\n -->\n<!-- Title: %3 Pages: 1 -->\n<svg width=\"595pt\" height=\"44pt\"\n viewBox=\"0.00 0.00 594.67 44.00\" xmlns=\"http://www.w3.org/2000/svg\" xmlns:xlink=\"http://www.w3.org/1999/xlink\">\n<g id=\"graph0\" class=\"graph\" transform=\"scale(1 1) rotate(0) translate(4 40)\">\n<title>%3</title>\n<polygon fill=\"white\" stroke=\"transparent\" points=\"-4,4 -4,-40 590.67,-40 590.67,4 -4,4\"/>\n<!-- 11 -->\n<g id=\"node1\" class=\"node\">\n<title>11</title>\n<ellipse fill=\"aquamarine\" stroke=\"black\" cx=\"147.79\" cy=\"-18\" rx=\"57.39\" ry=\"18\"/>\n<text text-anchor=\"middle\" x=\"147.79\" y=\"-14.3\" font-family=\"Times,serif\" font-size=\"14.00\">11 (index=0)</text>\n</g>\n<!-- 3 -->\n<g id=\"node2\" class=\"node\">\n<title>3</title>\n<ellipse fill=\"none\" stroke=\"black\" cx=\"293.63\" cy=\"-18\" rx=\"52.79\" ry=\"18\"/>\n<text text-anchor=\"middle\" x=\"293.63\" y=\"-14.3\" font-family=\"Times,serif\" font-size=\"14.00\">3 (index=1)</text>\n</g>\n<!-- 11&#45;&gt;3 -->\n<g id=\"edge1\" class=\"edge\">\n<title>11&#45;&gt;3</title>\n<path fill=\"none\" stroke=\"black\" d=\"M201.13,-11.48C211.84,-11.22 223.18,-11.18 234.1,-11.36\"/>\n<polygon fill=\"black\" stroke=\"black\" points=\"234.32,-14.86 244.4,-11.59 234.48,-7.86 234.32,-14.86\"/>\n</g>\n<!-- 3&#45;&gt;11 -->\n<g id=\"edge3\" class=\"edge\">\n<title>3&#45;&gt;11</title>\n<path fill=\"none\" stroke=\"black\" d=\"M244.4,-24.41C233.75,-24.73 222.33,-24.82 211.22,-24.7\"/>\n<polygon fill=\"black\" stroke=\"black\" points=\"211.19,-21.2 201.13,-24.52 211.06,-28.2 211.19,-21.2\"/>\n</g>\n<!-- 27 -->\n<g id=\"node3\" class=\"node\">\n<title>27</title>\n<ellipse fill=\"cyan\" stroke=\"black\" cx=\"439.47\" cy=\"-18\" rx=\"57.39\" ry=\"18\"/>\n<text text-anchor=\"middle\" x=\"439.47\" y=\"-14.3\" font-family=\"Times,serif\" font-size=\"14.00\">27 (index=2)</text>\n</g>\n<!-- 3&#45;&gt;27 -->\n<g id=\"edge2\" class=\"edge\">\n<title>3&#45;&gt;27</title>\n<path fill=\"none\" stroke=\"black\" d=\"M342.93,-11.58C353.55,-11.27 364.95,-11.18 376.04,-11.3\"/>\n<polygon fill=\"black\" stroke=\"black\" points=\"376.04,-14.8 386.1,-11.48 376.17,-7.8 376.04,-14.8\"/>\n</g>\n<!-- 27&#45;&gt;3 -->\n<g id=\"edge4\" class=\"edge\">\n<title>27&#45;&gt;3</title>\n<path fill=\"none\" stroke=\"black\" d=\"M386.1,-24.52C375.41,-24.78 364.1,-24.82 353.21,-24.65\"/>\n<polygon fill=\"black\" stroke=\"black\" points=\"353,-21.14 342.93,-24.42 352.85,-28.14 353,-21.14\"/>\n</g>\n<!-- End -->\n<g id=\"node5\" class=\"node\">\n<title>End</title>\n<ellipse fill=\"none\" stroke=\"black\" cx=\"559.67\" cy=\"-18\" rx=\"27\" ry=\"18\"/>\n<text text-anchor=\"middle\" x=\"559.67\" y=\"-14.3\" font-family=\"Times,serif\" font-size=\"14.00\">End</text>\n</g>\n<!-- 27&#45;&gt;End -->\n<g id=\"edge6\" class=\"edge\">\n<title>27&#45;&gt;End</title>\n<path fill=\"none\" stroke=\"black\" d=\"M496.8,-18C505.48,-18 514.24,-18 522.33,-18\"/>\n<polygon fill=\"black\" stroke=\"black\" points=\"522.52,-21.5 532.52,-18 522.52,-14.5 522.52,-21.5\"/>\n</g>\n<!-- Start -->\n<g id=\"node4\" class=\"node\">\n<title>Start</title>\n<ellipse fill=\"none\" stroke=\"black\" cx=\"27.3\" cy=\"-18\" rx=\"27.1\" ry=\"18\"/>\n<text text-anchor=\"middle\" x=\"27.3\" y=\"-14.3\" font-family=\"Times,serif\" font-size=\"14.00\">Start</text>\n</g>\n<!-- Start&#45;&gt;11 -->\n<g id=\"edge5\" class=\"edge\">\n<title>Start&#45;&gt;11</title>\n<path fill=\"none\" stroke=\"black\" d=\"M64.99,-18C73,-18 81.66,-18 90.24,-18\"/>\n<polygon fill=\"black\" stroke=\"black\" points=\"64.89,-14.5 54.89,-18 64.89,-21.5 64.89,-14.5\"/>\n</g>\n</g>\n</svg>\n",
            "text/plain": [
              "<graphviz.graphs.Digraph at 0x7dc7f0627310>"
            ]
          },
          "metadata": {},
          "execution_count": 8
        }
      ]
    },
    {
      "cell_type": "code",
      "source": [
        "dll = DoubleLinkedList(11)\n",
        "dll.append(3)\n",
        "dll.append(27)\n",
        "dll.append(80)\n",
        "dll.append(90)\n",
        "dll.append(102)\n",
        "dll.append(151)\n",
        "dll.print_graph()"
      ],
      "metadata": {
        "colab": {
          "base_uri": "https://localhost:8080/",
          "height": 152
        },
        "id": "HwJl-lrhoiD9",
        "outputId": "585f9c45-25a1-4e1b-d3d3-060e386f68af"
      },
      "execution_count": 10,
      "outputs": [
        {
          "output_type": "stream",
          "name": "stdout",
          "text": [
            "--------\n",
            "Graph DLL\n",
            "--------\n"
          ]
        },
        {
          "output_type": "execute_result",
          "data": {
            "image/svg+xml": "<?xml version=\"1.0\" encoding=\"UTF-8\" standalone=\"no\"?>\n<!DOCTYPE svg PUBLIC \"-//W3C//DTD SVG 1.1//EN\"\n \"http://www.w3.org/Graphics/SVG/1.1/DTD/svg11.dtd\">\n<!-- Generated by graphviz version 2.43.0 (0)\n -->\n<!-- Title: %3 Pages: 1 -->\n<svg width=\"1214pt\" height=\"44pt\"\n viewBox=\"0.00 0.00 1214.42 44.00\" xmlns=\"http://www.w3.org/2000/svg\" xmlns:xlink=\"http://www.w3.org/1999/xlink\">\n<g id=\"graph0\" class=\"graph\" transform=\"scale(1 1) rotate(0) translate(4 40)\">\n<title>%3</title>\n<polygon fill=\"white\" stroke=\"transparent\" points=\"-4,4 -4,-40 1210.42,-40 1210.42,4 -4,4\"/>\n<!-- 11 -->\n<g id=\"node1\" class=\"node\">\n<title>11</title>\n<ellipse fill=\"aquamarine\" stroke=\"black\" cx=\"147.79\" cy=\"-18\" rx=\"57.39\" ry=\"18\"/>\n<text text-anchor=\"middle\" x=\"147.79\" y=\"-14.3\" font-family=\"Times,serif\" font-size=\"14.00\">11 (index=0)</text>\n</g>\n<!-- 3 -->\n<g id=\"node2\" class=\"node\">\n<title>3</title>\n<ellipse fill=\"none\" stroke=\"black\" cx=\"293.63\" cy=\"-18\" rx=\"52.79\" ry=\"18\"/>\n<text text-anchor=\"middle\" x=\"293.63\" y=\"-14.3\" font-family=\"Times,serif\" font-size=\"14.00\">3 (index=1)</text>\n</g>\n<!-- 11&#45;&gt;3 -->\n<g id=\"edge1\" class=\"edge\">\n<title>11&#45;&gt;3</title>\n<path fill=\"none\" stroke=\"black\" d=\"M201.13,-11.48C211.84,-11.22 223.18,-11.18 234.1,-11.36\"/>\n<polygon fill=\"black\" stroke=\"black\" points=\"234.32,-14.86 244.4,-11.59 234.48,-7.86 234.32,-14.86\"/>\n</g>\n<!-- 3&#45;&gt;11 -->\n<g id=\"edge3\" class=\"edge\">\n<title>3&#45;&gt;11</title>\n<path fill=\"none\" stroke=\"black\" d=\"M244.4,-24.41C233.75,-24.73 222.33,-24.82 211.22,-24.7\"/>\n<polygon fill=\"black\" stroke=\"black\" points=\"211.19,-21.2 201.13,-24.52 211.06,-28.2 211.19,-21.2\"/>\n</g>\n<!-- 27 -->\n<g id=\"node3\" class=\"node\">\n<title>27</title>\n<ellipse fill=\"none\" stroke=\"black\" cx=\"439.47\" cy=\"-18\" rx=\"57.39\" ry=\"18\"/>\n<text text-anchor=\"middle\" x=\"439.47\" y=\"-14.3\" font-family=\"Times,serif\" font-size=\"14.00\">27 (index=2)</text>\n</g>\n<!-- 3&#45;&gt;27 -->\n<g id=\"edge2\" class=\"edge\">\n<title>3&#45;&gt;27</title>\n<path fill=\"none\" stroke=\"black\" d=\"M342.93,-11.58C353.55,-11.27 364.95,-11.18 376.04,-11.3\"/>\n<polygon fill=\"black\" stroke=\"black\" points=\"376.04,-14.8 386.1,-11.48 376.17,-7.8 376.04,-14.8\"/>\n</g>\n<!-- 27&#45;&gt;3 -->\n<g id=\"edge5\" class=\"edge\">\n<title>27&#45;&gt;3</title>\n<path fill=\"none\" stroke=\"black\" d=\"M386.1,-24.52C375.41,-24.78 364.1,-24.82 353.21,-24.65\"/>\n<polygon fill=\"black\" stroke=\"black\" points=\"353,-21.14 342.93,-24.42 352.85,-28.14 353,-21.14\"/>\n</g>\n<!-- 80 -->\n<g id=\"node4\" class=\"node\">\n<title>80</title>\n<ellipse fill=\"none\" stroke=\"black\" cx=\"589.86\" cy=\"-18\" rx=\"57.39\" ry=\"18\"/>\n<text text-anchor=\"middle\" x=\"589.86\" y=\"-14.3\" font-family=\"Times,serif\" font-size=\"14.00\">80 (index=3)</text>\n</g>\n<!-- 27&#45;&gt;80 -->\n<g id=\"edge4\" class=\"edge\">\n<title>27&#45;&gt;80</title>\n<path fill=\"none\" stroke=\"black\" d=\"M493.21,-11.51C503.81,-11.25 515.06,-11.18 525.97,-11.32\"/>\n<polygon fill=\"black\" stroke=\"black\" points=\"526.23,-14.83 536.3,-11.51 526.36,-7.83 526.23,-14.83\"/>\n</g>\n<!-- 80&#45;&gt;27 -->\n<g id=\"edge7\" class=\"edge\">\n<title>80&#45;&gt;27</title>\n<path fill=\"none\" stroke=\"black\" d=\"M536.3,-24.49C525.7,-24.75 514.45,-24.82 503.54,-24.68\"/>\n<polygon fill=\"black\" stroke=\"black\" points=\"503.27,-21.18 493.21,-24.49 503.14,-28.18 503.27,-21.18\"/>\n</g>\n<!-- 90 -->\n<g id=\"node5\" class=\"node\">\n<title>90</title>\n<ellipse fill=\"none\" stroke=\"black\" cx=\"740.25\" cy=\"-18\" rx=\"57.39\" ry=\"18\"/>\n<text text-anchor=\"middle\" x=\"740.25\" y=\"-14.3\" font-family=\"Times,serif\" font-size=\"14.00\">90 (index=4)</text>\n</g>\n<!-- 80&#45;&gt;90 -->\n<g id=\"edge6\" class=\"edge\">\n<title>80&#45;&gt;90</title>\n<path fill=\"none\" stroke=\"black\" d=\"M643.59,-11.51C654.2,-11.25 665.45,-11.18 676.36,-11.32\"/>\n<polygon fill=\"black\" stroke=\"black\" points=\"676.62,-14.83 686.69,-11.51 676.75,-7.83 676.62,-14.83\"/>\n</g>\n<!-- 90&#45;&gt;80 -->\n<g id=\"edge9\" class=\"edge\">\n<title>90&#45;&gt;80</title>\n<path fill=\"none\" stroke=\"black\" d=\"M686.69,-24.49C676.09,-24.75 664.84,-24.82 653.93,-24.68\"/>\n<polygon fill=\"black\" stroke=\"black\" points=\"653.66,-21.18 643.59,-24.49 653.53,-28.18 653.66,-21.18\"/>\n</g>\n<!-- 102 -->\n<g id=\"node6\" class=\"node\">\n<title>102</title>\n<ellipse fill=\"none\" stroke=\"black\" cx=\"895.19\" cy=\"-18\" rx=\"61.99\" ry=\"18\"/>\n<text text-anchor=\"middle\" x=\"895.19\" y=\"-14.3\" font-family=\"Times,serif\" font-size=\"14.00\">102 (index=5)</text>\n</g>\n<!-- 90&#45;&gt;102 -->\n<g id=\"edge8\" class=\"edge\">\n<title>90&#45;&gt;102</title>\n<path fill=\"none\" stroke=\"black\" d=\"M793.88,-11.55C804.67,-11.27 816.15,-11.19 827.36,-11.3\"/>\n<polygon fill=\"black\" stroke=\"black\" points=\"827.49,-14.8 837.54,-11.46 827.6,-7.8 827.49,-14.8\"/>\n</g>\n<!-- 102&#45;&gt;90 -->\n<g id=\"edge11\" class=\"edge\">\n<title>102&#45;&gt;90</title>\n<path fill=\"none\" stroke=\"black\" d=\"M837.54,-24.54C826.6,-24.78 815.08,-24.81 803.96,-24.65\"/>\n<polygon fill=\"black\" stroke=\"black\" points=\"803.95,-21.15 793.88,-24.45 803.81,-28.15 803.95,-21.15\"/>\n</g>\n<!-- 151 -->\n<g id=\"node7\" class=\"node\">\n<title>151</title>\n<ellipse fill=\"cyan\" stroke=\"black\" cx=\"1054.68\" cy=\"-18\" rx=\"61.99\" ry=\"18\"/>\n<text text-anchor=\"middle\" x=\"1054.68\" y=\"-14.3\" font-family=\"Times,serif\" font-size=\"14.00\">151 (index=6)</text>\n</g>\n<!-- 102&#45;&gt;151 -->\n<g id=\"edge10\" class=\"edge\">\n<title>102&#45;&gt;151</title>\n<path fill=\"none\" stroke=\"black\" d=\"M953.05,-11.49C963.97,-11.24 975.51,-11.19 986.73,-11.32\"/>\n<polygon fill=\"black\" stroke=\"black\" points=\"986.85,-14.82 996.91,-11.49 986.97,-7.82 986.85,-14.82\"/>\n</g>\n<!-- 151&#45;&gt;102 -->\n<g id=\"edge12\" class=\"edge\">\n<title>151&#45;&gt;102</title>\n<path fill=\"none\" stroke=\"black\" d=\"M996.91,-24.51C985.98,-24.75 974.44,-24.81 963.23,-24.68\"/>\n<polygon fill=\"black\" stroke=\"black\" points=\"963.1,-21.18 953.05,-24.51 962.99,-28.18 963.1,-21.18\"/>\n</g>\n<!-- End -->\n<g id=\"node9\" class=\"node\">\n<title>End</title>\n<ellipse fill=\"none\" stroke=\"black\" cx=\"1179.42\" cy=\"-18\" rx=\"27\" ry=\"18\"/>\n<text text-anchor=\"middle\" x=\"1179.42\" y=\"-14.3\" font-family=\"Times,serif\" font-size=\"14.00\">End</text>\n</g>\n<!-- 151&#45;&gt;End -->\n<g id=\"edge14\" class=\"edge\">\n<title>151&#45;&gt;End</title>\n<path fill=\"none\" stroke=\"black\" d=\"M1116.69,-18C1125.39,-18 1134.1,-18 1142.13,-18\"/>\n<polygon fill=\"black\" stroke=\"black\" points=\"1142.21,-21.5 1152.21,-18 1142.21,-14.5 1142.21,-21.5\"/>\n</g>\n<!-- Start -->\n<g id=\"node8\" class=\"node\">\n<title>Start</title>\n<ellipse fill=\"none\" stroke=\"black\" cx=\"27.3\" cy=\"-18\" rx=\"27.1\" ry=\"18\"/>\n<text text-anchor=\"middle\" x=\"27.3\" y=\"-14.3\" font-family=\"Times,serif\" font-size=\"14.00\">Start</text>\n</g>\n<!-- Start&#45;&gt;11 -->\n<g id=\"edge13\" class=\"edge\">\n<title>Start&#45;&gt;11</title>\n<path fill=\"none\" stroke=\"black\" d=\"M64.99,-18C73,-18 81.66,-18 90.24,-18\"/>\n<polygon fill=\"black\" stroke=\"black\" points=\"64.89,-14.5 54.89,-18 64.89,-21.5 64.89,-14.5\"/>\n</g>\n</g>\n</svg>\n",
            "text/plain": [
              "<graphviz.graphs.Digraph at 0x7dc7b3729f30>"
            ]
          },
          "metadata": {},
          "execution_count": 10
        }
      ]
    },
    {
      "cell_type": "code",
      "source": [
        "node_0 = dll.get(0)\n",
        "print(\"node_2 = \",node_0.value)\n",
        "\n",
        "node_2 = dll.get(2)\n",
        "print(\"node_2 = \",node_2.value)\n",
        "\n",
        "node_4 = dll.get(4)\n",
        "print(\"node_4 = \",node_4.value)\n",
        "\n",
        "node_6 = dll.get(6)\n",
        "print(\"node_4 = \",node_6.value)\n",
        "\n",
        "node_11 = dll.get(11)\n",
        "if node_11:\n",
        "    print(\"node_11 = \",node_11.value)\n",
        "else:\n",
        "    print(\"node_11 = None\")"
      ],
      "metadata": {
        "colab": {
          "base_uri": "https://localhost:8080/"
        },
        "id": "YJw7gm9WwhfT",
        "outputId": "d00adc00-a943-4ca0-86ab-0633159ed1b0"
      },
      "execution_count": 14,
      "outputs": [
        {
          "output_type": "stream",
          "name": "stdout",
          "text": [
            "node_2 =  11\n",
            "node_2 =  27\n",
            "node_4 =  90\n",
            "node_4 =  151\n",
            "node_11 = None\n"
          ]
        }
      ]
    },
    {
      "cell_type": "code",
      "source": [
        "dll = DoubleLinkedList(11)\n",
        "dll.append(3)\n",
        "dll.append(27)\n",
        "dll.append(80)\n",
        "dll.append(90)\n",
        "dll.print_graph()"
      ],
      "metadata": {
        "colab": {
          "base_uri": "https://localhost:8080/",
          "height": 132
        },
        "id": "eswuj3vAFwrK",
        "outputId": "b2699673-7e8d-41e6-c06b-19c21af54e4c"
      },
      "execution_count": 18,
      "outputs": [
        {
          "output_type": "stream",
          "name": "stdout",
          "text": [
            "--------\n",
            "Graph DLL\n",
            "--------\n"
          ]
        },
        {
          "output_type": "execute_result",
          "data": {
            "image/svg+xml": "<?xml version=\"1.0\" encoding=\"UTF-8\" standalone=\"no\"?>\n<!DOCTYPE svg PUBLIC \"-//W3C//DTD SVG 1.1//EN\"\n \"http://www.w3.org/Graphics/SVG/1.1/DTD/svg11.dtd\">\n<!-- Generated by graphviz version 2.43.0 (0)\n -->\n<!-- Title: %3 Pages: 1 -->\n<svg width=\"895pt\" height=\"44pt\"\n viewBox=\"0.00 0.00 895.45 44.00\" xmlns=\"http://www.w3.org/2000/svg\" xmlns:xlink=\"http://www.w3.org/1999/xlink\">\n<g id=\"graph0\" class=\"graph\" transform=\"scale(1 1) rotate(0) translate(4 40)\">\n<title>%3</title>\n<polygon fill=\"white\" stroke=\"transparent\" points=\"-4,4 -4,-40 891.45,-40 891.45,4 -4,4\"/>\n<!-- 11 -->\n<g id=\"node1\" class=\"node\">\n<title>11</title>\n<ellipse fill=\"aquamarine\" stroke=\"black\" cx=\"147.79\" cy=\"-18\" rx=\"57.39\" ry=\"18\"/>\n<text text-anchor=\"middle\" x=\"147.79\" y=\"-14.3\" font-family=\"Times,serif\" font-size=\"14.00\">11 (index=0)</text>\n</g>\n<!-- 3 -->\n<g id=\"node2\" class=\"node\">\n<title>3</title>\n<ellipse fill=\"none\" stroke=\"black\" cx=\"293.63\" cy=\"-18\" rx=\"52.79\" ry=\"18\"/>\n<text text-anchor=\"middle\" x=\"293.63\" y=\"-14.3\" font-family=\"Times,serif\" font-size=\"14.00\">3 (index=1)</text>\n</g>\n<!-- 11&#45;&gt;3 -->\n<g id=\"edge1\" class=\"edge\">\n<title>11&#45;&gt;3</title>\n<path fill=\"none\" stroke=\"black\" d=\"M201.13,-11.48C211.84,-11.22 223.18,-11.18 234.1,-11.36\"/>\n<polygon fill=\"black\" stroke=\"black\" points=\"234.32,-14.86 244.4,-11.59 234.48,-7.86 234.32,-14.86\"/>\n</g>\n<!-- 3&#45;&gt;11 -->\n<g id=\"edge3\" class=\"edge\">\n<title>3&#45;&gt;11</title>\n<path fill=\"none\" stroke=\"black\" d=\"M244.4,-24.41C233.75,-24.73 222.33,-24.82 211.22,-24.7\"/>\n<polygon fill=\"black\" stroke=\"black\" points=\"211.19,-21.2 201.13,-24.52 211.06,-28.2 211.19,-21.2\"/>\n</g>\n<!-- 27 -->\n<g id=\"node3\" class=\"node\">\n<title>27</title>\n<ellipse fill=\"none\" stroke=\"black\" cx=\"439.47\" cy=\"-18\" rx=\"57.39\" ry=\"18\"/>\n<text text-anchor=\"middle\" x=\"439.47\" y=\"-14.3\" font-family=\"Times,serif\" font-size=\"14.00\">27 (index=2)</text>\n</g>\n<!-- 3&#45;&gt;27 -->\n<g id=\"edge2\" class=\"edge\">\n<title>3&#45;&gt;27</title>\n<path fill=\"none\" stroke=\"black\" d=\"M342.93,-11.58C353.55,-11.27 364.95,-11.18 376.04,-11.3\"/>\n<polygon fill=\"black\" stroke=\"black\" points=\"376.04,-14.8 386.1,-11.48 376.17,-7.8 376.04,-14.8\"/>\n</g>\n<!-- 27&#45;&gt;3 -->\n<g id=\"edge5\" class=\"edge\">\n<title>27&#45;&gt;3</title>\n<path fill=\"none\" stroke=\"black\" d=\"M386.1,-24.52C375.41,-24.78 364.1,-24.82 353.21,-24.65\"/>\n<polygon fill=\"black\" stroke=\"black\" points=\"353,-21.14 342.93,-24.42 352.85,-28.14 353,-21.14\"/>\n</g>\n<!-- 80 -->\n<g id=\"node4\" class=\"node\">\n<title>80</title>\n<ellipse fill=\"none\" stroke=\"black\" cx=\"589.86\" cy=\"-18\" rx=\"57.39\" ry=\"18\"/>\n<text text-anchor=\"middle\" x=\"589.86\" y=\"-14.3\" font-family=\"Times,serif\" font-size=\"14.00\">80 (index=3)</text>\n</g>\n<!-- 27&#45;&gt;80 -->\n<g id=\"edge4\" class=\"edge\">\n<title>27&#45;&gt;80</title>\n<path fill=\"none\" stroke=\"black\" d=\"M493.21,-11.51C503.81,-11.25 515.06,-11.18 525.97,-11.32\"/>\n<polygon fill=\"black\" stroke=\"black\" points=\"526.23,-14.83 536.3,-11.51 526.36,-7.83 526.23,-14.83\"/>\n</g>\n<!-- 80&#45;&gt;27 -->\n<g id=\"edge7\" class=\"edge\">\n<title>80&#45;&gt;27</title>\n<path fill=\"none\" stroke=\"black\" d=\"M536.3,-24.49C525.7,-24.75 514.45,-24.82 503.54,-24.68\"/>\n<polygon fill=\"black\" stroke=\"black\" points=\"503.27,-21.18 493.21,-24.49 503.14,-28.18 503.27,-21.18\"/>\n</g>\n<!-- 90 -->\n<g id=\"node5\" class=\"node\">\n<title>90</title>\n<ellipse fill=\"cyan\" stroke=\"black\" cx=\"740.25\" cy=\"-18\" rx=\"57.39\" ry=\"18\"/>\n<text text-anchor=\"middle\" x=\"740.25\" y=\"-14.3\" font-family=\"Times,serif\" font-size=\"14.00\">90 (index=4)</text>\n</g>\n<!-- 80&#45;&gt;90 -->\n<g id=\"edge6\" class=\"edge\">\n<title>80&#45;&gt;90</title>\n<path fill=\"none\" stroke=\"black\" d=\"M643.59,-11.51C654.2,-11.25 665.45,-11.18 676.36,-11.32\"/>\n<polygon fill=\"black\" stroke=\"black\" points=\"676.62,-14.83 686.69,-11.51 676.75,-7.83 676.62,-14.83\"/>\n</g>\n<!-- 90&#45;&gt;80 -->\n<g id=\"edge8\" class=\"edge\">\n<title>90&#45;&gt;80</title>\n<path fill=\"none\" stroke=\"black\" d=\"M686.69,-24.49C676.09,-24.75 664.84,-24.82 653.93,-24.68\"/>\n<polygon fill=\"black\" stroke=\"black\" points=\"653.66,-21.18 643.59,-24.49 653.53,-28.18 653.66,-21.18\"/>\n</g>\n<!-- End -->\n<g id=\"node7\" class=\"node\">\n<title>End</title>\n<ellipse fill=\"none\" stroke=\"black\" cx=\"860.45\" cy=\"-18\" rx=\"27\" ry=\"18\"/>\n<text text-anchor=\"middle\" x=\"860.45\" y=\"-14.3\" font-family=\"Times,serif\" font-size=\"14.00\">End</text>\n</g>\n<!-- 90&#45;&gt;End -->\n<g id=\"edge10\" class=\"edge\">\n<title>90&#45;&gt;End</title>\n<path fill=\"none\" stroke=\"black\" d=\"M797.58,-18C806.26,-18 815.02,-18 823.11,-18\"/>\n<polygon fill=\"black\" stroke=\"black\" points=\"823.3,-21.5 833.3,-18 823.3,-14.5 823.3,-21.5\"/>\n</g>\n<!-- Start -->\n<g id=\"node6\" class=\"node\">\n<title>Start</title>\n<ellipse fill=\"none\" stroke=\"black\" cx=\"27.3\" cy=\"-18\" rx=\"27.1\" ry=\"18\"/>\n<text text-anchor=\"middle\" x=\"27.3\" y=\"-14.3\" font-family=\"Times,serif\" font-size=\"14.00\">Start</text>\n</g>\n<!-- Start&#45;&gt;11 -->\n<g id=\"edge9\" class=\"edge\">\n<title>Start&#45;&gt;11</title>\n<path fill=\"none\" stroke=\"black\" d=\"M64.99,-18C73,-18 81.66,-18 90.24,-18\"/>\n<polygon fill=\"black\" stroke=\"black\" points=\"64.89,-14.5 54.89,-18 64.89,-21.5 64.89,-14.5\"/>\n</g>\n</g>\n</svg>\n",
            "text/plain": [
              "<graphviz.graphs.Digraph at 0x7dc7b30ca260>"
            ]
          },
          "metadata": {},
          "execution_count": 18
        }
      ]
    },
    {
      "cell_type": "code",
      "source": [
        "dll.insert(0,100)\n",
        "dll.print_graph()"
      ],
      "metadata": {
        "colab": {
          "base_uri": "https://localhost:8080/",
          "height": 152
        },
        "id": "Db7zOamAFwvF",
        "outputId": "a8808ea8-9164-431b-bfdc-0907d230059b"
      },
      "execution_count": 19,
      "outputs": [
        {
          "output_type": "stream",
          "name": "stdout",
          "text": [
            "--------\n",
            "Graph DLL\n",
            "--------\n"
          ]
        },
        {
          "output_type": "execute_result",
          "data": {
            "image/svg+xml": "<?xml version=\"1.0\" encoding=\"UTF-8\" standalone=\"no\"?>\n<!DOCTYPE svg PUBLIC \"-//W3C//DTD SVG 1.1//EN\"\n \"http://www.w3.org/Graphics/SVG/1.1/DTD/svg11.dtd\">\n<!-- Generated by graphviz version 2.43.0 (0)\n -->\n<!-- Title: %3 Pages: 1 -->\n<svg width=\"1055pt\" height=\"44pt\"\n viewBox=\"0.00 0.00 1054.93 44.00\" xmlns=\"http://www.w3.org/2000/svg\" xmlns:xlink=\"http://www.w3.org/1999/xlink\">\n<g id=\"graph0\" class=\"graph\" transform=\"scale(1 1) rotate(0) translate(4 40)\">\n<title>%3</title>\n<polygon fill=\"white\" stroke=\"transparent\" points=\"-4,4 -4,-40 1050.93,-40 1050.93,4 -4,4\"/>\n<!-- 100 -->\n<g id=\"node1\" class=\"node\">\n<title>100</title>\n<ellipse fill=\"aquamarine\" stroke=\"black\" cx=\"152.34\" cy=\"-18\" rx=\"61.99\" ry=\"18\"/>\n<text text-anchor=\"middle\" x=\"152.34\" y=\"-14.3\" font-family=\"Times,serif\" font-size=\"14.00\">100 (index=0)</text>\n</g>\n<!-- 11 -->\n<g id=\"node2\" class=\"node\">\n<title>11</title>\n<ellipse fill=\"none\" stroke=\"black\" cx=\"307.28\" cy=\"-18\" rx=\"57.39\" ry=\"18\"/>\n<text text-anchor=\"middle\" x=\"307.28\" y=\"-14.3\" font-family=\"Times,serif\" font-size=\"14.00\">11 (index=1)</text>\n</g>\n<!-- 100&#45;&gt;11 -->\n<g id=\"edge1\" class=\"edge\">\n<title>100&#45;&gt;11</title>\n<path fill=\"none\" stroke=\"black\" d=\"M210.29,-11.45C221.21,-11.22 232.71,-11.19 243.79,-11.35\"/>\n<polygon fill=\"black\" stroke=\"black\" points=\"243.76,-14.85 253.83,-11.56 243.91,-7.85 243.76,-14.85\"/>\n</g>\n<!-- 11&#45;&gt;100 -->\n<g id=\"edge3\" class=\"edge\">\n<title>11&#45;&gt;100</title>\n<path fill=\"none\" stroke=\"black\" d=\"M253.83,-24.44C243.09,-24.73 231.63,-24.81 220.45,-24.7\"/>\n<polygon fill=\"black\" stroke=\"black\" points=\"220.34,-21.2 210.29,-24.55 220.23,-28.2 220.34,-21.2\"/>\n</g>\n<!-- 3 -->\n<g id=\"node3\" class=\"node\">\n<title>3</title>\n<ellipse fill=\"none\" stroke=\"black\" cx=\"453.12\" cy=\"-18\" rx=\"52.79\" ry=\"18\"/>\n<text text-anchor=\"middle\" x=\"453.12\" y=\"-14.3\" font-family=\"Times,serif\" font-size=\"14.00\">3 (index=2)</text>\n</g>\n<!-- 11&#45;&gt;3 -->\n<g id=\"edge2\" class=\"edge\">\n<title>11&#45;&gt;3</title>\n<path fill=\"none\" stroke=\"black\" d=\"M360.62,-11.48C371.33,-11.22 382.67,-11.18 393.59,-11.36\"/>\n<polygon fill=\"black\" stroke=\"black\" points=\"393.81,-14.86 403.89,-11.59 393.97,-7.86 393.81,-14.86\"/>\n</g>\n<!-- 3&#45;&gt;11 -->\n<g id=\"edge5\" class=\"edge\">\n<title>3&#45;&gt;11</title>\n<path fill=\"none\" stroke=\"black\" d=\"M403.89,-24.41C393.24,-24.73 381.82,-24.82 370.71,-24.7\"/>\n<polygon fill=\"black\" stroke=\"black\" points=\"370.67,-21.2 360.62,-24.52 370.55,-28.2 370.67,-21.2\"/>\n</g>\n<!-- 27 -->\n<g id=\"node4\" class=\"node\">\n<title>27</title>\n<ellipse fill=\"none\" stroke=\"black\" cx=\"598.96\" cy=\"-18\" rx=\"57.39\" ry=\"18\"/>\n<text text-anchor=\"middle\" x=\"598.96\" y=\"-14.3\" font-family=\"Times,serif\" font-size=\"14.00\">27 (index=3)</text>\n</g>\n<!-- 3&#45;&gt;27 -->\n<g id=\"edge4\" class=\"edge\">\n<title>3&#45;&gt;27</title>\n<path fill=\"none\" stroke=\"black\" d=\"M502.42,-11.58C513.04,-11.27 524.44,-11.18 535.53,-11.3\"/>\n<polygon fill=\"black\" stroke=\"black\" points=\"535.53,-14.8 545.59,-11.48 535.66,-7.8 535.53,-14.8\"/>\n</g>\n<!-- 27&#45;&gt;3 -->\n<g id=\"edge7\" class=\"edge\">\n<title>27&#45;&gt;3</title>\n<path fill=\"none\" stroke=\"black\" d=\"M545.59,-24.52C534.9,-24.78 523.59,-24.82 512.7,-24.65\"/>\n<polygon fill=\"black\" stroke=\"black\" points=\"512.49,-21.14 502.42,-24.42 512.34,-28.14 512.49,-21.14\"/>\n</g>\n<!-- 80 -->\n<g id=\"node5\" class=\"node\">\n<title>80</title>\n<ellipse fill=\"none\" stroke=\"black\" cx=\"749.35\" cy=\"-18\" rx=\"57.39\" ry=\"18\"/>\n<text text-anchor=\"middle\" x=\"749.35\" y=\"-14.3\" font-family=\"Times,serif\" font-size=\"14.00\">80 (index=4)</text>\n</g>\n<!-- 27&#45;&gt;80 -->\n<g id=\"edge6\" class=\"edge\">\n<title>27&#45;&gt;80</title>\n<path fill=\"none\" stroke=\"black\" d=\"M652.69,-11.51C663.3,-11.25 674.55,-11.18 685.46,-11.32\"/>\n<polygon fill=\"black\" stroke=\"black\" points=\"685.72,-14.83 695.78,-11.51 685.85,-7.83 685.72,-14.83\"/>\n</g>\n<!-- 80&#45;&gt;27 -->\n<g id=\"edge9\" class=\"edge\">\n<title>80&#45;&gt;27</title>\n<path fill=\"none\" stroke=\"black\" d=\"M695.78,-24.49C685.19,-24.75 673.94,-24.82 663.03,-24.68\"/>\n<polygon fill=\"black\" stroke=\"black\" points=\"662.76,-21.18 652.69,-24.49 662.63,-28.18 662.76,-21.18\"/>\n</g>\n<!-- 90 -->\n<g id=\"node6\" class=\"node\">\n<title>90</title>\n<ellipse fill=\"cyan\" stroke=\"black\" cx=\"899.74\" cy=\"-18\" rx=\"57.39\" ry=\"18\"/>\n<text text-anchor=\"middle\" x=\"899.74\" y=\"-14.3\" font-family=\"Times,serif\" font-size=\"14.00\">90 (index=5)</text>\n</g>\n<!-- 80&#45;&gt;90 -->\n<g id=\"edge8\" class=\"edge\">\n<title>80&#45;&gt;90</title>\n<path fill=\"none\" stroke=\"black\" d=\"M803.08,-11.51C813.69,-11.25 824.94,-11.18 835.85,-11.32\"/>\n<polygon fill=\"black\" stroke=\"black\" points=\"836.11,-14.83 846.17,-11.51 836.24,-7.83 836.11,-14.83\"/>\n</g>\n<!-- 90&#45;&gt;80 -->\n<g id=\"edge10\" class=\"edge\">\n<title>90&#45;&gt;80</title>\n<path fill=\"none\" stroke=\"black\" d=\"M846.17,-24.49C835.58,-24.75 824.33,-24.82 813.42,-24.68\"/>\n<polygon fill=\"black\" stroke=\"black\" points=\"813.15,-21.18 803.08,-24.49 813.02,-28.18 813.15,-21.18\"/>\n</g>\n<!-- End -->\n<g id=\"node8\" class=\"node\">\n<title>End</title>\n<ellipse fill=\"none\" stroke=\"black\" cx=\"1019.93\" cy=\"-18\" rx=\"27\" ry=\"18\"/>\n<text text-anchor=\"middle\" x=\"1019.93\" y=\"-14.3\" font-family=\"Times,serif\" font-size=\"14.00\">End</text>\n</g>\n<!-- 90&#45;&gt;End -->\n<g id=\"edge12\" class=\"edge\">\n<title>90&#45;&gt;End</title>\n<path fill=\"none\" stroke=\"black\" d=\"M957.07,-18C965.75,-18 974.51,-18 982.6,-18\"/>\n<polygon fill=\"black\" stroke=\"black\" points=\"982.79,-21.5 992.79,-18 982.79,-14.5 982.79,-21.5\"/>\n</g>\n<!-- Start -->\n<g id=\"node7\" class=\"node\">\n<title>Start</title>\n<ellipse fill=\"none\" stroke=\"black\" cx=\"27.3\" cy=\"-18\" rx=\"27.1\" ry=\"18\"/>\n<text text-anchor=\"middle\" x=\"27.3\" y=\"-14.3\" font-family=\"Times,serif\" font-size=\"14.00\">Start</text>\n</g>\n<!-- Start&#45;&gt;100 -->\n<g id=\"edge11\" class=\"edge\">\n<title>Start&#45;&gt;100</title>\n<path fill=\"none\" stroke=\"black\" d=\"M64.83,-18C72.88,-18 81.62,-18 90.35,-18\"/>\n<polygon fill=\"black\" stroke=\"black\" points=\"64.69,-14.5 54.69,-18 64.69,-21.5 64.69,-14.5\"/>\n</g>\n</g>\n</svg>\n",
            "text/plain": [
              "<graphviz.graphs.Digraph at 0x7dc7b30ca020>"
            ]
          },
          "metadata": {},
          "execution_count": 19
        }
      ]
    },
    {
      "cell_type": "code",
      "source": [
        "def dll_fill():\n",
        "    dll = DoubleLinkedList(11)\n",
        "    dll.append(3)\n",
        "    dll.append(27)\n",
        "    dll.append(80)\n",
        "    dll.append(90)\n",
        "    return dll"
      ],
      "metadata": {
        "id": "TCSdM2yvF7Fh"
      },
      "execution_count": 28,
      "outputs": []
    },
    {
      "cell_type": "code",
      "source": [
        "dll = dll_fill()\n",
        "dll.print_graph()"
      ],
      "metadata": {
        "colab": {
          "base_uri": "https://localhost:8080/",
          "height": 132
        },
        "id": "jEFa3VRVGK-9",
        "outputId": "b20929ca-24cf-4ab0-aa0e-2e388174acb3"
      },
      "execution_count": 33,
      "outputs": [
        {
          "output_type": "stream",
          "name": "stdout",
          "text": [
            "--------\n",
            "Graph DLL\n",
            "--------\n"
          ]
        },
        {
          "output_type": "execute_result",
          "data": {
            "image/svg+xml": "<?xml version=\"1.0\" encoding=\"UTF-8\" standalone=\"no\"?>\n<!DOCTYPE svg PUBLIC \"-//W3C//DTD SVG 1.1//EN\"\n \"http://www.w3.org/Graphics/SVG/1.1/DTD/svg11.dtd\">\n<!-- Generated by graphviz version 2.43.0 (0)\n -->\n<!-- Title: %3 Pages: 1 -->\n<svg width=\"895pt\" height=\"44pt\"\n viewBox=\"0.00 0.00 895.45 44.00\" xmlns=\"http://www.w3.org/2000/svg\" xmlns:xlink=\"http://www.w3.org/1999/xlink\">\n<g id=\"graph0\" class=\"graph\" transform=\"scale(1 1) rotate(0) translate(4 40)\">\n<title>%3</title>\n<polygon fill=\"white\" stroke=\"transparent\" points=\"-4,4 -4,-40 891.45,-40 891.45,4 -4,4\"/>\n<!-- 11 -->\n<g id=\"node1\" class=\"node\">\n<title>11</title>\n<ellipse fill=\"aquamarine\" stroke=\"black\" cx=\"147.79\" cy=\"-18\" rx=\"57.39\" ry=\"18\"/>\n<text text-anchor=\"middle\" x=\"147.79\" y=\"-14.3\" font-family=\"Times,serif\" font-size=\"14.00\">11 (index=0)</text>\n</g>\n<!-- 3 -->\n<g id=\"node2\" class=\"node\">\n<title>3</title>\n<ellipse fill=\"none\" stroke=\"black\" cx=\"293.63\" cy=\"-18\" rx=\"52.79\" ry=\"18\"/>\n<text text-anchor=\"middle\" x=\"293.63\" y=\"-14.3\" font-family=\"Times,serif\" font-size=\"14.00\">3 (index=1)</text>\n</g>\n<!-- 11&#45;&gt;3 -->\n<g id=\"edge1\" class=\"edge\">\n<title>11&#45;&gt;3</title>\n<path fill=\"none\" stroke=\"black\" d=\"M201.13,-11.48C211.84,-11.22 223.18,-11.18 234.1,-11.36\"/>\n<polygon fill=\"black\" stroke=\"black\" points=\"234.32,-14.86 244.4,-11.59 234.48,-7.86 234.32,-14.86\"/>\n</g>\n<!-- 3&#45;&gt;11 -->\n<g id=\"edge3\" class=\"edge\">\n<title>3&#45;&gt;11</title>\n<path fill=\"none\" stroke=\"black\" d=\"M244.4,-24.41C233.75,-24.73 222.33,-24.82 211.22,-24.7\"/>\n<polygon fill=\"black\" stroke=\"black\" points=\"211.19,-21.2 201.13,-24.52 211.06,-28.2 211.19,-21.2\"/>\n</g>\n<!-- 27 -->\n<g id=\"node3\" class=\"node\">\n<title>27</title>\n<ellipse fill=\"none\" stroke=\"black\" cx=\"439.47\" cy=\"-18\" rx=\"57.39\" ry=\"18\"/>\n<text text-anchor=\"middle\" x=\"439.47\" y=\"-14.3\" font-family=\"Times,serif\" font-size=\"14.00\">27 (index=2)</text>\n</g>\n<!-- 3&#45;&gt;27 -->\n<g id=\"edge2\" class=\"edge\">\n<title>3&#45;&gt;27</title>\n<path fill=\"none\" stroke=\"black\" d=\"M342.93,-11.58C353.55,-11.27 364.95,-11.18 376.04,-11.3\"/>\n<polygon fill=\"black\" stroke=\"black\" points=\"376.04,-14.8 386.1,-11.48 376.17,-7.8 376.04,-14.8\"/>\n</g>\n<!-- 27&#45;&gt;3 -->\n<g id=\"edge5\" class=\"edge\">\n<title>27&#45;&gt;3</title>\n<path fill=\"none\" stroke=\"black\" d=\"M386.1,-24.52C375.41,-24.78 364.1,-24.82 353.21,-24.65\"/>\n<polygon fill=\"black\" stroke=\"black\" points=\"353,-21.14 342.93,-24.42 352.85,-28.14 353,-21.14\"/>\n</g>\n<!-- 80 -->\n<g id=\"node4\" class=\"node\">\n<title>80</title>\n<ellipse fill=\"none\" stroke=\"black\" cx=\"589.86\" cy=\"-18\" rx=\"57.39\" ry=\"18\"/>\n<text text-anchor=\"middle\" x=\"589.86\" y=\"-14.3\" font-family=\"Times,serif\" font-size=\"14.00\">80 (index=3)</text>\n</g>\n<!-- 27&#45;&gt;80 -->\n<g id=\"edge4\" class=\"edge\">\n<title>27&#45;&gt;80</title>\n<path fill=\"none\" stroke=\"black\" d=\"M493.21,-11.51C503.81,-11.25 515.06,-11.18 525.97,-11.32\"/>\n<polygon fill=\"black\" stroke=\"black\" points=\"526.23,-14.83 536.3,-11.51 526.36,-7.83 526.23,-14.83\"/>\n</g>\n<!-- 80&#45;&gt;27 -->\n<g id=\"edge7\" class=\"edge\">\n<title>80&#45;&gt;27</title>\n<path fill=\"none\" stroke=\"black\" d=\"M536.3,-24.49C525.7,-24.75 514.45,-24.82 503.54,-24.68\"/>\n<polygon fill=\"black\" stroke=\"black\" points=\"503.27,-21.18 493.21,-24.49 503.14,-28.18 503.27,-21.18\"/>\n</g>\n<!-- 90 -->\n<g id=\"node5\" class=\"node\">\n<title>90</title>\n<ellipse fill=\"cyan\" stroke=\"black\" cx=\"740.25\" cy=\"-18\" rx=\"57.39\" ry=\"18\"/>\n<text text-anchor=\"middle\" x=\"740.25\" y=\"-14.3\" font-family=\"Times,serif\" font-size=\"14.00\">90 (index=4)</text>\n</g>\n<!-- 80&#45;&gt;90 -->\n<g id=\"edge6\" class=\"edge\">\n<title>80&#45;&gt;90</title>\n<path fill=\"none\" stroke=\"black\" d=\"M643.59,-11.51C654.2,-11.25 665.45,-11.18 676.36,-11.32\"/>\n<polygon fill=\"black\" stroke=\"black\" points=\"676.62,-14.83 686.69,-11.51 676.75,-7.83 676.62,-14.83\"/>\n</g>\n<!-- 90&#45;&gt;80 -->\n<g id=\"edge8\" class=\"edge\">\n<title>90&#45;&gt;80</title>\n<path fill=\"none\" stroke=\"black\" d=\"M686.69,-24.49C676.09,-24.75 664.84,-24.82 653.93,-24.68\"/>\n<polygon fill=\"black\" stroke=\"black\" points=\"653.66,-21.18 643.59,-24.49 653.53,-28.18 653.66,-21.18\"/>\n</g>\n<!-- End -->\n<g id=\"node7\" class=\"node\">\n<title>End</title>\n<ellipse fill=\"none\" stroke=\"black\" cx=\"860.45\" cy=\"-18\" rx=\"27\" ry=\"18\"/>\n<text text-anchor=\"middle\" x=\"860.45\" y=\"-14.3\" font-family=\"Times,serif\" font-size=\"14.00\">End</text>\n</g>\n<!-- 90&#45;&gt;End -->\n<g id=\"edge10\" class=\"edge\">\n<title>90&#45;&gt;End</title>\n<path fill=\"none\" stroke=\"black\" d=\"M797.58,-18C806.26,-18 815.02,-18 823.11,-18\"/>\n<polygon fill=\"black\" stroke=\"black\" points=\"823.3,-21.5 833.3,-18 823.3,-14.5 823.3,-21.5\"/>\n</g>\n<!-- Start -->\n<g id=\"node6\" class=\"node\">\n<title>Start</title>\n<ellipse fill=\"none\" stroke=\"black\" cx=\"27.3\" cy=\"-18\" rx=\"27.1\" ry=\"18\"/>\n<text text-anchor=\"middle\" x=\"27.3\" y=\"-14.3\" font-family=\"Times,serif\" font-size=\"14.00\">Start</text>\n</g>\n<!-- Start&#45;&gt;11 -->\n<g id=\"edge9\" class=\"edge\">\n<title>Start&#45;&gt;11</title>\n<path fill=\"none\" stroke=\"black\" d=\"M64.99,-18C73,-18 81.66,-18 90.24,-18\"/>\n<polygon fill=\"black\" stroke=\"black\" points=\"64.89,-14.5 54.89,-18 64.89,-21.5 64.89,-14.5\"/>\n</g>\n</g>\n</svg>\n",
            "text/plain": [
              "<graphviz.graphs.Digraph at 0x7dc7b32950f0>"
            ]
          },
          "metadata": {},
          "execution_count": 33
        }
      ]
    },
    {
      "cell_type": "code",
      "source": [
        "dll.insert(2,45)\n",
        "dll.print_graph()"
      ],
      "metadata": {
        "colab": {
          "base_uri": "https://localhost:8080/",
          "height": 152
        },
        "id": "_vwM4S25GMrg",
        "outputId": "78bbaadb-b570-4a3b-cabf-a88582e72d47"
      },
      "execution_count": 34,
      "outputs": [
        {
          "output_type": "stream",
          "name": "stdout",
          "text": [
            "--------\n",
            "Graph DLL\n",
            "--------\n"
          ]
        },
        {
          "output_type": "execute_result",
          "data": {
            "image/svg+xml": "<?xml version=\"1.0\" encoding=\"UTF-8\" standalone=\"no\"?>\n<!DOCTYPE svg PUBLIC \"-//W3C//DTD SVG 1.1//EN\"\n \"http://www.w3.org/Graphics/SVG/1.1/DTD/svg11.dtd\">\n<!-- Generated by graphviz version 2.43.0 (0)\n -->\n<!-- Title: %3 Pages: 1 -->\n<svg width=\"1046pt\" height=\"44pt\"\n viewBox=\"0.00 0.00 1045.84 44.00\" xmlns=\"http://www.w3.org/2000/svg\" xmlns:xlink=\"http://www.w3.org/1999/xlink\">\n<g id=\"graph0\" class=\"graph\" transform=\"scale(1 1) rotate(0) translate(4 40)\">\n<title>%3</title>\n<polygon fill=\"white\" stroke=\"transparent\" points=\"-4,4 -4,-40 1041.84,-40 1041.84,4 -4,4\"/>\n<!-- 11 -->\n<g id=\"node1\" class=\"node\">\n<title>11</title>\n<ellipse fill=\"aquamarine\" stroke=\"black\" cx=\"147.79\" cy=\"-18\" rx=\"57.39\" ry=\"18\"/>\n<text text-anchor=\"middle\" x=\"147.79\" y=\"-14.3\" font-family=\"Times,serif\" font-size=\"14.00\">11 (index=0)</text>\n</g>\n<!-- 3 -->\n<g id=\"node2\" class=\"node\">\n<title>3</title>\n<ellipse fill=\"none\" stroke=\"black\" cx=\"293.63\" cy=\"-18\" rx=\"52.79\" ry=\"18\"/>\n<text text-anchor=\"middle\" x=\"293.63\" y=\"-14.3\" font-family=\"Times,serif\" font-size=\"14.00\">3 (index=1)</text>\n</g>\n<!-- 11&#45;&gt;3 -->\n<g id=\"edge1\" class=\"edge\">\n<title>11&#45;&gt;3</title>\n<path fill=\"none\" stroke=\"black\" d=\"M201.13,-11.48C211.84,-11.22 223.18,-11.18 234.1,-11.36\"/>\n<polygon fill=\"black\" stroke=\"black\" points=\"234.32,-14.86 244.4,-11.59 234.48,-7.86 234.32,-14.86\"/>\n</g>\n<!-- 3&#45;&gt;11 -->\n<g id=\"edge3\" class=\"edge\">\n<title>3&#45;&gt;11</title>\n<path fill=\"none\" stroke=\"black\" d=\"M244.4,-24.41C233.75,-24.73 222.33,-24.82 211.22,-24.7\"/>\n<polygon fill=\"black\" stroke=\"black\" points=\"211.19,-21.2 201.13,-24.52 211.06,-28.2 211.19,-21.2\"/>\n</g>\n<!-- 45 -->\n<g id=\"node3\" class=\"node\">\n<title>45</title>\n<ellipse fill=\"none\" stroke=\"black\" cx=\"439.47\" cy=\"-18\" rx=\"57.39\" ry=\"18\"/>\n<text text-anchor=\"middle\" x=\"439.47\" y=\"-14.3\" font-family=\"Times,serif\" font-size=\"14.00\">45 (index=2)</text>\n</g>\n<!-- 3&#45;&gt;45 -->\n<g id=\"edge2\" class=\"edge\">\n<title>3&#45;&gt;45</title>\n<path fill=\"none\" stroke=\"black\" d=\"M342.93,-11.58C353.55,-11.27 364.95,-11.18 376.04,-11.3\"/>\n<polygon fill=\"black\" stroke=\"black\" points=\"376.04,-14.8 386.1,-11.48 376.17,-7.8 376.04,-14.8\"/>\n</g>\n<!-- 45&#45;&gt;3 -->\n<g id=\"edge5\" class=\"edge\">\n<title>45&#45;&gt;3</title>\n<path fill=\"none\" stroke=\"black\" d=\"M386.1,-24.52C375.41,-24.78 364.1,-24.82 353.21,-24.65\"/>\n<polygon fill=\"black\" stroke=\"black\" points=\"353,-21.14 342.93,-24.42 352.85,-28.14 353,-21.14\"/>\n</g>\n<!-- 27 -->\n<g id=\"node4\" class=\"node\">\n<title>27</title>\n<ellipse fill=\"none\" stroke=\"black\" cx=\"589.86\" cy=\"-18\" rx=\"57.39\" ry=\"18\"/>\n<text text-anchor=\"middle\" x=\"589.86\" y=\"-14.3\" font-family=\"Times,serif\" font-size=\"14.00\">27 (index=3)</text>\n</g>\n<!-- 45&#45;&gt;27 -->\n<g id=\"edge4\" class=\"edge\">\n<title>45&#45;&gt;27</title>\n<path fill=\"none\" stroke=\"black\" d=\"M493.21,-11.51C503.81,-11.25 515.06,-11.18 525.97,-11.32\"/>\n<polygon fill=\"black\" stroke=\"black\" points=\"526.23,-14.83 536.3,-11.51 526.36,-7.83 526.23,-14.83\"/>\n</g>\n<!-- 27&#45;&gt;45 -->\n<g id=\"edge7\" class=\"edge\">\n<title>27&#45;&gt;45</title>\n<path fill=\"none\" stroke=\"black\" d=\"M536.3,-24.49C525.7,-24.75 514.45,-24.82 503.54,-24.68\"/>\n<polygon fill=\"black\" stroke=\"black\" points=\"503.27,-21.18 493.21,-24.49 503.14,-28.18 503.27,-21.18\"/>\n</g>\n<!-- 80 -->\n<g id=\"node5\" class=\"node\">\n<title>80</title>\n<ellipse fill=\"none\" stroke=\"black\" cx=\"740.25\" cy=\"-18\" rx=\"57.39\" ry=\"18\"/>\n<text text-anchor=\"middle\" x=\"740.25\" y=\"-14.3\" font-family=\"Times,serif\" font-size=\"14.00\">80 (index=4)</text>\n</g>\n<!-- 27&#45;&gt;80 -->\n<g id=\"edge6\" class=\"edge\">\n<title>27&#45;&gt;80</title>\n<path fill=\"none\" stroke=\"black\" d=\"M643.59,-11.51C654.2,-11.25 665.45,-11.18 676.36,-11.32\"/>\n<polygon fill=\"black\" stroke=\"black\" points=\"676.62,-14.83 686.69,-11.51 676.75,-7.83 676.62,-14.83\"/>\n</g>\n<!-- 80&#45;&gt;27 -->\n<g id=\"edge9\" class=\"edge\">\n<title>80&#45;&gt;27</title>\n<path fill=\"none\" stroke=\"black\" d=\"M686.69,-24.49C676.09,-24.75 664.84,-24.82 653.93,-24.68\"/>\n<polygon fill=\"black\" stroke=\"black\" points=\"653.66,-21.18 643.59,-24.49 653.53,-28.18 653.66,-21.18\"/>\n</g>\n<!-- 90 -->\n<g id=\"node6\" class=\"node\">\n<title>90</title>\n<ellipse fill=\"cyan\" stroke=\"black\" cx=\"890.64\" cy=\"-18\" rx=\"57.39\" ry=\"18\"/>\n<text text-anchor=\"middle\" x=\"890.64\" y=\"-14.3\" font-family=\"Times,serif\" font-size=\"14.00\">90 (index=5)</text>\n</g>\n<!-- 80&#45;&gt;90 -->\n<g id=\"edge8\" class=\"edge\">\n<title>80&#45;&gt;90</title>\n<path fill=\"none\" stroke=\"black\" d=\"M793.98,-11.51C804.59,-11.25 815.84,-11.18 826.75,-11.32\"/>\n<polygon fill=\"black\" stroke=\"black\" points=\"827.01,-14.83 837.08,-11.51 827.14,-7.83 827.01,-14.83\"/>\n</g>\n<!-- 90&#45;&gt;80 -->\n<g id=\"edge10\" class=\"edge\">\n<title>90&#45;&gt;80</title>\n<path fill=\"none\" stroke=\"black\" d=\"M837.08,-24.49C826.48,-24.75 815.23,-24.82 804.32,-24.68\"/>\n<polygon fill=\"black\" stroke=\"black\" points=\"804.05,-21.18 793.98,-24.49 803.92,-28.18 804.05,-21.18\"/>\n</g>\n<!-- End -->\n<g id=\"node8\" class=\"node\">\n<title>End</title>\n<ellipse fill=\"none\" stroke=\"black\" cx=\"1010.84\" cy=\"-18\" rx=\"27\" ry=\"18\"/>\n<text text-anchor=\"middle\" x=\"1010.84\" y=\"-14.3\" font-family=\"Times,serif\" font-size=\"14.00\">End</text>\n</g>\n<!-- 90&#45;&gt;End -->\n<g id=\"edge12\" class=\"edge\">\n<title>90&#45;&gt;End</title>\n<path fill=\"none\" stroke=\"black\" d=\"M947.97,-18C956.65,-18 965.41,-18 973.5,-18\"/>\n<polygon fill=\"black\" stroke=\"black\" points=\"973.69,-21.5 983.69,-18 973.69,-14.5 973.69,-21.5\"/>\n</g>\n<!-- Start -->\n<g id=\"node7\" class=\"node\">\n<title>Start</title>\n<ellipse fill=\"none\" stroke=\"black\" cx=\"27.3\" cy=\"-18\" rx=\"27.1\" ry=\"18\"/>\n<text text-anchor=\"middle\" x=\"27.3\" y=\"-14.3\" font-family=\"Times,serif\" font-size=\"14.00\">Start</text>\n</g>\n<!-- Start&#45;&gt;11 -->\n<g id=\"edge11\" class=\"edge\">\n<title>Start&#45;&gt;11</title>\n<path fill=\"none\" stroke=\"black\" d=\"M64.99,-18C73,-18 81.66,-18 90.24,-18\"/>\n<polygon fill=\"black\" stroke=\"black\" points=\"64.89,-14.5 54.89,-18 64.89,-21.5 64.89,-14.5\"/>\n</g>\n</g>\n</svg>\n",
            "text/plain": [
              "<graphviz.graphs.Digraph at 0x7dc7b372aa10>"
            ]
          },
          "metadata": {},
          "execution_count": 34
        }
      ]
    },
    {
      "cell_type": "code",
      "source": [
        "dll.insert(6,145)\n",
        "dll.print_graph()"
      ],
      "metadata": {
        "colab": {
          "base_uri": "https://localhost:8080/",
          "height": 152
        },
        "id": "ISZA4kMvGo8q",
        "outputId": "736524a6-df13-47b1-c9b9-fa9169c4dd91"
      },
      "execution_count": 35,
      "outputs": [
        {
          "output_type": "stream",
          "name": "stdout",
          "text": [
            "--------\n",
            "Graph DLL\n",
            "--------\n"
          ]
        },
        {
          "output_type": "execute_result",
          "data": {
            "image/svg+xml": "<?xml version=\"1.0\" encoding=\"UTF-8\" standalone=\"no\"?>\n<!DOCTYPE svg PUBLIC \"-//W3C//DTD SVG 1.1//EN\"\n \"http://www.w3.org/Graphics/SVG/1.1/DTD/svg11.dtd\">\n<!-- Generated by graphviz version 2.43.0 (0)\n -->\n<!-- Title: %3 Pages: 1 -->\n<svg width=\"1205pt\" height=\"44pt\"\n viewBox=\"0.00 0.00 1205.32 44.00\" xmlns=\"http://www.w3.org/2000/svg\" xmlns:xlink=\"http://www.w3.org/1999/xlink\">\n<g id=\"graph0\" class=\"graph\" transform=\"scale(1 1) rotate(0) translate(4 40)\">\n<title>%3</title>\n<polygon fill=\"white\" stroke=\"transparent\" points=\"-4,4 -4,-40 1201.32,-40 1201.32,4 -4,4\"/>\n<!-- 11 -->\n<g id=\"node1\" class=\"node\">\n<title>11</title>\n<ellipse fill=\"aquamarine\" stroke=\"black\" cx=\"147.79\" cy=\"-18\" rx=\"57.39\" ry=\"18\"/>\n<text text-anchor=\"middle\" x=\"147.79\" y=\"-14.3\" font-family=\"Times,serif\" font-size=\"14.00\">11 (index=0)</text>\n</g>\n<!-- 3 -->\n<g id=\"node2\" class=\"node\">\n<title>3</title>\n<ellipse fill=\"none\" stroke=\"black\" cx=\"293.63\" cy=\"-18\" rx=\"52.79\" ry=\"18\"/>\n<text text-anchor=\"middle\" x=\"293.63\" y=\"-14.3\" font-family=\"Times,serif\" font-size=\"14.00\">3 (index=1)</text>\n</g>\n<!-- 11&#45;&gt;3 -->\n<g id=\"edge1\" class=\"edge\">\n<title>11&#45;&gt;3</title>\n<path fill=\"none\" stroke=\"black\" d=\"M201.13,-11.48C211.84,-11.22 223.18,-11.18 234.1,-11.36\"/>\n<polygon fill=\"black\" stroke=\"black\" points=\"234.32,-14.86 244.4,-11.59 234.48,-7.86 234.32,-14.86\"/>\n</g>\n<!-- 3&#45;&gt;11 -->\n<g id=\"edge3\" class=\"edge\">\n<title>3&#45;&gt;11</title>\n<path fill=\"none\" stroke=\"black\" d=\"M244.4,-24.41C233.75,-24.73 222.33,-24.82 211.22,-24.7\"/>\n<polygon fill=\"black\" stroke=\"black\" points=\"211.19,-21.2 201.13,-24.52 211.06,-28.2 211.19,-21.2\"/>\n</g>\n<!-- 45 -->\n<g id=\"node3\" class=\"node\">\n<title>45</title>\n<ellipse fill=\"none\" stroke=\"black\" cx=\"439.47\" cy=\"-18\" rx=\"57.39\" ry=\"18\"/>\n<text text-anchor=\"middle\" x=\"439.47\" y=\"-14.3\" font-family=\"Times,serif\" font-size=\"14.00\">45 (index=2)</text>\n</g>\n<!-- 3&#45;&gt;45 -->\n<g id=\"edge2\" class=\"edge\">\n<title>3&#45;&gt;45</title>\n<path fill=\"none\" stroke=\"black\" d=\"M342.93,-11.58C353.55,-11.27 364.95,-11.18 376.04,-11.3\"/>\n<polygon fill=\"black\" stroke=\"black\" points=\"376.04,-14.8 386.1,-11.48 376.17,-7.8 376.04,-14.8\"/>\n</g>\n<!-- 45&#45;&gt;3 -->\n<g id=\"edge5\" class=\"edge\">\n<title>45&#45;&gt;3</title>\n<path fill=\"none\" stroke=\"black\" d=\"M386.1,-24.52C375.41,-24.78 364.1,-24.82 353.21,-24.65\"/>\n<polygon fill=\"black\" stroke=\"black\" points=\"353,-21.14 342.93,-24.42 352.85,-28.14 353,-21.14\"/>\n</g>\n<!-- 27 -->\n<g id=\"node4\" class=\"node\">\n<title>27</title>\n<ellipse fill=\"none\" stroke=\"black\" cx=\"589.86\" cy=\"-18\" rx=\"57.39\" ry=\"18\"/>\n<text text-anchor=\"middle\" x=\"589.86\" y=\"-14.3\" font-family=\"Times,serif\" font-size=\"14.00\">27 (index=3)</text>\n</g>\n<!-- 45&#45;&gt;27 -->\n<g id=\"edge4\" class=\"edge\">\n<title>45&#45;&gt;27</title>\n<path fill=\"none\" stroke=\"black\" d=\"M493.21,-11.51C503.81,-11.25 515.06,-11.18 525.97,-11.32\"/>\n<polygon fill=\"black\" stroke=\"black\" points=\"526.23,-14.83 536.3,-11.51 526.36,-7.83 526.23,-14.83\"/>\n</g>\n<!-- 27&#45;&gt;45 -->\n<g id=\"edge7\" class=\"edge\">\n<title>27&#45;&gt;45</title>\n<path fill=\"none\" stroke=\"black\" d=\"M536.3,-24.49C525.7,-24.75 514.45,-24.82 503.54,-24.68\"/>\n<polygon fill=\"black\" stroke=\"black\" points=\"503.27,-21.18 493.21,-24.49 503.14,-28.18 503.27,-21.18\"/>\n</g>\n<!-- 80 -->\n<g id=\"node5\" class=\"node\">\n<title>80</title>\n<ellipse fill=\"none\" stroke=\"black\" cx=\"740.25\" cy=\"-18\" rx=\"57.39\" ry=\"18\"/>\n<text text-anchor=\"middle\" x=\"740.25\" y=\"-14.3\" font-family=\"Times,serif\" font-size=\"14.00\">80 (index=4)</text>\n</g>\n<!-- 27&#45;&gt;80 -->\n<g id=\"edge6\" class=\"edge\">\n<title>27&#45;&gt;80</title>\n<path fill=\"none\" stroke=\"black\" d=\"M643.59,-11.51C654.2,-11.25 665.45,-11.18 676.36,-11.32\"/>\n<polygon fill=\"black\" stroke=\"black\" points=\"676.62,-14.83 686.69,-11.51 676.75,-7.83 676.62,-14.83\"/>\n</g>\n<!-- 80&#45;&gt;27 -->\n<g id=\"edge9\" class=\"edge\">\n<title>80&#45;&gt;27</title>\n<path fill=\"none\" stroke=\"black\" d=\"M686.69,-24.49C676.09,-24.75 664.84,-24.82 653.93,-24.68\"/>\n<polygon fill=\"black\" stroke=\"black\" points=\"653.66,-21.18 643.59,-24.49 653.53,-28.18 653.66,-21.18\"/>\n</g>\n<!-- 90 -->\n<g id=\"node6\" class=\"node\">\n<title>90</title>\n<ellipse fill=\"none\" stroke=\"black\" cx=\"890.64\" cy=\"-18\" rx=\"57.39\" ry=\"18\"/>\n<text text-anchor=\"middle\" x=\"890.64\" y=\"-14.3\" font-family=\"Times,serif\" font-size=\"14.00\">90 (index=5)</text>\n</g>\n<!-- 80&#45;&gt;90 -->\n<g id=\"edge8\" class=\"edge\">\n<title>80&#45;&gt;90</title>\n<path fill=\"none\" stroke=\"black\" d=\"M793.98,-11.51C804.59,-11.25 815.84,-11.18 826.75,-11.32\"/>\n<polygon fill=\"black\" stroke=\"black\" points=\"827.01,-14.83 837.08,-11.51 827.14,-7.83 827.01,-14.83\"/>\n</g>\n<!-- 90&#45;&gt;80 -->\n<g id=\"edge11\" class=\"edge\">\n<title>90&#45;&gt;80</title>\n<path fill=\"none\" stroke=\"black\" d=\"M837.08,-24.49C826.48,-24.75 815.23,-24.82 804.32,-24.68\"/>\n<polygon fill=\"black\" stroke=\"black\" points=\"804.05,-21.18 793.98,-24.49 803.92,-28.18 804.05,-21.18\"/>\n</g>\n<!-- 145 -->\n<g id=\"node7\" class=\"node\">\n<title>145</title>\n<ellipse fill=\"cyan\" stroke=\"black\" cx=\"1045.58\" cy=\"-18\" rx=\"61.99\" ry=\"18\"/>\n<text text-anchor=\"middle\" x=\"1045.58\" y=\"-14.3\" font-family=\"Times,serif\" font-size=\"14.00\">145 (index=6)</text>\n</g>\n<!-- 90&#45;&gt;145 -->\n<g id=\"edge10\" class=\"edge\">\n<title>90&#45;&gt;145</title>\n<path fill=\"none\" stroke=\"black\" d=\"M944.27,-11.55C955.06,-11.27 966.54,-11.19 977.75,-11.3\"/>\n<polygon fill=\"black\" stroke=\"black\" points=\"977.88,-14.8 987.93,-11.46 977.99,-7.8 977.88,-14.8\"/>\n</g>\n<!-- 145&#45;&gt;90 -->\n<g id=\"edge12\" class=\"edge\">\n<title>145&#45;&gt;90</title>\n<path fill=\"none\" stroke=\"black\" d=\"M987.93,-24.54C976.99,-24.78 965.47,-24.81 954.35,-24.65\"/>\n<polygon fill=\"black\" stroke=\"black\" points=\"954.34,-21.15 944.27,-24.45 954.2,-28.15 954.34,-21.15\"/>\n</g>\n<!-- End -->\n<g id=\"node9\" class=\"node\">\n<title>End</title>\n<ellipse fill=\"none\" stroke=\"black\" cx=\"1170.32\" cy=\"-18\" rx=\"27\" ry=\"18\"/>\n<text text-anchor=\"middle\" x=\"1170.32\" y=\"-14.3\" font-family=\"Times,serif\" font-size=\"14.00\">End</text>\n</g>\n<!-- 145&#45;&gt;End -->\n<g id=\"edge14\" class=\"edge\">\n<title>145&#45;&gt;End</title>\n<path fill=\"none\" stroke=\"black\" d=\"M1107.59,-18C1116.29,-18 1125.01,-18 1133.03,-18\"/>\n<polygon fill=\"black\" stroke=\"black\" points=\"1133.11,-21.5 1143.11,-18 1133.11,-14.5 1133.11,-21.5\"/>\n</g>\n<!-- Start -->\n<g id=\"node8\" class=\"node\">\n<title>Start</title>\n<ellipse fill=\"none\" stroke=\"black\" cx=\"27.3\" cy=\"-18\" rx=\"27.1\" ry=\"18\"/>\n<text text-anchor=\"middle\" x=\"27.3\" y=\"-14.3\" font-family=\"Times,serif\" font-size=\"14.00\">Start</text>\n</g>\n<!-- Start&#45;&gt;11 -->\n<g id=\"edge13\" class=\"edge\">\n<title>Start&#45;&gt;11</title>\n<path fill=\"none\" stroke=\"black\" d=\"M64.99,-18C73,-18 81.66,-18 90.24,-18\"/>\n<polygon fill=\"black\" stroke=\"black\" points=\"64.89,-14.5 54.89,-18 64.89,-21.5 64.89,-14.5\"/>\n</g>\n</g>\n</svg>\n",
            "text/plain": [
              "<graphviz.graphs.Digraph at 0x7dc7b372add0>"
            ]
          },
          "metadata": {},
          "execution_count": 35
        }
      ]
    },
    {
      "cell_type": "code",
      "source": [
        "dll = dll_fill()\n",
        "dll.print_graph()"
      ],
      "metadata": {
        "colab": {
          "base_uri": "https://localhost:8080/",
          "height": 132
        },
        "id": "y2gZleGUGtYA",
        "outputId": "c597bbda-e037-4b47-99bc-658e2c339c45"
      },
      "execution_count": 39,
      "outputs": [
        {
          "output_type": "stream",
          "name": "stdout",
          "text": [
            "--------\n",
            "Graph DLL\n",
            "--------\n"
          ]
        },
        {
          "output_type": "execute_result",
          "data": {
            "image/svg+xml": "<?xml version=\"1.0\" encoding=\"UTF-8\" standalone=\"no\"?>\n<!DOCTYPE svg PUBLIC \"-//W3C//DTD SVG 1.1//EN\"\n \"http://www.w3.org/Graphics/SVG/1.1/DTD/svg11.dtd\">\n<!-- Generated by graphviz version 2.43.0 (0)\n -->\n<!-- Title: %3 Pages: 1 -->\n<svg width=\"895pt\" height=\"44pt\"\n viewBox=\"0.00 0.00 895.45 44.00\" xmlns=\"http://www.w3.org/2000/svg\" xmlns:xlink=\"http://www.w3.org/1999/xlink\">\n<g id=\"graph0\" class=\"graph\" transform=\"scale(1 1) rotate(0) translate(4 40)\">\n<title>%3</title>\n<polygon fill=\"white\" stroke=\"transparent\" points=\"-4,4 -4,-40 891.45,-40 891.45,4 -4,4\"/>\n<!-- 11 -->\n<g id=\"node1\" class=\"node\">\n<title>11</title>\n<ellipse fill=\"aquamarine\" stroke=\"black\" cx=\"147.79\" cy=\"-18\" rx=\"57.39\" ry=\"18\"/>\n<text text-anchor=\"middle\" x=\"147.79\" y=\"-14.3\" font-family=\"Times,serif\" font-size=\"14.00\">11 (index=0)</text>\n</g>\n<!-- 3 -->\n<g id=\"node2\" class=\"node\">\n<title>3</title>\n<ellipse fill=\"none\" stroke=\"black\" cx=\"293.63\" cy=\"-18\" rx=\"52.79\" ry=\"18\"/>\n<text text-anchor=\"middle\" x=\"293.63\" y=\"-14.3\" font-family=\"Times,serif\" font-size=\"14.00\">3 (index=1)</text>\n</g>\n<!-- 11&#45;&gt;3 -->\n<g id=\"edge1\" class=\"edge\">\n<title>11&#45;&gt;3</title>\n<path fill=\"none\" stroke=\"black\" d=\"M201.13,-11.48C211.84,-11.22 223.18,-11.18 234.1,-11.36\"/>\n<polygon fill=\"black\" stroke=\"black\" points=\"234.32,-14.86 244.4,-11.59 234.48,-7.86 234.32,-14.86\"/>\n</g>\n<!-- 3&#45;&gt;11 -->\n<g id=\"edge3\" class=\"edge\">\n<title>3&#45;&gt;11</title>\n<path fill=\"none\" stroke=\"black\" d=\"M244.4,-24.41C233.75,-24.73 222.33,-24.82 211.22,-24.7\"/>\n<polygon fill=\"black\" stroke=\"black\" points=\"211.19,-21.2 201.13,-24.52 211.06,-28.2 211.19,-21.2\"/>\n</g>\n<!-- 27 -->\n<g id=\"node3\" class=\"node\">\n<title>27</title>\n<ellipse fill=\"none\" stroke=\"black\" cx=\"439.47\" cy=\"-18\" rx=\"57.39\" ry=\"18\"/>\n<text text-anchor=\"middle\" x=\"439.47\" y=\"-14.3\" font-family=\"Times,serif\" font-size=\"14.00\">27 (index=2)</text>\n</g>\n<!-- 3&#45;&gt;27 -->\n<g id=\"edge2\" class=\"edge\">\n<title>3&#45;&gt;27</title>\n<path fill=\"none\" stroke=\"black\" d=\"M342.93,-11.58C353.55,-11.27 364.95,-11.18 376.04,-11.3\"/>\n<polygon fill=\"black\" stroke=\"black\" points=\"376.04,-14.8 386.1,-11.48 376.17,-7.8 376.04,-14.8\"/>\n</g>\n<!-- 27&#45;&gt;3 -->\n<g id=\"edge5\" class=\"edge\">\n<title>27&#45;&gt;3</title>\n<path fill=\"none\" stroke=\"black\" d=\"M386.1,-24.52C375.41,-24.78 364.1,-24.82 353.21,-24.65\"/>\n<polygon fill=\"black\" stroke=\"black\" points=\"353,-21.14 342.93,-24.42 352.85,-28.14 353,-21.14\"/>\n</g>\n<!-- 80 -->\n<g id=\"node4\" class=\"node\">\n<title>80</title>\n<ellipse fill=\"none\" stroke=\"black\" cx=\"589.86\" cy=\"-18\" rx=\"57.39\" ry=\"18\"/>\n<text text-anchor=\"middle\" x=\"589.86\" y=\"-14.3\" font-family=\"Times,serif\" font-size=\"14.00\">80 (index=3)</text>\n</g>\n<!-- 27&#45;&gt;80 -->\n<g id=\"edge4\" class=\"edge\">\n<title>27&#45;&gt;80</title>\n<path fill=\"none\" stroke=\"black\" d=\"M493.21,-11.51C503.81,-11.25 515.06,-11.18 525.97,-11.32\"/>\n<polygon fill=\"black\" stroke=\"black\" points=\"526.23,-14.83 536.3,-11.51 526.36,-7.83 526.23,-14.83\"/>\n</g>\n<!-- 80&#45;&gt;27 -->\n<g id=\"edge7\" class=\"edge\">\n<title>80&#45;&gt;27</title>\n<path fill=\"none\" stroke=\"black\" d=\"M536.3,-24.49C525.7,-24.75 514.45,-24.82 503.54,-24.68\"/>\n<polygon fill=\"black\" stroke=\"black\" points=\"503.27,-21.18 493.21,-24.49 503.14,-28.18 503.27,-21.18\"/>\n</g>\n<!-- 90 -->\n<g id=\"node5\" class=\"node\">\n<title>90</title>\n<ellipse fill=\"cyan\" stroke=\"black\" cx=\"740.25\" cy=\"-18\" rx=\"57.39\" ry=\"18\"/>\n<text text-anchor=\"middle\" x=\"740.25\" y=\"-14.3\" font-family=\"Times,serif\" font-size=\"14.00\">90 (index=4)</text>\n</g>\n<!-- 80&#45;&gt;90 -->\n<g id=\"edge6\" class=\"edge\">\n<title>80&#45;&gt;90</title>\n<path fill=\"none\" stroke=\"black\" d=\"M643.59,-11.51C654.2,-11.25 665.45,-11.18 676.36,-11.32\"/>\n<polygon fill=\"black\" stroke=\"black\" points=\"676.62,-14.83 686.69,-11.51 676.75,-7.83 676.62,-14.83\"/>\n</g>\n<!-- 90&#45;&gt;80 -->\n<g id=\"edge8\" class=\"edge\">\n<title>90&#45;&gt;80</title>\n<path fill=\"none\" stroke=\"black\" d=\"M686.69,-24.49C676.09,-24.75 664.84,-24.82 653.93,-24.68\"/>\n<polygon fill=\"black\" stroke=\"black\" points=\"653.66,-21.18 643.59,-24.49 653.53,-28.18 653.66,-21.18\"/>\n</g>\n<!-- End -->\n<g id=\"node7\" class=\"node\">\n<title>End</title>\n<ellipse fill=\"none\" stroke=\"black\" cx=\"860.45\" cy=\"-18\" rx=\"27\" ry=\"18\"/>\n<text text-anchor=\"middle\" x=\"860.45\" y=\"-14.3\" font-family=\"Times,serif\" font-size=\"14.00\">End</text>\n</g>\n<!-- 90&#45;&gt;End -->\n<g id=\"edge10\" class=\"edge\">\n<title>90&#45;&gt;End</title>\n<path fill=\"none\" stroke=\"black\" d=\"M797.58,-18C806.26,-18 815.02,-18 823.11,-18\"/>\n<polygon fill=\"black\" stroke=\"black\" points=\"823.3,-21.5 833.3,-18 823.3,-14.5 823.3,-21.5\"/>\n</g>\n<!-- Start -->\n<g id=\"node6\" class=\"node\">\n<title>Start</title>\n<ellipse fill=\"none\" stroke=\"black\" cx=\"27.3\" cy=\"-18\" rx=\"27.1\" ry=\"18\"/>\n<text text-anchor=\"middle\" x=\"27.3\" y=\"-14.3\" font-family=\"Times,serif\" font-size=\"14.00\">Start</text>\n</g>\n<!-- Start&#45;&gt;11 -->\n<g id=\"edge9\" class=\"edge\">\n<title>Start&#45;&gt;11</title>\n<path fill=\"none\" stroke=\"black\" d=\"M64.99,-18C73,-18 81.66,-18 90.24,-18\"/>\n<polygon fill=\"black\" stroke=\"black\" points=\"64.89,-14.5 54.89,-18 64.89,-21.5 64.89,-14.5\"/>\n</g>\n</g>\n</svg>\n",
            "text/plain": [
              "<graphviz.graphs.Digraph at 0x7dc7b2f48610>"
            ]
          },
          "metadata": {},
          "execution_count": 39
        }
      ]
    },
    {
      "cell_type": "code",
      "source": [
        "node_2 = dll.remove(2)\n",
        "dll.print_graph()"
      ],
      "metadata": {
        "colab": {
          "base_uri": "https://localhost:8080/",
          "height": 132
        },
        "id": "3Tc0S0ybKXwo",
        "outputId": "3de19cd2-0e2e-4b15-b9bb-cd275b206b19"
      },
      "execution_count": 40,
      "outputs": [
        {
          "output_type": "stream",
          "name": "stdout",
          "text": [
            "--------\n",
            "Graph DLL\n",
            "--------\n"
          ]
        },
        {
          "output_type": "execute_result",
          "data": {
            "image/svg+xml": "<?xml version=\"1.0\" encoding=\"UTF-8\" standalone=\"no\"?>\n<!DOCTYPE svg PUBLIC \"-//W3C//DTD SVG 1.1//EN\"\n \"http://www.w3.org/Graphics/SVG/1.1/DTD/svg11.dtd\">\n<!-- Generated by graphviz version 2.43.0 (0)\n -->\n<!-- Title: %3 Pages: 1 -->\n<svg width=\"745pt\" height=\"44pt\"\n viewBox=\"0.00 0.00 745.06 44.00\" xmlns=\"http://www.w3.org/2000/svg\" xmlns:xlink=\"http://www.w3.org/1999/xlink\">\n<g id=\"graph0\" class=\"graph\" transform=\"scale(1 1) rotate(0) translate(4 40)\">\n<title>%3</title>\n<polygon fill=\"white\" stroke=\"transparent\" points=\"-4,4 -4,-40 741.06,-40 741.06,4 -4,4\"/>\n<!-- 11 -->\n<g id=\"node1\" class=\"node\">\n<title>11</title>\n<ellipse fill=\"aquamarine\" stroke=\"black\" cx=\"147.79\" cy=\"-18\" rx=\"57.39\" ry=\"18\"/>\n<text text-anchor=\"middle\" x=\"147.79\" y=\"-14.3\" font-family=\"Times,serif\" font-size=\"14.00\">11 (index=0)</text>\n</g>\n<!-- 3 -->\n<g id=\"node2\" class=\"node\">\n<title>3</title>\n<ellipse fill=\"none\" stroke=\"black\" cx=\"293.63\" cy=\"-18\" rx=\"52.79\" ry=\"18\"/>\n<text text-anchor=\"middle\" x=\"293.63\" y=\"-14.3\" font-family=\"Times,serif\" font-size=\"14.00\">3 (index=1)</text>\n</g>\n<!-- 11&#45;&gt;3 -->\n<g id=\"edge1\" class=\"edge\">\n<title>11&#45;&gt;3</title>\n<path fill=\"none\" stroke=\"black\" d=\"M201.13,-11.48C211.84,-11.22 223.18,-11.18 234.1,-11.36\"/>\n<polygon fill=\"black\" stroke=\"black\" points=\"234.32,-14.86 244.4,-11.59 234.48,-7.86 234.32,-14.86\"/>\n</g>\n<!-- 3&#45;&gt;11 -->\n<g id=\"edge3\" class=\"edge\">\n<title>3&#45;&gt;11</title>\n<path fill=\"none\" stroke=\"black\" d=\"M244.4,-24.41C233.75,-24.73 222.33,-24.82 211.22,-24.7\"/>\n<polygon fill=\"black\" stroke=\"black\" points=\"211.19,-21.2 201.13,-24.52 211.06,-28.2 211.19,-21.2\"/>\n</g>\n<!-- 80 -->\n<g id=\"node3\" class=\"node\">\n<title>80</title>\n<ellipse fill=\"none\" stroke=\"black\" cx=\"439.47\" cy=\"-18\" rx=\"57.39\" ry=\"18\"/>\n<text text-anchor=\"middle\" x=\"439.47\" y=\"-14.3\" font-family=\"Times,serif\" font-size=\"14.00\">80 (index=2)</text>\n</g>\n<!-- 3&#45;&gt;80 -->\n<g id=\"edge2\" class=\"edge\">\n<title>3&#45;&gt;80</title>\n<path fill=\"none\" stroke=\"black\" d=\"M342.93,-11.58C353.55,-11.27 364.95,-11.18 376.04,-11.3\"/>\n<polygon fill=\"black\" stroke=\"black\" points=\"376.04,-14.8 386.1,-11.48 376.17,-7.8 376.04,-14.8\"/>\n</g>\n<!-- 80&#45;&gt;3 -->\n<g id=\"edge5\" class=\"edge\">\n<title>80&#45;&gt;3</title>\n<path fill=\"none\" stroke=\"black\" d=\"M386.1,-24.52C375.41,-24.78 364.1,-24.82 353.21,-24.65\"/>\n<polygon fill=\"black\" stroke=\"black\" points=\"353,-21.14 342.93,-24.42 352.85,-28.14 353,-21.14\"/>\n</g>\n<!-- 90 -->\n<g id=\"node4\" class=\"node\">\n<title>90</title>\n<ellipse fill=\"cyan\" stroke=\"black\" cx=\"589.86\" cy=\"-18\" rx=\"57.39\" ry=\"18\"/>\n<text text-anchor=\"middle\" x=\"589.86\" y=\"-14.3\" font-family=\"Times,serif\" font-size=\"14.00\">90 (index=3)</text>\n</g>\n<!-- 80&#45;&gt;90 -->\n<g id=\"edge4\" class=\"edge\">\n<title>80&#45;&gt;90</title>\n<path fill=\"none\" stroke=\"black\" d=\"M493.21,-11.51C503.81,-11.25 515.06,-11.18 525.97,-11.32\"/>\n<polygon fill=\"black\" stroke=\"black\" points=\"526.23,-14.83 536.3,-11.51 526.36,-7.83 526.23,-14.83\"/>\n</g>\n<!-- 90&#45;&gt;80 -->\n<g id=\"edge6\" class=\"edge\">\n<title>90&#45;&gt;80</title>\n<path fill=\"none\" stroke=\"black\" d=\"M536.3,-24.49C525.7,-24.75 514.45,-24.82 503.54,-24.68\"/>\n<polygon fill=\"black\" stroke=\"black\" points=\"503.27,-21.18 493.21,-24.49 503.14,-28.18 503.27,-21.18\"/>\n</g>\n<!-- End -->\n<g id=\"node6\" class=\"node\">\n<title>End</title>\n<ellipse fill=\"none\" stroke=\"black\" cx=\"710.06\" cy=\"-18\" rx=\"27\" ry=\"18\"/>\n<text text-anchor=\"middle\" x=\"710.06\" y=\"-14.3\" font-family=\"Times,serif\" font-size=\"14.00\">End</text>\n</g>\n<!-- 90&#45;&gt;End -->\n<g id=\"edge8\" class=\"edge\">\n<title>90&#45;&gt;End</title>\n<path fill=\"none\" stroke=\"black\" d=\"M647.19,-18C655.87,-18 664.63,-18 672.72,-18\"/>\n<polygon fill=\"black\" stroke=\"black\" points=\"672.91,-21.5 682.91,-18 672.91,-14.5 672.91,-21.5\"/>\n</g>\n<!-- Start -->\n<g id=\"node5\" class=\"node\">\n<title>Start</title>\n<ellipse fill=\"none\" stroke=\"black\" cx=\"27.3\" cy=\"-18\" rx=\"27.1\" ry=\"18\"/>\n<text text-anchor=\"middle\" x=\"27.3\" y=\"-14.3\" font-family=\"Times,serif\" font-size=\"14.00\">Start</text>\n</g>\n<!-- Start&#45;&gt;11 -->\n<g id=\"edge7\" class=\"edge\">\n<title>Start&#45;&gt;11</title>\n<path fill=\"none\" stroke=\"black\" d=\"M64.99,-18C73,-18 81.66,-18 90.24,-18\"/>\n<polygon fill=\"black\" stroke=\"black\" points=\"64.89,-14.5 54.89,-18 64.89,-21.5 64.89,-14.5\"/>\n</g>\n</g>\n</svg>\n",
            "text/plain": [
              "<graphviz.graphs.Digraph at 0x7dc7b30519c0>"
            ]
          },
          "metadata": {},
          "execution_count": 40
        }
      ]
    },
    {
      "cell_type": "code",
      "source": [],
      "metadata": {
        "id": "87ve_4OVKjXR"
      },
      "execution_count": null,
      "outputs": []
    }
  ]
}