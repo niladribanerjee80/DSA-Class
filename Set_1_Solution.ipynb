{
  "nbformat": 4,
  "nbformat_minor": 0,
  "metadata": {
    "colab": {
      "provenance": [],
      "authorship_tag": "ABX9TyOdXkK9CPkd7A5C/CdtCrWb",
      "include_colab_link": true
    },
    "kernelspec": {
      "name": "python3",
      "display_name": "Python 3"
    },
    "language_info": {
      "name": "python"
    }
  },
  "cells": [
    {
      "cell_type": "markdown",
      "metadata": {
        "id": "view-in-github",
        "colab_type": "text"
      },
      "source": [
        "<a href=\"https://colab.research.google.com/github/niladribanerjee80/DSA-Class/blob/main/Set_1_Solution.ipynb\" target=\"_parent\"><img src=\"https://colab.research.google.com/assets/colab-badge.svg\" alt=\"Open In Colab\"/></a>"
      ]
    },
    {
      "cell_type": "markdown",
      "source": [
        "# Question 1:\n",
        "## General Python Programming and Single Linked List (10 marks)\n",
        "\n",
        "**Problem Statement: Write a Python program to create a single linked list where each node contains a list of integers. Implement methods to merge all the integer lists into a single sorted list and then reverse this merged list.**"
      ],
      "metadata": {
        "id": "gZ4sQ9bgRg64"
      }
    },
    {
      "cell_type": "code",
      "execution_count": 29,
      "metadata": {
        "id": "uBmSNrSoK6MA"
      },
      "outputs": [],
      "source": [
        "class Node:\n",
        "    def __init__(self, value):\n",
        "        self.value = value\n",
        "        self.next = None\n",
        "\n",
        "class LinkedList:\n",
        "    def __init__(self):\n",
        "        self.head = None\n",
        "        self.tail = None\n",
        "        self.length = 0\n",
        "\n",
        "    def print_list(self,msg =\"LL created\"):\n",
        "        print(\"----------\")\n",
        "        print(msg)\n",
        "        print(\"----------\")\n",
        "        temp = self.head\n",
        "        while temp:\n",
        "            if temp != self.tail:\n",
        "                print(temp.value,end=\" -> \")\n",
        "            else:\n",
        "                print(temp.value)\n",
        "\n",
        "            temp = temp.next\n",
        "        print(\"\\n\")\n",
        "        print(\"Head :=> \",self.head.value)\n",
        "        print(\"Tail :=> \",self.tail.value)\n",
        "        print(\"Length :=> \",self.length)\n",
        "\n",
        "    def append(self,data):\n",
        "        for item in data:\n",
        "            new_node = Node(item)\n",
        "            if self.length == 0:\n",
        "                self.head = new_node\n",
        "                self.tail = new_node\n",
        "            else:\n",
        "                self.tail.next = new_node\n",
        "                self.tail = new_node\n",
        "\n",
        "            self.length += 1\n",
        "        return True\n",
        "\n",
        "    def merge_and_reverse(self):\n",
        "        merged_list = []\n",
        "        temp = self.head\n",
        "        while temp:\n",
        "            merged_list.append(temp.value)\n",
        "            temp = temp.next\n",
        "\n",
        "        merged_list.sort()\n",
        "        merged_list.reverse()\n",
        "        return merged_list"
      ]
    },
    {
      "cell_type": "code",
      "source": [],
      "metadata": {
        "id": "jN6xYPUsTYwO"
      },
      "execution_count": null,
      "outputs": []
    },
    {
      "cell_type": "markdown",
      "source": [
        "# Q1 : Test Cases"
      ],
      "metadata": {
        "id": "BomqA02QTZWg"
      }
    },
    {
      "cell_type": "code",
      "source": [
        "# Test case 1:\n",
        "print(\"Testing append method:\")\n",
        "\n",
        "ll = LinkedList()\n",
        "ll.append([1, 4, 5])\n",
        "print(\"\\n\")\n",
        "ll.print_list(\"After appending [1, 4, 5]\")\n",
        "print(\"\\n\")\n",
        "ll.append([2, 3, 6])\n",
        "ll.print_list(\"After appending [2, 3, 6]\")\n",
        "\n",
        "print(\"\\n\")\n",
        "\n",
        "# Testing the merge_and_reverse method\n",
        "print(\"Testing merge_and_reverse method:\")\n",
        "print(\"\\n\")\n",
        "result = ll.merge_and_reverse()\n",
        "print(\"Merged and reversed list:\", result)"
      ],
      "metadata": {
        "colab": {
          "base_uri": "https://localhost:8080/"
        },
        "id": "D07qoQoRN5yl",
        "outputId": "3c9d2eea-8311-41a2-af7d-4291fdd9aa80"
      },
      "execution_count": 35,
      "outputs": [
        {
          "output_type": "stream",
          "name": "stdout",
          "text": [
            "Testing append method:\n",
            "\n",
            "\n",
            "----------\n",
            "After appending [1, 4, 5]\n",
            "----------\n",
            "1 -> 4 -> 5\n",
            "\n",
            "\n",
            "Head :=>  1\n",
            "Tail :=>  5\n",
            "Length :=>  3\n",
            "\n",
            "\n",
            "----------\n",
            "After appending [2, 3, 6]\n",
            "----------\n",
            "1 -> 4 -> 5 -> 2 -> 3 -> 6\n",
            "\n",
            "\n",
            "Head :=>  1\n",
            "Tail :=>  6\n",
            "Length :=>  6\n",
            "\n",
            "\n",
            "Testing merge_and_reverse method:\n",
            "\n",
            "\n",
            "Merged and reversed list: [6, 5, 4, 3, 2, 1]\n"
          ]
        }
      ]
    },
    {
      "cell_type": "code",
      "source": [],
      "metadata": {
        "id": "cMlNVOsqTn9q"
      },
      "execution_count": null,
      "outputs": []
    }
  ]
}