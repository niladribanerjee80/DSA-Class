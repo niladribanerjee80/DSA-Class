{
  "nbformat": 4,
  "nbformat_minor": 0,
  "metadata": {
    "colab": {
      "provenance": [],
      "authorship_tag": "ABX9TyP0c/MwX5/19suj4PR3wOhq",
      "include_colab_link": true
    },
    "kernelspec": {
      "name": "python3",
      "display_name": "Python 3"
    },
    "language_info": {
      "name": "python"
    }
  },
  "cells": [
    {
      "cell_type": "markdown",
      "metadata": {
        "id": "view-in-github",
        "colab_type": "text"
      },
      "source": [
        "<a href=\"https://colab.research.google.com/github/niladribanerjee80/DSA-Class/blob/main/Set_1_Solution.ipynb\" target=\"_parent\"><img src=\"https://colab.research.google.com/assets/colab-badge.svg\" alt=\"Open In Colab\"/></a>"
      ]
    },
    {
      "cell_type": "markdown",
      "source": [
        "# Q1: General Python Programming and Single Linked List (10 marks)\n",
        "\n",
        "**Problem Statement: Write a Python program to create a single linked list where each node contains a list of integers. Implement methods to merge all the integer lists into a single sorted list and then reverse this merged list.**"
      ],
      "metadata": {
        "id": "gZ4sQ9bgRg64"
      }
    },
    {
      "cell_type": "code",
      "execution_count": null,
      "metadata": {
        "id": "uBmSNrSoK6MA"
      },
      "outputs": [],
      "source": [
        "class Node:\n",
        "    def __init__(self, value):\n",
        "        self.value = value\n",
        "        self.next = None\n",
        "\n",
        "class LinkedList:\n",
        "    def __init__(self):\n",
        "        self.head = None\n",
        "        self.tail = None\n",
        "        self.length = 0\n",
        "\n",
        "    def print_list(self,msg =\"LL created\"):\n",
        "        print(\"----------\")\n",
        "        print(msg)\n",
        "        print(\"----------\")\n",
        "        temp = self.head\n",
        "        while temp:\n",
        "            if temp != self.tail:\n",
        "                print(temp.value,end=\" -> \")\n",
        "            else:\n",
        "                print(temp.value)\n",
        "\n",
        "            temp = temp.next\n",
        "        print(\"\\n\")\n",
        "        print(\"Head :=> \",self.head.value)\n",
        "        print(\"Tail :=> \",self.tail.value)\n",
        "        print(\"Length :=> \",self.length)\n",
        "\n",
        "    def append(self,data):\n",
        "        for item in data:\n",
        "            new_node = Node(item)\n",
        "            if self.length == 0:\n",
        "                self.head = new_node\n",
        "                self.tail = new_node\n",
        "            else:\n",
        "                self.tail.next = new_node\n",
        "                self.tail = new_node\n",
        "\n",
        "            self.length += 1\n",
        "        return True\n",
        "\n",
        "    def merge_and_reverse(self):\n",
        "        merged_list = []\n",
        "        temp = self.head\n",
        "        while temp:\n",
        "            merged_list.append(temp.value)\n",
        "            temp = temp.next\n",
        "\n",
        "        merged_list.sort()\n",
        "        merged_list.reverse()\n",
        "        return merged_list"
      ]
    },
    {
      "cell_type": "code",
      "source": [],
      "metadata": {
        "id": "jN6xYPUsTYwO"
      },
      "execution_count": null,
      "outputs": []
    },
    {
      "cell_type": "markdown",
      "source": [
        "# Q1 : Test Cases"
      ],
      "metadata": {
        "id": "BomqA02QTZWg"
      }
    },
    {
      "cell_type": "code",
      "source": [
        "# Test case 1:\n",
        "print(\"Testing append method:\")\n",
        "\n",
        "ll = LinkedList()\n",
        "ll.append([1, 4, 5])\n",
        "print(\"\\n\")\n",
        "ll.print_list(\"After appending [1, 4, 5]\")\n",
        "print(\"\\n\")\n",
        "ll.append([2, 3, 6])\n",
        "ll.print_list(\"After appending [2, 3, 6]\")\n",
        "\n",
        "print(\"\\n\")\n",
        "\n",
        "# Testing the merge_and_reverse method\n",
        "print(\"Testing merge_and_reverse method:\")\n",
        "print(\"\\n\")\n",
        "result = ll.merge_and_reverse()\n",
        "print(\"Merged and reversed list:\", result)"
      ],
      "metadata": {
        "colab": {
          "base_uri": "https://localhost:8080/"
        },
        "id": "D07qoQoRN5yl",
        "outputId": "3c9d2eea-8311-41a2-af7d-4291fdd9aa80"
      },
      "execution_count": null,
      "outputs": [
        {
          "output_type": "stream",
          "name": "stdout",
          "text": [
            "Testing append method:\n",
            "\n",
            "\n",
            "----------\n",
            "After appending [1, 4, 5]\n",
            "----------\n",
            "1 -> 4 -> 5\n",
            "\n",
            "\n",
            "Head :=>  1\n",
            "Tail :=>  5\n",
            "Length :=>  3\n",
            "\n",
            "\n",
            "----------\n",
            "After appending [2, 3, 6]\n",
            "----------\n",
            "1 -> 4 -> 5 -> 2 -> 3 -> 6\n",
            "\n",
            "\n",
            "Head :=>  1\n",
            "Tail :=>  6\n",
            "Length :=>  6\n",
            "\n",
            "\n",
            "Testing merge_and_reverse method:\n",
            "\n",
            "\n",
            "Merged and reversed list: [6, 5, 4, 3, 2, 1]\n"
          ]
        }
      ]
    },
    {
      "cell_type": "markdown",
      "source": [
        "# Q2: Single Linked List and Stacks (10 marks)\n",
        "\n",
        "**Problem Statement: Implement a single linked list and use it to create a stack that can also perform the get_max operation, which returns the maximum element in the stack in O(1) time.**"
      ],
      "metadata": {
        "id": "RDlk9mHvV9XD"
      }
    },
    {
      "cell_type": "code",
      "source": [
        "class Node:\n",
        "    def __init__(self, value):\n",
        "        self.value = value\n",
        "        self.next = None\n",
        "\n",
        "class SLLStack:\n",
        "    def __init__(self):\n",
        "        self.top = None\n",
        "        self.height = 0\n",
        "        self.max_stack = []\n",
        "\n",
        "    def push(self, value):\n",
        "        new_node = Node(value)\n",
        "\n",
        "        if self.top == None:\n",
        "            self.top = new_node\n",
        "        else:\n",
        "            new_node.next = self.top\n",
        "            self.top = new_node\n",
        "\n",
        "        self.height += 1\n",
        "\n",
        "        # Maintain the max_stack\n",
        "        if len(self.max_stack) == 0:\n",
        "            self.max_stack.append(value)\n",
        "        else:\n",
        "            if value >= self.max_stack[-1]:\n",
        "                self.max_stack.append(value)\n",
        "\n",
        "    def pop(self):\n",
        "        if self.top == None:\n",
        "            return None\n",
        "\n",
        "        temp = self.top\n",
        "\n",
        "        if self.height == 1:\n",
        "            self.top = None\n",
        "        else:\n",
        "            self.top = temp.next\n",
        "\n",
        "        temp.next = None\n",
        "\n",
        "        # Maintain the max_stack\n",
        "        if self.max_stack and temp.value == self.max_stack[-1]:\n",
        "            self.max_stack.pop()\n",
        "\n",
        "        return temp\n",
        "\n",
        "    def get_max(self):\n",
        "        if len(self.max_stack) == 0:\n",
        "            return None\n",
        "        return self.max_stack[-1]"
      ],
      "metadata": {
        "id": "cMlNVOsqTn9q"
      },
      "execution_count": 43,
      "outputs": []
    },
    {
      "cell_type": "markdown",
      "source": [
        "# Q2 : Test cases"
      ],
      "metadata": {
        "id": "PbHlywnYgH0d"
      }
    },
    {
      "cell_type": "code",
      "source": [
        "# Test case 1:\n",
        "stack = SLLStack()\n",
        "stack.push(5)\n",
        "stack.push(3)\n",
        "stack.push(7)\n",
        "stack.push(6)\n",
        "print(stack.get_max())  # Output: 7\n",
        "stack.pop()\n",
        "print(stack.get_max())  # Output: 7\n",
        "stack.pop()\n",
        "print(stack.get_max())  # Output: 5"
      ],
      "metadata": {
        "colab": {
          "base_uri": "https://localhost:8080/"
        },
        "id": "_7i82zVLcWDQ",
        "outputId": "be7f91e1-beb2-4df0-afc6-d7006c46e745"
      },
      "execution_count": 44,
      "outputs": [
        {
          "output_type": "stream",
          "name": "stdout",
          "text": [
            "7\n",
            "7\n",
            "5\n"
          ]
        }
      ]
    },
    {
      "cell_type": "code",
      "source": [
        "# Test case 2:\n",
        "stack = SLLStack()\n",
        "stack.push(6)\n",
        "stack.push(7)\n",
        "stack.push(3)\n",
        "stack.push(5)\n",
        "print(stack.get_max())  # Output: 7\n",
        "stack.pop()\n",
        "print(stack.get_max())  # Output: 7\n",
        "stack.pop()\n",
        "print(stack.get_max())  # Output: 7\n",
        "stack.pop()\n",
        "print(stack.get_max())  # Output: 6"
      ],
      "metadata": {
        "colab": {
          "base_uri": "https://localhost:8080/"
        },
        "id": "Naz6tm5ucW9S",
        "outputId": "71e458c3-3b55-4e31-8398-9fabdf600b9b"
      },
      "execution_count": 45,
      "outputs": [
        {
          "output_type": "stream",
          "name": "stdout",
          "text": [
            "7\n",
            "7\n",
            "7\n",
            "6\n"
          ]
        }
      ]
    },
    {
      "cell_type": "markdown",
      "source": [
        "# Q3: Binary Search Trees (10 marks)\n",
        "\n",
        "**Problem Statement: Implement delete_node for Binary search tree using recursion technique.\n",
        "Rules for deletion**"
      ],
      "metadata": {
        "id": "W-GdQWY0ivzY"
      }
    },
    {
      "cell_type": "code",
      "source": [
        "class Node:\n",
        "    def __init__(self,value):\n",
        "        self.value = value\n",
        "        self.left = None\n",
        "        self.right = None\n",
        "\n",
        "class BST:\n",
        "    def __init__(self):\n",
        "        self.root = None\n",
        "\n",
        "    def r_contains(self,value):\n",
        "        return self.__r_contains(self.root,value)\n",
        "\n",
        "    def __r_contains(self,curr_node,value):\n",
        "        if curr_node == None:\n",
        "            return False\n",
        "\n",
        "        if curr_node.value == value:\n",
        "            return True\n",
        "\n",
        "        if value < curr_node.value:\n",
        "            return self.__r_contains(curr_node.left,value)\n",
        "        else:\n",
        "            return self.__r_contains(curr_node.right,value)\n",
        "\n",
        "    def r_insert(self,value):\n",
        "        if self.root == None:\n",
        "            self.root = Node(value)\n",
        "        else:\n",
        "            self.__r_insert(self.root,value)\n",
        "\n",
        "    def __r_insert(self,curr_node,value):\n",
        "        if curr_node == None:\n",
        "            return Node(value)\n",
        "\n",
        "        if value < curr_node.value:\n",
        "            curr_node.left = self.__r_insert(curr_node.left,value)\n",
        "        elif value > curr_node.value:\n",
        "            curr_node.right = self.__r_insert(curr_node.right,value)\n",
        "        else:\n",
        "            return None\n",
        "        return curr_node\n",
        "\n",
        "    def r_delete_node(self,value):\n",
        "        # write the logic for root deletion\n",
        "        self.__delete_node(self.root,value)\n",
        "\n",
        "    def __delete_node(self,curr_node,value):\n",
        "        if curr_node == None:\n",
        "            return None\n",
        "\n",
        "        if value < curr_node.value:\n",
        "            curr_node.left = self.__delete_node(curr_node.left,value)\n",
        "        elif value > curr_node.value:\n",
        "            curr_node.right = self.__delete_node(curr_node.right,value)\n",
        "        else:\n",
        "            if curr_node.left == None and curr_node.right == None:\n",
        "                return None\n",
        "            elif curr_node.left == None:\n",
        "                curr_node = curr_node.right\n",
        "            elif curr_node.right == None:\n",
        "                curr_node = curr_node.left\n",
        "            else:\n",
        "                if curr_node.left == None and curr_node.right == None:\n",
        "                    return None\n",
        "                elif curr_node.right == None:\n",
        "                    curr_node = curr_node.left\n",
        "                elif curr_node.left == None:\n",
        "                    curr_node = curr_node.right\n",
        "                else:\n",
        "                    sub_tree_min = self.min_value(curr_node.right)\n",
        "                    curr_node.value = sub_tree_min\n",
        "                    curr_node.right = self.__delete_node(curr_node.right,sub_tree_min)\n",
        "        return curr_node\n",
        "\n",
        "    def min_value(self,curr_node):\n",
        "        while curr_node.left is not None:\n",
        "            curr_node = curr_node.left\n",
        "        return curr_node.value"
      ],
      "metadata": {
        "id": "hmFR4drdcgYj"
      },
      "execution_count": 50,
      "outputs": []
    },
    {
      "cell_type": "code",
      "source": [
        "# Test case\n",
        "my_tree = BST()\n",
        "my_tree.r_insert(47)\n",
        "my_tree.r_insert(21)\n",
        "my_tree.r_insert(18)\n",
        "my_tree.r_insert(27)\n",
        "my_tree.r_insert(25)\n",
        "my_tree.r_insert(24)\n",
        "my_tree.r_insert(26)\n",
        "my_tree.r_insert(29)\n",
        "my_tree.r_insert(28)\n",
        "my_tree.r_insert(30)\n",
        "my_tree.r_insert(76)\n",
        "my_tree.r_insert(53)\n",
        "my_tree.r_insert(82)"
      ],
      "metadata": {
        "id": "e5XxgvtkstVm"
      },
      "execution_count": 47,
      "outputs": []
    },
    {
      "cell_type": "code",
      "source": [
        "my_tree.r_delete_node(27)"
      ],
      "metadata": {
        "id": "DQdA6iLqsyKm"
      },
      "execution_count": 49,
      "outputs": []
    },
    {
      "cell_type": "code",
      "source": [],
      "metadata": {
        "id": "F-BzZTqJs5bQ"
      },
      "execution_count": null,
      "outputs": []
    },
    {
      "cell_type": "markdown",
      "source": [
        "# Q5: General Python Programming (10 marks)\n",
        "\n",
        "**Problem Statement: Find 1st Non repeating character. You have been given a string of lowercase letters.\n",
        "\n",
        "\n",
        "Write a function called first_non_repeating_char(string) that finds the first non-repeating character in the given string using a hash table (dictionary). If there is no non-repeating character in the string, the function should return None.\n",
        "\n",
        "\n",
        "For example, if the input string is \"leetcode\", the function should return \"l\" because \"l\" is the first character that appears only once in the string. Similarly, if the input string is \"hello\", the function should return \"h\" because \"h\" is the first non-repeating character in the string.**"
      ],
      "metadata": {
        "id": "dNaVnwxSwoQd"
      }
    },
    {
      "cell_type": "code",
      "source": [
        "def first_non_repeating_char(text):\n",
        "    letter_freq = {}\n",
        "\n",
        "    # First pass: count the frequency of each character\n",
        "    for letter in text:\n",
        "        letter_freq[letter] = letter_freq.get(letter, 0) + 1\n",
        "\n",
        "    # Second pass: find the first non-repeating character\n",
        "    for letter in text:\n",
        "        if letter_freq[letter] == 1:\n",
        "            return letter\n",
        "\n",
        "    return None"
      ],
      "metadata": {
        "id": "xl-herwBwqHu"
      },
      "execution_count": 51,
      "outputs": []
    },
    {
      "cell_type": "code",
      "source": [
        "print( first_non_repeating_char('leetcode') ) # Output = l\n",
        "print( first_non_repeating_char('hello') ) # Output = h\n",
        "print( first_non_repeating_char('aabbcc') ) # Output = None\n",
        "print( first_non_repeating_char('a') ) # Output = a"
      ],
      "metadata": {
        "colab": {
          "base_uri": "https://localhost:8080/"
        },
        "id": "1W9LZ80NwuAa",
        "outputId": "202492d1-50fd-405c-a8e0-6e1224ad7186"
      },
      "execution_count": 52,
      "outputs": [
        {
          "output_type": "stream",
          "name": "stdout",
          "text": [
            "l\n",
            "h\n",
            "None\n",
            "a\n"
          ]
        }
      ]
    },
    {
      "cell_type": "code",
      "source": [],
      "metadata": {
        "id": "s3BcU4K5wu9i"
      },
      "execution_count": null,
      "outputs": []
    }
  ]
}