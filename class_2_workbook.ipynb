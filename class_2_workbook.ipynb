{
  "nbformat": 4,
  "nbformat_minor": 0,
  "metadata": {
    "colab": {
      "provenance": [],
      "authorship_tag": "ABX9TyNMv2my/x42AvKVOf7Ywg6G",
      "include_colab_link": true
    },
    "kernelspec": {
      "name": "python3",
      "display_name": "Python 3"
    },
    "language_info": {
      "name": "python"
    }
  },
  "cells": [
    {
      "cell_type": "markdown",
      "metadata": {
        "id": "view-in-github",
        "colab_type": "text"
      },
      "source": [
        "<a href=\"https://colab.research.google.com/github/niladribanerjee80/DSA-Class/blob/main/class_2_workbook.ipynb\" target=\"_parent\"><img src=\"https://colab.research.google.com/assets/colab-badge.svg\" alt=\"Open In Colab\"/></a>"
      ]
    },
    {
      "cell_type": "code",
      "execution_count": 1,
      "metadata": {
        "id": "qY1pgTSLxCFj"
      },
      "outputs": [],
      "source": [
        "class Animal:\n",
        "\n",
        "    def __init__(self):\n",
        "        print(\"Animal created\")\n",
        "\n",
        "    def who_am_i(self):\n",
        "        print(\"I am an animal\")\n",
        "\n",
        "    def eat(self):\n",
        "        print(\"I am eating\")"
      ]
    },
    {
      "cell_type": "code",
      "source": [
        "animal = Animal()"
      ],
      "metadata": {
        "colab": {
          "base_uri": "https://localhost:8080/"
        },
        "id": "EhMJgI4Vxo-O",
        "outputId": "d6b67082-d5ce-4c8f-f4ca-4e516d3f9139"
      },
      "execution_count": 2,
      "outputs": [
        {
          "output_type": "stream",
          "name": "stdout",
          "text": [
            "Animal created\n"
          ]
        }
      ]
    },
    {
      "cell_type": "code",
      "source": [
        "class Human(Animal):\n",
        "\n",
        "    def __init__(self):\n",
        "        Animal.__init__(self)\n",
        "        print(\"I am human\")\n",
        "\n",
        "    def who_am_i(self):\n",
        "        print(\"I am human\")\n",
        "\n",
        "    def speak(self):\n",
        "        print(\"Hey how are you?\")"
      ],
      "metadata": {
        "id": "Wz3O4fgxxyg0"
      },
      "execution_count": 3,
      "outputs": []
    },
    {
      "cell_type": "code",
      "source": [
        "myself = Human()"
      ],
      "metadata": {
        "colab": {
          "base_uri": "https://localhost:8080/"
        },
        "id": "6MrV3oTJyvF8",
        "outputId": "2a68bad7-68e1-4cfe-cc86-e03ae5c08dae"
      },
      "execution_count": 4,
      "outputs": [
        {
          "output_type": "stream",
          "name": "stdout",
          "text": [
            "Animal created\n",
            "I am human\n"
          ]
        }
      ]
    },
    {
      "cell_type": "code",
      "source": [
        "myself.eat()"
      ],
      "metadata": {
        "colab": {
          "base_uri": "https://localhost:8080/"
        },
        "id": "pT6hUCWJyxlL",
        "outputId": "a9abb0dd-6e52-420d-a012-17907a2cbb41"
      },
      "execution_count": 5,
      "outputs": [
        {
          "output_type": "stream",
          "name": "stdout",
          "text": [
            "I am eating\n"
          ]
        }
      ]
    },
    {
      "cell_type": "code",
      "source": [
        "class Node:\n",
        "    def __init__(self,value):\n",
        "        self.value = value\n",
        "        self.next = None"
      ],
      "metadata": {
        "id": "HzC9tqHjzEqV"
      },
      "execution_count": 6,
      "outputs": []
    },
    {
      "cell_type": "code",
      "source": [
        "class LinkedList:\n",
        "\n",
        "    def __init__(self,value):\n",
        "        new_node = Node(value)\n",
        "        self.head = new_node\n",
        "        self.tail = new_node\n",
        "        self.length = 1\n",
        "\n",
        "    def append(self,value):\n",
        "        new_node = Node(value)\n",
        "\n",
        "        if self.head is None:\n",
        "            self.head = new_node\n",
        "            self.tail = new_node\n",
        "        else:\n",
        "            self.tail.next = new_node\n",
        "            self.tail = new_node\n",
        "\n",
        "        self.length += 1\n",
        "        return True\n",
        "\n",
        "    def print_list(self,msg=\"List created\"):\n",
        "        print(\"------\")\n",
        "        print(msg)\n",
        "        print(\"------\")\n",
        "\n",
        "        temp = self.head\n",
        "\n",
        "        while temp is not None:\n",
        "            print(temp.value,end=\" -> \")\n",
        "            temp = temp.next\n",
        "        print(\"None\")\n",
        "\n",
        "        print(\"\\n\")\n",
        "        print(\"Head : \",self.head.value)\n",
        "        print(\"Tail : \",self.tail.value)\n",
        "        print(\"length : \",self.length)\n",
        "        print(\"\\n\")\n",
        "\n",
        "    def prepend(self,value):\n",
        "        new_node = Node(value)\n",
        "\n",
        "        if self.length == 0:\n",
        "            self.head = new_node\n",
        "            self.tail = new_node\n",
        "        else:\n",
        "            new_node.next = self.head\n",
        "            self.head = new_node\n",
        "\n",
        "        self.length += 1\n",
        "        return True\n",
        "\n",
        "    def pop(self):\n",
        "        # if LL is empty\n",
        "        if self.length == 0:\n",
        "            return None\n",
        "\n",
        "        popped_node = self.tail\n",
        "\n",
        "        pre = self.head\n",
        "        temp = self.head\n",
        "\n",
        "        while temp.next:\n",
        "            pre = temp\n",
        "            temp = temp.next\n",
        "\n",
        "        self.tail = pre\n",
        "        pre.next = None\n",
        "        self.length -= 1\n",
        "\n",
        "        if self.length == 0:\n",
        "            self.head = None\n",
        "            self.tail = None\n",
        "\n",
        "        return popped_node\n",
        "\n",
        "    def pop_first(self):\n",
        "        pass\n",
        "\n",
        "    def get(self,index):\n",
        "        pass\n",
        "\n",
        "    def set_value(self,index,value):\n",
        "        pass\n",
        "\n",
        "    def insert(self,index,value):\n",
        "        pass\n",
        "\n",
        "    def remove(self,index):\n",
        "        pass\n",
        "\n",
        "    def reverse(self):\n",
        "        pass"
      ],
      "metadata": {
        "id": "XoBgcXrv1vvB"
      },
      "execution_count": 28,
      "outputs": []
    },
    {
      "cell_type": "code",
      "source": [],
      "metadata": {
        "id": "5ot1UmJb640S"
      },
      "execution_count": 8,
      "outputs": []
    },
    {
      "cell_type": "code",
      "source": [],
      "metadata": {
        "id": "v2TMs8J6666I"
      },
      "execution_count": 8,
      "outputs": []
    }
  ]
}