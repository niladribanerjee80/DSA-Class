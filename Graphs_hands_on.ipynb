{
  "nbformat": 4,
  "nbformat_minor": 0,
  "metadata": {
    "colab": {
      "provenance": [],
      "authorship_tag": "ABX9TyNVy52C5S7gg1a9h5ncw7F8",
      "include_colab_link": true
    },
    "kernelspec": {
      "name": "python3",
      "display_name": "Python 3"
    },
    "language_info": {
      "name": "python"
    }
  },
  "cells": [
    {
      "cell_type": "markdown",
      "metadata": {
        "id": "view-in-github",
        "colab_type": "text"
      },
      "source": [
        "<a href=\"https://colab.research.google.com/github/niladribanerjee80/DSA-Class/blob/main/Graphs_hands_on.ipynb\" target=\"_parent\"><img src=\"https://colab.research.google.com/assets/colab-badge.svg\" alt=\"Open In Colab\"/></a>"
      ]
    },
    {
      "cell_type": "code",
      "execution_count": 9,
      "metadata": {
        "id": "aaGimINhlES6"
      },
      "outputs": [],
      "source": [
        "class Graph:\n",
        "\n",
        "    def __init__(self):\n",
        "        self.adj_list = {}\n",
        "\n",
        "    def print_graph(self):\n",
        "        for vertex in self.adj_list:\n",
        "            print(vertex, \" : \",self.adj_list[vertex])\n",
        "\n",
        "    def add_vertex(self,vertex):\n",
        "        if vertex not in self.adj_list.keys():\n",
        "            self.adj_list[vertex] = []\n",
        "        return True\n",
        "\n",
        "    def add_edge(self,v1,v2):\n",
        "        # first add vertex if they don't exist\n",
        "        if v1 not in self.adj_list.keys():\n",
        "            self.add_vertex(v1)\n",
        "\n",
        "        if v2 not in self.adj_list.keys():\n",
        "            self.add_vertex(v2)\n",
        "\n",
        "        # create the edges if they don't exist\n",
        "        if v2 not in self.adj_list[v1]:\n",
        "            self.adj_list[v1].append(v2)\n",
        "\n",
        "        if v1 not in self.adj_list[v2]:\n",
        "            self.adj_list[v2].append(v1)\n",
        "\n",
        "        return True\n",
        "\n",
        "    def remove_edge(self,v1,v2):\n",
        "        status_1 = False\n",
        "        status_2 = False\n",
        "\n",
        "        if v1 in self.adj_list.keys():\n",
        "            if v2 in self.adj_list[v1]:\n",
        "                self.adj_list[v1].remove(v2)\n",
        "                status_1 = True\n",
        "\n",
        "        if v2 in self.adj_list.keys():\n",
        "            if v1 in self.adj_list[v2]:\n",
        "                self.adj_list[v2].remove(v1)\n",
        "                status_2 = True\n",
        "\n",
        "        if status_1 and status_2:\n",
        "            return True\n",
        "        else:\n",
        "            return False\n",
        "\n",
        "\n",
        "    def remove_vertex(self,vertex):\n",
        "        if vertex in self.adj_list.keys():\n",
        "            for other_vertex in self.adj_list[vertex]:\n",
        "                self.adj_list[other_vertex].remove(vertex)\n",
        "\n",
        "            del self.adj_list[vertex]\n",
        "            return True\n",
        "        return False"
      ]
    },
    {
      "cell_type": "code",
      "source": [
        "my_graph = Graph()\n",
        "\n",
        "my_graph.add_vertex(\"A\")\n",
        "my_graph.add_vertex(\"B\")\n",
        "my_graph.add_vertex(\"C\")\n",
        "my_graph.add_vertex(\"D\")\n",
        "\n",
        "my_graph.add_edge(\"A\",\"B\")\n",
        "my_graph.add_edge(\"B\",\"D\")\n",
        "my_graph.add_edge(\"D\",\"C\")\n",
        "my_graph.add_edge(\"D\",\"A\")\n",
        "my_graph.add_edge(\"C\",\"A\")\n",
        "my_graph.print_graph()\n",
        "print(\"\\n\")"
      ],
      "metadata": {
        "colab": {
          "base_uri": "https://localhost:8080/"
        },
        "id": "JpFxHX0IlaXM",
        "outputId": "0e59b0fa-13b4-43b5-eeb6-0d425755fd9c"
      },
      "execution_count": 10,
      "outputs": [
        {
          "output_type": "stream",
          "name": "stdout",
          "text": [
            "A  :  ['B', 'D', 'C']\n",
            "B  :  ['A', 'D']\n",
            "C  :  ['D', 'A']\n",
            "D  :  ['B', 'C', 'A']\n",
            "\n",
            "\n"
          ]
        }
      ]
    },
    {
      "cell_type": "code",
      "source": [
        "# my_graph.remove_edge('A','B')\n",
        "my_graph.remove_vertex(\"D\")\n",
        "my_graph.print_graph()"
      ],
      "metadata": {
        "colab": {
          "base_uri": "https://localhost:8080/"
        },
        "id": "lgBZMQOfmacx",
        "outputId": "c3f87bea-2f12-4d41-e56e-a3cf1c71ae6a"
      },
      "execution_count": 11,
      "outputs": [
        {
          "output_type": "stream",
          "name": "stdout",
          "text": [
            "A  :  ['B', 'C']\n",
            "B  :  ['A']\n",
            "C  :  ['A']\n"
          ]
        }
      ]
    },
    {
      "cell_type": "code",
      "source": [],
      "metadata": {
        "id": "SMQ980ZgofHH"
      },
      "execution_count": null,
      "outputs": []
    }
  ]
}