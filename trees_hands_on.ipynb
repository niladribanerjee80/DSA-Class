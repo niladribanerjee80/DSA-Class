{
  "nbformat": 4,
  "nbformat_minor": 0,
  "metadata": {
    "colab": {
      "provenance": [],
      "authorship_tag": "ABX9TyN+Xd/4VnaERx+BGY7ynq17",
      "include_colab_link": true
    },
    "kernelspec": {
      "name": "python3",
      "display_name": "Python 3"
    },
    "language_info": {
      "name": "python"
    }
  },
  "cells": [
    {
      "cell_type": "markdown",
      "metadata": {
        "id": "view-in-github",
        "colab_type": "text"
      },
      "source": [
        "<a href=\"https://colab.research.google.com/github/niladribanerjee80/DSA-Class/blob/main/trees_hands_on.ipynb\" target=\"_parent\"><img src=\"https://colab.research.google.com/assets/colab-badge.svg\" alt=\"Open In Colab\"/></a>"
      ]
    },
    {
      "cell_type": "code",
      "execution_count": 17,
      "metadata": {
        "id": "NISaTlOnraA6"
      },
      "outputs": [],
      "source": [
        "class Node:\n",
        "    def __init__(self,value):\n",
        "        self.value = value\n",
        "        self.left = None\n",
        "        self.right = None\n",
        "\n",
        "class BST:\n",
        "    def __init__(self):\n",
        "        self.root = None\n",
        "\n",
        "    def insert(self,value):\n",
        "        new_node = Node(value)\n",
        "        if self.root == None:\n",
        "            self.root = new_node\n",
        "            return True\n",
        "        temp = self.root\n",
        "        while True:\n",
        "            if value < temp.value:\n",
        "                # go left\n",
        "                if temp.left == None:\n",
        "                    temp.left = new_node\n",
        "                    return True\n",
        "                temp = temp.left\n",
        "            elif value > temp.value:\n",
        "                # go right\n",
        "                if temp.right == None:\n",
        "                    temp.right = new_node\n",
        "                    return True\n",
        "                temp = temp.right\n",
        "            else:\n",
        "                return False\n",
        "\n",
        "    def contains(self,value):\n",
        "        if self.root == None:\n",
        "            return False\n",
        "        temp = self.root\n",
        "        while True:\n",
        "            if value < temp.value:\n",
        "                if temp.left == None:\n",
        "                    return False\n",
        "                temp = temp.left\n",
        "            elif value > temp.value:\n",
        "                # go right\n",
        "                if temp.right == None:\n",
        "                    return False\n",
        "                temp = temp.right\n",
        "            else:\n",
        "                return True\n",
        "\n",
        "    def r_contains(self,value):\n",
        "        return self.__r_contains(self.root,value)\n",
        "\n",
        "    def __r_contains(self,curr_node,value):\n",
        "        if curr_node == None:\n",
        "            return False\n",
        "\n",
        "        if curr_node.value == value:\n",
        "            return True\n",
        "\n",
        "        if value < curr_node.value:\n",
        "            return self.__r_contains(curr_node.left,value)\n",
        "        else:\n",
        "            return self.__r_contains(curr_node.right,value)\n",
        "\n",
        "    def r_insert(self,value):\n",
        "        if self.root == None:\n",
        "            self.root = Node(value)\n",
        "        else:\n",
        "            self.__r_insert(self.root,value)\n",
        "\n",
        "    def __r_insert(self,curr_node,value):\n",
        "        if curr_node == None:\n",
        "            return Node(value)\n",
        "\n",
        "        if value < curr_node.value:\n",
        "            curr_node.left = self.__r_insert(curr_node.left,value)\n",
        "        elif value > curr_node.value:\n",
        "            curr_node.right = self.__r_insert(curr_node.right,value)\n",
        "        else:\n",
        "            return None\n",
        "        return curr_node\n",
        "\n",
        "    def r_delete_node(self,value):\n",
        "        self.__delete_node(self.root,value)\n",
        "\n",
        "    def __delete_node(self,curr_node,value):\n",
        "        if curr_node == None:\n",
        "            return None\n",
        "\n",
        "        if value < curr_node.value:\n",
        "            curr_node.left = self.__delete_node(curr_node.left,value)\n",
        "        elif value > curr_node.value:\n",
        "            curr_node.right = self.__delete_node(curr_node.right,value)\n",
        "        else:\n",
        "            if curr_node.left == None and curr_node.right == None:\n",
        "                return None\n",
        "            elif curr_node.left == None:\n",
        "                curr_node = curr_node.right\n",
        "            elif curr_node.right == None:\n",
        "                curr_node = curr_node.left\n",
        "            else:\n",
        "                if curr_node.left == None and curr_node.right == None:\n",
        "                    return None\n",
        "                elif curr_node.right == None:\n",
        "                    curr_node = curr_node.left\n",
        "                elif curr_node.left == None:\n",
        "                    curr_node = curr_node.right\n",
        "                else:\n",
        "                    sub_tree_min = self.min_value(curr_node.right)\n",
        "                    curr_node.value = sub_tree_min\n",
        "                    curr_node.right = self.__delete_node(curr_node.right,sub_tree_min)\n",
        "        return curr_node\n",
        "\n",
        "    def min_value(self,curr_node):\n",
        "        while curr_node.left is not None:\n",
        "            curr_node = curr_node.left\n",
        "        return curr_node.value"
      ]
    },
    {
      "cell_type": "code",
      "source": [
        "my_tree = BST()\n",
        "my_tree.r_insert(47)\n",
        "my_tree.r_insert(21)\n",
        "my_tree.r_insert(18)\n",
        "my_tree.r_insert(27)\n",
        "my_tree.r_insert(25)\n",
        "my_tree.r_insert(24)\n",
        "my_tree.r_insert(26)\n",
        "my_tree.r_insert(29)\n",
        "my_tree.r_insert(28)\n",
        "my_tree.r_insert(30)\n",
        "my_tree.r_insert(76)\n",
        "my_tree.r_insert(52)\n",
        "my_tree.r_insert(82)"
      ],
      "metadata": {
        "id": "7ooHivjIuRBQ"
      },
      "execution_count": 18,
      "outputs": []
    },
    {
      "cell_type": "code",
      "source": [
        "my_tree.r_delete_node(27)"
      ],
      "metadata": {
        "id": "u-5AukYnxVHG"
      },
      "execution_count": 19,
      "outputs": []
    },
    {
      "cell_type": "code",
      "source": [
        "my_tree.r_contains(27)"
      ],
      "metadata": {
        "colab": {
          "base_uri": "https://localhost:8080/"
        },
        "id": "x0X4isAHxlB3",
        "outputId": "3f6044bb-50dc-4c2c-e7f2-7519da708303"
      },
      "execution_count": 20,
      "outputs": [
        {
          "output_type": "execute_result",
          "data": {
            "text/plain": [
              "False"
            ]
          },
          "metadata": {},
          "execution_count": 20
        }
      ]
    },
    {
      "cell_type": "code",
      "source": [
        "my_tree.r_contains(28)"
      ],
      "metadata": {
        "colab": {
          "base_uri": "https://localhost:8080/"
        },
        "id": "VkiTlkyaLzeA",
        "outputId": "3453eac8-59f1-40fb-947e-e442ff9ebdbb"
      },
      "execution_count": 21,
      "outputs": [
        {
          "output_type": "execute_result",
          "data": {
            "text/plain": [
              "True"
            ]
          },
          "metadata": {},
          "execution_count": 21
        }
      ]
    },
    {
      "cell_type": "code",
      "source": [],
      "metadata": {
        "id": "et5u41YKL2XS"
      },
      "execution_count": null,
      "outputs": []
    }
  ]
}