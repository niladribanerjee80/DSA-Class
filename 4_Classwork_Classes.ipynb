{
  "nbformat": 4,
  "nbformat_minor": 0,
  "metadata": {
    "colab": {
      "provenance": [],
      "authorship_tag": "ABX9TyPBpiCnVhDOiSm4XpNk/vkn",
      "include_colab_link": true
    },
    "kernelspec": {
      "name": "python3",
      "display_name": "Python 3"
    },
    "language_info": {
      "name": "python"
    }
  },
  "cells": [
    {
      "cell_type": "markdown",
      "metadata": {
        "id": "view-in-github",
        "colab_type": "text"
      },
      "source": [
        "<a href=\"https://colab.research.google.com/github/niladribanerjee80/DSA-Class/blob/main/4_Classwork_Classes.ipynb\" target=\"_parent\"><img src=\"https://colab.research.google.com/assets/colab-badge.svg\" alt=\"Open In Colab\"/></a>"
      ]
    },
    {
      "cell_type": "markdown",
      "source": [
        "# Classwork\n",
        "\n",
        "Time = 10 mins"
      ],
      "metadata": {
        "id": "5oPLnwurviRM"
      }
    },
    {
      "cell_type": "markdown",
      "source": [
        "# Problem 1: Car class\n",
        "\n",
        "Define a Car class with attributes for the car's make and model. Include a method to start the car that prints a message indicating the car has started."
      ],
      "metadata": {
        "id": "3deomfZlvoL3"
      }
    },
    {
      "cell_type": "code",
      "execution_count": null,
      "metadata": {
        "id": "zNop-cJvvfSl"
      },
      "outputs": [],
      "source": [
        "class Car:\n",
        "    def __init__(self, make, model):\n",
        "        # write your code\n",
        "\n",
        "    def start(self):\n",
        "        # write your code\n",
        "\n",
        "# Creating an instance of Car\n",
        "car1 = Car(\"Toyota\", \"Corolla\")\n",
        "car1.start()  # Output: The Toyota Corolla has started."
      ]
    },
    {
      "cell_type": "markdown",
      "source": [
        "# Problem 2: Line class\n",
        "\n",
        "Create Line class methods to accept coordinates as a pair of tuples and return the slope and distance of the line.\n"
      ],
      "metadata": {
        "id": "6aY6D_jqv3cM"
      }
    },
    {
      "cell_type": "code",
      "source": [
        "class Line:\n",
        "\n",
        "def __init__(self,coor1,coor2):\n",
        "    # write your code; coor1 = (x1,y1), coor2 = (x2,y2)\n",
        "\n",
        "  def distance(self):\n",
        "    # write your code\n",
        "\n",
        "  def slope(self):\n",
        "     # write your code\n",
        "\n",
        "# test your code by calling the class"
      ],
      "metadata": {
        "id": "_8Dg479Ov3AC"
      },
      "execution_count": null,
      "outputs": []
    }
  ]
}