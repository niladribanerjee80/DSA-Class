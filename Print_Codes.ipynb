{
  "nbformat": 4,
  "nbformat_minor": 0,
  "metadata": {
    "colab": {
      "provenance": [],
      "authorship_tag": "ABX9TyOowts8bLfWmOR6ufF73qVc",
      "include_colab_link": true
    },
    "kernelspec": {
      "name": "python3",
      "display_name": "Python 3"
    },
    "language_info": {
      "name": "python"
    }
  },
  "cells": [
    {
      "cell_type": "markdown",
      "metadata": {
        "id": "view-in-github",
        "colab_type": "text"
      },
      "source": [
        "<a href=\"https://colab.research.google.com/github/niladribanerjee80/DSA-Class/blob/main/Print_Codes.ipynb\" target=\"_parent\"><img src=\"https://colab.research.google.com/assets/colab-badge.svg\" alt=\"Open In Colab\"/></a>"
      ]
    },
    {
      "cell_type": "markdown",
      "source": [
        "# Class"
      ],
      "metadata": {
        "id": "FtsuHrnXlA7x"
      }
    },
    {
      "cell_type": "code",
      "source": [
        "class Circle():\n",
        "    # class object attributes\n",
        "    pi = 3.14\n",
        "\n",
        "    def __init__(self,radius = 1):\n",
        "        self.radius = radius\n",
        "\n",
        "        # we could have used self.pi as well, but if it is a class attr, it is better to use it with the class name\n",
        "        self.area = Circle.pi * (self.radius ** 2)\n",
        "\n",
        "    def get_circumference (self):\n",
        "        # we could have used self.pi as well\n",
        "        return 2 * Circle.pi * self.radius"
      ],
      "metadata": {
        "id": "ddHtEFbqlC7m"
      },
      "execution_count": 24,
      "outputs": []
    },
    {
      "cell_type": "markdown",
      "source": [
        "# Inheritence"
      ],
      "metadata": {
        "id": "Y8ybd5shlITi"
      }
    },
    {
      "cell_type": "code",
      "source": [
        "# Base class\n",
        "class Animal():\n",
        "    def __init__(self):\n",
        "        print(\"ANIMAL CREATED\")\n",
        "\n",
        "    def who_am_i(self):\n",
        "        print(\"I am an animal\")\n",
        "\n",
        "    def eat(self):\n",
        "        print(\"I am eating\")"
      ],
      "metadata": {
        "id": "cArw-4SplD2G"
      },
      "execution_count": 1,
      "outputs": []
    },
    {
      "cell_type": "code",
      "source": [
        "# Derived class = Human class that uses the methods of Animal class\n",
        "class Human(Animal):\n",
        "    def __init__(self):\n",
        "        Animal.__init__(self)\n",
        "        print(\"Human created\")\n",
        "\n",
        "    def who_am_i(self): # overriden method\n",
        "        print(\"I am a Human\")\n",
        "\n",
        "    def speak(self):\n",
        "        print(\"Hi! How are you?\")"
      ],
      "metadata": {
        "id": "rTH7NFhzlNw2"
      },
      "execution_count": 6,
      "outputs": []
    },
    {
      "cell_type": "code",
      "source": [
        "myself = Human()"
      ],
      "metadata": {
        "colab": {
          "base_uri": "https://localhost:8080/",
          "height": 0
        },
        "id": "FvxPdnlkli2w",
        "outputId": "a85e7142-9270-4fef-f6dd-c4471da20dba"
      },
      "execution_count": 7,
      "outputs": [
        {
          "output_type": "stream",
          "name": "stdout",
          "text": [
            "ANIMAL CREATED\n",
            "Human created\n"
          ]
        }
      ]
    },
    {
      "cell_type": "code",
      "source": [
        "myself.eat()"
      ],
      "metadata": {
        "colab": {
          "base_uri": "https://localhost:8080/",
          "height": 0
        },
        "id": "iaRs-UPhli6H",
        "outputId": "519ad2fd-e2e7-48a2-c884-bf73e281076a"
      },
      "execution_count": 8,
      "outputs": [
        {
          "output_type": "stream",
          "name": "stdout",
          "text": [
            "I am eating\n"
          ]
        }
      ]
    },
    {
      "cell_type": "code",
      "source": [
        "myself.who_am_i()"
      ],
      "metadata": {
        "colab": {
          "base_uri": "https://localhost:8080/",
          "height": 0
        },
        "id": "_jH6d99Rli9o",
        "outputId": "982a21bc-e7d1-4f34-8ad9-85f47f2fc3fc"
      },
      "execution_count": 9,
      "outputs": [
        {
          "output_type": "stream",
          "name": "stdout",
          "text": [
            "I am a Human\n"
          ]
        }
      ]
    },
    {
      "cell_type": "markdown",
      "source": [
        "# Dunder methods"
      ],
      "metadata": {
        "id": "2HNJG9lcpjSE"
      }
    },
    {
      "cell_type": "code",
      "source": [
        "class Book():\n",
        "\n",
        "  def __init__(self,name,author,pages):\n",
        "    self.name = name\n",
        "    self.author = author\n",
        "    self.pages = pages\n",
        "\n",
        "  def __str__(self): # this will work if I \"print(object)\"\n",
        "    return f\"Book name = {self.name}, written by author = {self.author}\"\n",
        "\n",
        "  def __len__(self): # this will work if I \"len(object)\"\n",
        "    return self.pages\n",
        "\n",
        "  def __del__(self): # it may not work at all because of Python's memory management of how the destructor works\n",
        "    print(\"The book is deleted\")"
      ],
      "metadata": {
        "id": "oaFhyqPdljBX"
      },
      "execution_count": null,
      "outputs": []
    },
    {
      "cell_type": "markdown",
      "source": [
        "# Do SLL First"
      ],
      "metadata": {
        "id": "n0TdUlmBp0fM"
      }
    },
    {
      "cell_type": "markdown",
      "source": [
        "# DLL"
      ],
      "metadata": {
        "id": "l4bY-U6TPCMT"
      }
    },
    {
      "cell_type": "code",
      "source": [
        "import graphviz\n",
        "\n",
        "class Node:\n",
        "\n",
        "    def __init__(self,value):\n",
        "        self.value = value\n",
        "        self.next = None\n",
        "        self.prev = None\n",
        "\n",
        "class DoublyLinkedList:\n",
        "\n",
        "    def __init__(self,value):\n",
        "        new_node = Node(value)\n",
        "        self.head = new_node\n",
        "        self.tail = new_node\n",
        "        self.length = 1\n",
        "\n",
        "    def print_list(self,msg =\"DLL print List\"):\n",
        "        print(\"----------\")\n",
        "        print(msg)\n",
        "        print(\"----------\")\n",
        "\n",
        "        temp = self.head\n",
        "        print(\"Start\",end=\" <- \")\n",
        "\n",
        "        while temp:\n",
        "            if temp != self.tail:\n",
        "                print(temp.value,end=\" <-> \")\n",
        "            else:\n",
        "                print(temp.value,end=\" -> \")\n",
        "\n",
        "            temp = temp.next\n",
        "        print(\"End\")\n",
        "\n",
        "        print(\"\\n\")\n",
        "        print(\"Head :=> \",self.head.value)\n",
        "        print(\"Tail :=> \",self.tail.value)\n",
        "        print(\"Length :=> \",self.length)\n",
        "\n",
        "    def make_empty(self):\n",
        "\n",
        "        self.head = None\n",
        "        self.tail = None\n",
        "        self.length = 0\n",
        "\n",
        "    def print_graph(self,msg = \"List Created\"):\n",
        "        print(\"\\n\")\n",
        "        print(\"-----------\")\n",
        "        print(msg)\n",
        "        print(\"-----------\")\n",
        "        print(\"\\n\")\n",
        "\n",
        "        if self.length == 0:\n",
        "            return \"Nothing to display\"\n",
        "\n",
        "\n",
        "        dot = graphviz.Digraph()\n",
        "        dot.attr(rankdir='LR')  # Change direction to horizontal\n",
        "        temp = self.head\n",
        "        index = 0\n",
        "\n",
        "        while temp is not None:\n",
        "            label = f\"{temp.value} (index={index})\"\n",
        "\n",
        "            if self.length == 1:\n",
        "                dot.node(str(temp.value), label, fillcolor=\"cyan\", style=\"filled\")\n",
        "                break\n",
        "            else:\n",
        "                if temp == self.head:\n",
        "                    dot.node(str(temp.value), label, fillcolor=\"chartreuse\", style=\"filled\")\n",
        "                elif temp == self.tail:\n",
        "                    dot.node(str(temp.value), label, fillcolor=\"lightpink\", style=\"filled\")\n",
        "                else:\n",
        "                    dot.node(str(temp.value), label)\n",
        "\n",
        "            if temp.next:\n",
        "                dot.edge(str(temp.value), str(temp.next.value))\n",
        "\n",
        "            if temp.prev:\n",
        "                dot.edge(str(temp.value), str(temp.prev.value))\n",
        "\n",
        "            temp = temp.next\n",
        "            index += 1\n",
        "\n",
        "        dot.edge(\"Start\", str(self.head.value), dir=\"back\")\n",
        "        dot.edge(str(self.tail.value), \"End\")\n",
        "\n",
        "        return dot\n",
        "\n",
        "    def append(self,value):\n",
        "        # create the new node\n",
        "        new_node = Node(value)\n",
        "\n",
        "        if self.length == 0:\n",
        "            self.tail = new_node\n",
        "            self.head = new_node\n",
        "        else:\n",
        "            self.tail.next = new_node\n",
        "            new_node.prev = self.tail\n",
        "            self.tail = new_node\n",
        "\n",
        "        self.length += 1\n",
        "\n",
        "    def pop(self):\n",
        "        if self.length == 0:\n",
        "            return None\n",
        "\n",
        "        temp = self.tail\n",
        "\n",
        "        if self.length == 1:\n",
        "            self.head = None\n",
        "            self.tail = None\n",
        "        else:\n",
        "            # disconnect the last node\n",
        "            self.tail = self.tail.prev\n",
        "            self.tail.next = None\n",
        "\n",
        "        temp.prev = None\n",
        "\n",
        "        self.length -= 1\n",
        "        return temp\n",
        "\n",
        "    def prepend(self,value):\n",
        "        new_node = Node(value)\n",
        "\n",
        "        if self.length == 0:\n",
        "            self.head = new_node\n",
        "            self.tail = new_node\n",
        "        else:\n",
        "            temp = self.head\n",
        "            new_node.next = temp\n",
        "            self.head = new_node\n",
        "            temp.prev = new_node\n",
        "\n",
        "        self.length += 1\n",
        "        return True\n",
        "\n",
        "    def pop_first(self):\n",
        "\n",
        "        if self.length == 0:\n",
        "            return None\n",
        "\n",
        "        temp = self.head\n",
        "\n",
        "        if self.length == 1:\n",
        "            self.head = None\n",
        "            self.tail = None\n",
        "        else:\n",
        "            self.head = temp.next\n",
        "            self.head.prev = None\n",
        "\n",
        "        temp.next = None\n",
        "        self.length -= 1\n",
        "        return temp\n",
        "\n",
        "    def get(self,index):\n",
        "        if self.length == 0:\n",
        "            return None\n",
        "\n",
        "        if index < 0 or index >= self.length:\n",
        "            return None\n",
        "\n",
        "        temp = self.head\n",
        "        # optimize the pointer movement because we have node.prev also this time\n",
        "        if index < (self.length / 2):\n",
        "            for _ in range(index):\n",
        "                temp = temp.next\n",
        "        else:\n",
        "            temp = self.tail\n",
        "            for _ in range(self.length-1,index,-1):\n",
        "                temp = temp.prev\n",
        "        return temp\n",
        "\n",
        "    def set_value(self,index,value):\n",
        "        temp = self.get(index)\n",
        "        if temp:\n",
        "            temp.value = value\n",
        "        else:\n",
        "            return False\n",
        "        return True\n",
        "\n",
        "    def insert(self,index,value):\n",
        "        if index == 0:\n",
        "            return self.prepend(value)\n",
        "\n",
        "        elif index == self.length:\n",
        "            return self.append(value)\n",
        "\n",
        "        else:\n",
        "            # create a new node\n",
        "            new_node = Node(value)\n",
        "            curr_node = self.get(index)\n",
        "            prev_node = curr_node.prev\n",
        "\n",
        "            if curr_node and prev_node:\n",
        "                # ops on new node\n",
        "                new_node.next = curr_node\n",
        "                new_node.prev = prev_node\n",
        "\n",
        "                # ops of curr\n",
        "                curr_node.prev = new_node\n",
        "\n",
        "                # ops of prev\n",
        "                prev_node.next = new_node\n",
        "            else:\n",
        "                return False\n",
        "\n",
        "        self.length += 1\n",
        "        return True\n",
        "\n",
        "    def remove(self,index):\n",
        "        if index == 0:\n",
        "            return self.pop_first()\n",
        "\n",
        "        elif index == (self.length-1):\n",
        "            return self.pop()\n",
        "\n",
        "        else:\n",
        "            current = self.get(index)\n",
        "\n",
        "            if current:\n",
        "                before = current.prev\n",
        "                after = current.next\n",
        "\n",
        "                before.next = after\n",
        "                after.prev = before\n",
        "\n",
        "                current.next = None\n",
        "                current.prev = None\n",
        "            else:\n",
        "                return None\n",
        "\n",
        "        self.length -= 1\n",
        "        return current"
      ],
      "metadata": {
        "id": "Y40M699HMUbm"
      },
      "execution_count": 6,
      "outputs": []
    },
    {
      "cell_type": "markdown",
      "source": [
        "# Stacks"
      ],
      "metadata": {
        "id": "pzdwPYv0PN9S"
      }
    },
    {
      "cell_type": "code",
      "source": [
        "class Node:\n",
        "    def __init__(self,value):\n",
        "        self.value = value\n",
        "        self.next = None\n",
        "\n",
        "class Stack:\n",
        "    def __init__(self,value):\n",
        "        new_node = Node(value)\n",
        "        self.top = new_node\n",
        "        self.height = 1\n",
        "\n",
        "    def print_stack(self,msg = \"Stack created : \"):\n",
        "        print(\"--------------\")\n",
        "        print(msg)\n",
        "        temp = self.top\n",
        "        while temp is not None:\n",
        "            print(temp.value)\n",
        "            temp = temp.next\n",
        "        print('\\n')\n",
        "        print(f\"Stack height / no. of nodes present = {self.height}\")\n",
        "\n",
        "    def push(self,value):\n",
        "        new_node = Node(value)\n",
        "        if self.top is not None:\n",
        "            new_node.next = self.top\n",
        "        self.top = new_node\n",
        "        self.height += 1\n",
        "\n",
        "    def pop(self):\n",
        "        if self.height == 0:\n",
        "            return None\n",
        "        temp = self.top\n",
        "        self.top = temp.next\n",
        "        temp.next = None\n",
        "        self.height -= 1\n",
        "        return temp"
      ],
      "metadata": {
        "id": "fEhACnZ6wzm4"
      },
      "execution_count": null,
      "outputs": []
    },
    {
      "cell_type": "markdown",
      "source": [
        "# Queues"
      ],
      "metadata": {
        "id": "Ccoe1SGOPPPW"
      }
    },
    {
      "cell_type": "code",
      "source": [
        "class Node:\n",
        "    def __init__(self,value):\n",
        "        self.value = value\n",
        "        self.next = None\n",
        "\n",
        "class Queue:\n",
        "    def __init__(self,value):\n",
        "        new_node = Node(value)\n",
        "        self.first = new_node\n",
        "        self.last = new_node\n",
        "        self.length = 1\n",
        "\n",
        "    def make_empty(self):\n",
        "        self.first = None\n",
        "        self.last = None\n",
        "        self.length = 0\n",
        "\n",
        "    def print_queue(self,msg = \"Queue created : \"):\n",
        "        print(\"--------------\")\n",
        "        print(msg)\n",
        "        temp = self.first\n",
        "        while temp is not None:\n",
        "            print(temp.value)\n",
        "            temp = temp.next\n",
        "        print('\\n')\n",
        "        print(f\"Queue Length = {self.length}\")\n",
        "\n",
        "        if self.first:\n",
        "            print(f\"Queue First = {self.first.value}\")\n",
        "        else:\n",
        "            print(\"Queue First = None\")\n",
        "\n",
        "        if self.last:\n",
        "            print(f\"Queue Last = {self.last.value}\")\n",
        "        else:\n",
        "            print(\"Queue Last = None\")\n",
        "\n",
        "    def enqueue(self,value):\n",
        "        new_node = Node(value)\n",
        "        if self.length == 0:\n",
        "            self.first = new_node\n",
        "            self.last = new_node\n",
        "        else:\n",
        "            temp = self.last\n",
        "            temp.next = new_node\n",
        "            self.last = new_node\n",
        "        self.length += 1\n",
        "        return True\n",
        "\n",
        "    def dequeue(self):\n",
        "        if self.first is None:\n",
        "            return None\n",
        "        temp = self.first\n",
        "        if self.length == 1:\n",
        "            self.first = None\n",
        "            self.last = None\n",
        "        else:\n",
        "            self.first = temp.next\n",
        "        temp.next = None\n",
        "        self.length -= 1\n",
        "        return temp"
      ],
      "metadata": {
        "id": "IqQaIM0rPP-j"
      },
      "execution_count": null,
      "outputs": []
    }
  ]
}