{
  "nbformat": 4,
  "nbformat_minor": 0,
  "metadata": {
    "colab": {
      "provenance": [],
      "authorship_tag": "ABX9TyMoUNesZiVgTrNTo6BMMcST",
      "include_colab_link": true
    },
    "kernelspec": {
      "name": "python3",
      "display_name": "Python 3"
    },
    "language_info": {
      "name": "python"
    }
  },
  "cells": [
    {
      "cell_type": "markdown",
      "metadata": {
        "id": "view-in-github",
        "colab_type": "text"
      },
      "source": [
        "<a href=\"https://colab.research.google.com/github/niladribanerjee80/DSA-Class/blob/main/Class_1.ipynb\" target=\"_parent\"><img src=\"https://colab.research.google.com/assets/colab-badge.svg\" alt=\"Open In Colab\"/></a>"
      ]
    },
    {
      "cell_type": "markdown",
      "source": [
        "# 1. Hybrid language : pyc"
      ],
      "metadata": {
        "id": "dM7E0x2GsKVf"
      }
    },
    {
      "cell_type": "code",
      "execution_count": null,
      "metadata": {
        "id": "hF5bWtWuksMk"
      },
      "outputs": [],
      "source": [
        "# 1. Demo to see the byte code\n",
        "\n",
        "# Create a hello.py file in a directory\n",
        "# when you execute the <python file> -> it runs and gives the o/p. But compilation step is hidden from us.\n",
        "# - Interactive shell : python\n",
        "\n",
        "# >>> import py_compile\n",
        "# >>> py_compile.compile(\"hello.py\")"
      ]
    },
    {
      "cell_type": "markdown",
      "source": [
        "# 2. Variable as objects and not memory locations"
      ],
      "metadata": {
        "id": "DaQeW8HjsSyp"
      }
    },
    {
      "cell_type": "code",
      "source": [
        "x = 10\n",
        "y = x\n",
        "\n",
        "print(id(x))\n",
        "print(id(y))"
      ],
      "metadata": {
        "colab": {
          "base_uri": "https://localhost:8080/"
        },
        "id": "UzlQkwTCscyZ",
        "outputId": "3ae7dea8-86be-493c-c0c2-6604ddaff1bb"
      },
      "execution_count": null,
      "outputs": [
        {
          "output_type": "stream",
          "name": "stdout",
          "text": [
            "136788277084688\n",
            "136788277084688\n"
          ]
        }
      ]
    },
    {
      "cell_type": "code",
      "source": [
        "x = 10\n",
        "y = 10\n",
        "\n",
        "print(id(x))\n",
        "print(id(y))"
      ],
      "metadata": {
        "colab": {
          "base_uri": "https://localhost:8080/"
        },
        "id": "lX_-2FotsgIi",
        "outputId": "bedd2a3a-e6aa-42c0-abc0-2c9430b93217"
      },
      "execution_count": null,
      "outputs": [
        {
          "output_type": "stream",
          "name": "stdout",
          "text": [
            "136788277084688\n",
            "136788277084688\n"
          ]
        }
      ]
    },
    {
      "cell_type": "code",
      "source": [
        "x = \"Hello\"\n",
        "y = \"Hello\"\n",
        "\n",
        "print(id(x))\n",
        "print(id(y))"
      ],
      "metadata": {
        "colab": {
          "base_uri": "https://localhost:8080/"
        },
        "id": "mvZ3_ufisn0l",
        "outputId": "ddb729be-eeb2-444c-a7c8-a67b86eb6881"
      },
      "execution_count": null,
      "outputs": [
        {
          "output_type": "stream",
          "name": "stdout",
          "text": [
            "136787361340912\n",
            "136787361340912\n"
          ]
        }
      ]
    },
    {
      "cell_type": "code",
      "source": [
        "x = \"Hello\"\n",
        "y = \"hello\"\n",
        "\n",
        "print(id(x))\n",
        "print(id(y))"
      ],
      "metadata": {
        "colab": {
          "base_uri": "https://localhost:8080/"
        },
        "id": "Hzz-x73KtWL7",
        "outputId": "9c415496-c1ed-480f-f360-0363c4c7bf83"
      },
      "execution_count": null,
      "outputs": [
        {
          "output_type": "stream",
          "name": "stdout",
          "text": [
            "136787361340912\n",
            "136787850564848\n"
          ]
        }
      ]
    },
    {
      "cell_type": "markdown",
      "source": [
        "# 3. Operators impact on different object types"
      ],
      "metadata": {
        "id": "3b8mC821WQ9s"
      }
    },
    {
      "cell_type": "code",
      "source": [
        "# + on integers, strings\n",
        "print(2+3)\n",
        "print(\"Hello \"+\"All\")"
      ],
      "metadata": {
        "id": "mgLIOURxWVrO",
        "outputId": "759ef519-d883-43d6-e5e7-e66b0d492dae",
        "colab": {
          "base_uri": "https://localhost:8080/"
        }
      },
      "execution_count": 1,
      "outputs": [
        {
          "output_type": "stream",
          "name": "stdout",
          "text": [
            "5\n",
            "Hello All\n"
          ]
        }
      ]
    },
    {
      "cell_type": "code",
      "source": [
        "# + operator on lists\n",
        "l1 = [1,2,3]\n",
        "l2 = [4,5,6]\n",
        "\n",
        "l3 = l1 + l2\n",
        "print(l3)\n",
        "print(type(l3))"
      ],
      "metadata": {
        "id": "LJCfYexyWpJ0",
        "outputId": "dabdfe4d-e49c-42c0-c742-9611541340e8",
        "colab": {
          "base_uri": "https://localhost:8080/"
        }
      },
      "execution_count": 3,
      "outputs": [
        {
          "output_type": "stream",
          "name": "stdout",
          "text": [
            "[1, 2, 3, 4, 5, 6]\n",
            "<class 'list'>\n"
          ]
        }
      ]
    },
    {
      "cell_type": "code",
      "source": [
        "print(2*3)\n",
        "print(\"Hi\"*3)"
      ],
      "metadata": {
        "id": "fT1Dzzz6hUHa",
        "outputId": "dc788d2f-7efb-4888-cef6-aa5ce9dce322",
        "colab": {
          "base_uri": "https://localhost:8080/"
        }
      },
      "execution_count": 19,
      "outputs": [
        {
          "output_type": "stream",
          "name": "stdout",
          "text": [
            "6\n",
            "HiHiHi\n"
          ]
        }
      ]
    },
    {
      "cell_type": "markdown",
      "source": [
        "# 4. Implicit and Explicit conversion"
      ],
      "metadata": {
        "id": "W3qXQf7NYGia"
      }
    },
    {
      "cell_type": "code",
      "source": [
        "5 + 10.58"
      ],
      "metadata": {
        "id": "0nsDyNADYJx4",
        "outputId": "bd5bdc30-92d2-49a3-ec25-4b57844d26da",
        "colab": {
          "base_uri": "https://localhost:8080/"
        }
      },
      "execution_count": 6,
      "outputs": [
        {
          "output_type": "execute_result",
          "data": {
            "text/plain": [
              "15.58"
            ]
          },
          "metadata": {},
          "execution_count": 6
        }
      ]
    },
    {
      "cell_type": "code",
      "source": [
        "10 / 2"
      ],
      "metadata": {
        "id": "6bjsj-CnYVUd",
        "outputId": "1f7aa7fe-18af-4f74-9efb-491e932aa7dd",
        "colab": {
          "base_uri": "https://localhost:8080/"
        }
      },
      "execution_count": 7,
      "outputs": [
        {
          "output_type": "execute_result",
          "data": {
            "text/plain": [
              "5.0"
            ]
          },
          "metadata": {},
          "execution_count": 7
        }
      ]
    },
    {
      "cell_type": "code",
      "source": [
        "10.5 % 2"
      ],
      "metadata": {
        "id": "yGtcacNbYVYU",
        "outputId": "d9080eb6-891e-4517-bdc6-88a26fe275df",
        "colab": {
          "base_uri": "https://localhost:8080/"
        }
      },
      "execution_count": 9,
      "outputs": [
        {
          "output_type": "execute_result",
          "data": {
            "text/plain": [
              "0.5"
            ]
          },
          "metadata": {},
          "execution_count": 9
        }
      ]
    },
    {
      "cell_type": "markdown",
      "source": [
        "# 5. Rounding of numbers"
      ],
      "metadata": {
        "id": "SrggxS_FbfGE"
      }
    },
    {
      "cell_type": "code",
      "source": [
        "round(2.3)"
      ],
      "metadata": {
        "id": "TIYrodhHYVcu",
        "outputId": "418b56d7-8b3f-45c4-d075-be27508f5c7a",
        "colab": {
          "base_uri": "https://localhost:8080/"
        }
      },
      "execution_count": 10,
      "outputs": [
        {
          "output_type": "execute_result",
          "data": {
            "text/plain": [
              "2"
            ]
          },
          "metadata": {},
          "execution_count": 10
        }
      ]
    },
    {
      "cell_type": "code",
      "source": [
        "round(3.3)"
      ],
      "metadata": {
        "id": "uuM5HZMPbjE6",
        "outputId": "cbab9912-dd01-4e99-fbdb-b563cfa51b6f",
        "colab": {
          "base_uri": "https://localhost:8080/"
        }
      },
      "execution_count": 11,
      "outputs": [
        {
          "output_type": "execute_result",
          "data": {
            "text/plain": [
              "3"
            ]
          },
          "metadata": {},
          "execution_count": 11
        }
      ]
    },
    {
      "cell_type": "code",
      "source": [
        "# what happens here\n",
        "round(3.5)"
      ],
      "metadata": {
        "id": "rB91476ibjI8",
        "outputId": "67cbd911-7a28-4f12-b14c-f10c18c490de",
        "colab": {
          "base_uri": "https://localhost:8080/"
        }
      },
      "execution_count": 13,
      "outputs": [
        {
          "output_type": "execute_result",
          "data": {
            "text/plain": [
              "4"
            ]
          },
          "metadata": {},
          "execution_count": 13
        }
      ]
    },
    {
      "cell_type": "code",
      "source": [
        "# then why it is not 3\n",
        "round(2.5)"
      ],
      "metadata": {
        "id": "AmSQ4PeRbqzT",
        "outputId": "99513237-393b-4f72-e1d1-1fa93f4233e8",
        "colab": {
          "base_uri": "https://localhost:8080/"
        }
      },
      "execution_count": 17,
      "outputs": [
        {
          "output_type": "execute_result",
          "data": {
            "text/plain": [
              "2"
            ]
          },
          "metadata": {},
          "execution_count": 17
        }
      ]
    },
    {
      "cell_type": "code",
      "source": [],
      "metadata": {
        "id": "Ixm-xmSLtY7b"
      },
      "execution_count": null,
      "outputs": []
    }
  ]
}