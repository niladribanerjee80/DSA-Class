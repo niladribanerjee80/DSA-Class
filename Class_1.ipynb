{
  "nbformat": 4,
  "nbformat_minor": 0,
  "metadata": {
    "colab": {
      "provenance": [],
      "authorship_tag": "ABX9TyPyKNOYnqqPYsLBiegr2fXp",
      "include_colab_link": true
    },
    "kernelspec": {
      "name": "python3",
      "display_name": "Python 3"
    },
    "language_info": {
      "name": "python"
    }
  },
  "cells": [
    {
      "cell_type": "markdown",
      "metadata": {
        "id": "view-in-github",
        "colab_type": "text"
      },
      "source": [
        "<a href=\"https://colab.research.google.com/github/niladribanerjee80/DSA-Class/blob/main/Class_1.ipynb\" target=\"_parent\"><img src=\"https://colab.research.google.com/assets/colab-badge.svg\" alt=\"Open In Colab\"/></a>"
      ]
    },
    {
      "cell_type": "markdown",
      "source": [
        "# 1. Hybrid language : pyc"
      ],
      "metadata": {
        "id": "dM7E0x2GsKVf"
      }
    },
    {
      "cell_type": "code",
      "execution_count": null,
      "metadata": {
        "id": "hF5bWtWuksMk"
      },
      "outputs": [],
      "source": [
        "# 1. Demo to see the byte code\n",
        "\n",
        "# Create a hello.py file in a directory\n",
        "# when you execute the <python file> -> it runs and gives the o/p. But compilation step is hidden from us.\n",
        "# - Interactive shell : python\n",
        "\n",
        "# >>> import py_compile\n",
        "# >>> py_compile.compile(\"hello.py\")"
      ]
    },
    {
      "cell_type": "markdown",
      "source": [
        "# 2. Variable as objects and not memory locations"
      ],
      "metadata": {
        "id": "DaQeW8HjsSyp"
      }
    },
    {
      "cell_type": "code",
      "source": [
        "x = 10\n",
        "y = x\n",
        "\n",
        "print(id(x))\n",
        "print(id(y))"
      ],
      "metadata": {
        "colab": {
          "base_uri": "https://localhost:8080/"
        },
        "id": "UzlQkwTCscyZ",
        "outputId": "3ae7dea8-86be-493c-c0c2-6604ddaff1bb"
      },
      "execution_count": null,
      "outputs": [
        {
          "output_type": "stream",
          "name": "stdout",
          "text": [
            "136788277084688\n",
            "136788277084688\n"
          ]
        }
      ]
    },
    {
      "cell_type": "code",
      "source": [
        "x = 10\n",
        "y = 10\n",
        "\n",
        "print(id(x))\n",
        "print(id(y))"
      ],
      "metadata": {
        "colab": {
          "base_uri": "https://localhost:8080/"
        },
        "id": "lX_-2FotsgIi",
        "outputId": "bedd2a3a-e6aa-42c0-abc0-2c9430b93217"
      },
      "execution_count": null,
      "outputs": [
        {
          "output_type": "stream",
          "name": "stdout",
          "text": [
            "136788277084688\n",
            "136788277084688\n"
          ]
        }
      ]
    },
    {
      "cell_type": "code",
      "source": [
        "x = \"Hello\"\n",
        "y = \"Hello\"\n",
        "\n",
        "print(id(x))\n",
        "print(id(y))"
      ],
      "metadata": {
        "colab": {
          "base_uri": "https://localhost:8080/"
        },
        "id": "mvZ3_ufisn0l",
        "outputId": "ddb729be-eeb2-444c-a7c8-a67b86eb6881"
      },
      "execution_count": null,
      "outputs": [
        {
          "output_type": "stream",
          "name": "stdout",
          "text": [
            "136787361340912\n",
            "136787361340912\n"
          ]
        }
      ]
    },
    {
      "cell_type": "code",
      "source": [
        "x = \"Hello\"\n",
        "y = \"hello\"\n",
        "\n",
        "print(id(x))\n",
        "print(id(y))"
      ],
      "metadata": {
        "colab": {
          "base_uri": "https://localhost:8080/"
        },
        "id": "Hzz-x73KtWL7",
        "outputId": "9c415496-c1ed-480f-f360-0363c4c7bf83"
      },
      "execution_count": null,
      "outputs": [
        {
          "output_type": "stream",
          "name": "stdout",
          "text": [
            "136787361340912\n",
            "136787850564848\n"
          ]
        }
      ]
    },
    {
      "cell_type": "markdown",
      "source": [
        "# 3. Operators impact on different object types"
      ],
      "metadata": {
        "id": "3b8mC821WQ9s"
      }
    },
    {
      "cell_type": "code",
      "source": [
        "# + on integers, strings\n",
        "print(2+3)\n",
        "print(\"Hello \"+\"All\")"
      ],
      "metadata": {
        "id": "mgLIOURxWVrO",
        "outputId": "759ef519-d883-43d6-e5e7-e66b0d492dae",
        "colab": {
          "base_uri": "https://localhost:8080/"
        }
      },
      "execution_count": null,
      "outputs": [
        {
          "output_type": "stream",
          "name": "stdout",
          "text": [
            "5\n",
            "Hello All\n"
          ]
        }
      ]
    },
    {
      "cell_type": "code",
      "source": [
        "# + operator on lists\n",
        "l1 = [1,2,3]\n",
        "l2 = [4,5,6]\n",
        "\n",
        "l3 = l1 + l2\n",
        "print(l3)\n",
        "print(type(l3))"
      ],
      "metadata": {
        "id": "LJCfYexyWpJ0",
        "outputId": "dabdfe4d-e49c-42c0-c742-9611541340e8",
        "colab": {
          "base_uri": "https://localhost:8080/"
        }
      },
      "execution_count": null,
      "outputs": [
        {
          "output_type": "stream",
          "name": "stdout",
          "text": [
            "[1, 2, 3, 4, 5, 6]\n",
            "<class 'list'>\n"
          ]
        }
      ]
    },
    {
      "cell_type": "code",
      "source": [
        "print(2*3)\n",
        "print(\"Hi\"*3)"
      ],
      "metadata": {
        "id": "fT1Dzzz6hUHa",
        "outputId": "dc788d2f-7efb-4888-cef6-aa5ce9dce322",
        "colab": {
          "base_uri": "https://localhost:8080/"
        }
      },
      "execution_count": null,
      "outputs": [
        {
          "output_type": "stream",
          "name": "stdout",
          "text": [
            "6\n",
            "HiHiHi\n"
          ]
        }
      ]
    },
    {
      "cell_type": "markdown",
      "source": [
        "# 4. Implicit and Explicit conversion"
      ],
      "metadata": {
        "id": "W3qXQf7NYGia"
      }
    },
    {
      "cell_type": "code",
      "source": [
        "5 + 10.58"
      ],
      "metadata": {
        "id": "0nsDyNADYJx4",
        "outputId": "bd5bdc30-92d2-49a3-ec25-4b57844d26da",
        "colab": {
          "base_uri": "https://localhost:8080/"
        }
      },
      "execution_count": null,
      "outputs": [
        {
          "output_type": "execute_result",
          "data": {
            "text/plain": [
              "15.58"
            ]
          },
          "metadata": {},
          "execution_count": 6
        }
      ]
    },
    {
      "cell_type": "code",
      "source": [
        "10 / 2"
      ],
      "metadata": {
        "id": "6bjsj-CnYVUd",
        "outputId": "1f7aa7fe-18af-4f74-9efb-491e932aa7dd",
        "colab": {
          "base_uri": "https://localhost:8080/"
        }
      },
      "execution_count": null,
      "outputs": [
        {
          "output_type": "execute_result",
          "data": {
            "text/plain": [
              "5.0"
            ]
          },
          "metadata": {},
          "execution_count": 7
        }
      ]
    },
    {
      "cell_type": "code",
      "source": [
        "10.5 % 2"
      ],
      "metadata": {
        "id": "yGtcacNbYVYU",
        "outputId": "d9080eb6-891e-4517-bdc6-88a26fe275df",
        "colab": {
          "base_uri": "https://localhost:8080/"
        }
      },
      "execution_count": null,
      "outputs": [
        {
          "output_type": "execute_result",
          "data": {
            "text/plain": [
              "0.5"
            ]
          },
          "metadata": {},
          "execution_count": 9
        }
      ]
    },
    {
      "cell_type": "markdown",
      "source": [
        "# 5. Rounding of numbers"
      ],
      "metadata": {
        "id": "SrggxS_FbfGE"
      }
    },
    {
      "cell_type": "code",
      "source": [
        "round(2.3)"
      ],
      "metadata": {
        "id": "TIYrodhHYVcu",
        "outputId": "418b56d7-8b3f-45c4-d075-be27508f5c7a",
        "colab": {
          "base_uri": "https://localhost:8080/"
        }
      },
      "execution_count": null,
      "outputs": [
        {
          "output_type": "execute_result",
          "data": {
            "text/plain": [
              "2"
            ]
          },
          "metadata": {},
          "execution_count": 10
        }
      ]
    },
    {
      "cell_type": "code",
      "source": [
        "round(3.3)"
      ],
      "metadata": {
        "id": "uuM5HZMPbjE6",
        "outputId": "cbab9912-dd01-4e99-fbdb-b563cfa51b6f",
        "colab": {
          "base_uri": "https://localhost:8080/"
        }
      },
      "execution_count": null,
      "outputs": [
        {
          "output_type": "execute_result",
          "data": {
            "text/plain": [
              "3"
            ]
          },
          "metadata": {},
          "execution_count": 11
        }
      ]
    },
    {
      "cell_type": "code",
      "source": [
        "# what happens here\n",
        "round(3.5)"
      ],
      "metadata": {
        "id": "rB91476ibjI8",
        "outputId": "67cbd911-7a28-4f12-b14c-f10c18c490de",
        "colab": {
          "base_uri": "https://localhost:8080/"
        }
      },
      "execution_count": null,
      "outputs": [
        {
          "output_type": "execute_result",
          "data": {
            "text/plain": [
              "4"
            ]
          },
          "metadata": {},
          "execution_count": 13
        }
      ]
    },
    {
      "cell_type": "code",
      "source": [
        "# then why it is not 3\n",
        "round(2.5)"
      ],
      "metadata": {
        "id": "AmSQ4PeRbqzT",
        "outputId": "99513237-393b-4f72-e1d1-1fa93f4233e8",
        "colab": {
          "base_uri": "https://localhost:8080/"
        }
      },
      "execution_count": null,
      "outputs": [
        {
          "output_type": "execute_result",
          "data": {
            "text/plain": [
              "2"
            ]
          },
          "metadata": {},
          "execution_count": 17
        }
      ]
    },
    {
      "cell_type": "markdown",
      "source": [
        "# 6. Class"
      ],
      "metadata": {
        "id": "J7rtAPhZ8m1-"
      }
    },
    {
      "cell_type": "code",
      "source": [
        "# Class is a blueprint of creating objects\n",
        "    # it bundles - data + functionality together\n",
        "    # makes codes scalable, modular and mangeable"
      ],
      "metadata": {
        "id": "Ixm-xmSLtY7b"
      },
      "execution_count": null,
      "outputs": []
    },
    {
      "cell_type": "code",
      "source": [
        "class Account:\n",
        "\n",
        "    def __init__(self,account_number,balance=0):\n",
        "        self.account = account_number\n",
        "        self.balance = balance\n",
        "\n",
        "    def deposit(self,amount):\n",
        "        # self.var = 1\n",
        "        self.balance += amount\n",
        "        print(f\"Account : {self.account}, Deposit Amt : {amount}, Balance : {self.balance}\")"
      ],
      "metadata": {
        "id": "yApGoAe69dzm"
      },
      "execution_count": null,
      "outputs": []
    },
    {
      "cell_type": "code",
      "source": [
        "Ravi_Account = Account(\"123\")\n",
        "# Ravi_Account.\n",
        "# Ravi_Account.deposit(100)"
      ],
      "metadata": {
        "id": "MWIv-qExB4gz"
      },
      "execution_count": null,
      "outputs": []
    },
    {
      "cell_type": "code",
      "source": [
        "Ramesh_Account = Account(\"321\")\n",
        "Ramesh_Account.deposit(500)"
      ],
      "metadata": {
        "id": "LvqIfbGyCduL",
        "outputId": "3542a03b-e9bb-42ff-c527-2b3b803d8c15",
        "colab": {
          "base_uri": "https://localhost:8080/"
        }
      },
      "execution_count": null,
      "outputs": [
        {
          "output_type": "stream",
          "name": "stdout",
          "text": [
            "Account : 321, Deposit Amt : 500, Balance : 500\n"
          ]
        }
      ]
    },
    {
      "cell_type": "code",
      "source": [
        "class Circle():\n",
        "    # class object attributes\n",
        "    pi = 3.14\n",
        "\n",
        "    def __init__(self,radius = 1):\n",
        "        self.radius = radius\n",
        "\n",
        "        # we could have used self.pi as well, but if it is a class attr, it is better to use it with the class name\n",
        "        self.area = Circle.pi * (self.radius ** 2)\n",
        "\n",
        "    def get_circumference (self):\n",
        "        # we could have used self.pi as well\n",
        "        return 2 * Circle.pi * self.radius"
      ],
      "metadata": {
        "id": "naSKzkoHdA5x"
      },
      "execution_count": null,
      "outputs": []
    },
    {
      "cell_type": "code",
      "source": [
        "# Create Circle with default radius\n",
        "my_circle = Circle()\n",
        "my_circle.pi"
      ],
      "metadata": {
        "id": "vvvT-jSiNZq-",
        "outputId": "81a32263-c558-4255-ced0-febfa49cfd22",
        "colab": {
          "base_uri": "https://localhost:8080/"
        }
      },
      "execution_count": null,
      "outputs": [
        {
          "output_type": "execute_result",
          "data": {
            "text/plain": [
              "3.14"
            ]
          },
          "metadata": {},
          "execution_count": 2
        }
      ]
    },
    {
      "cell_type": "code",
      "source": [
        "my_circle.area"
      ],
      "metadata": {
        "id": "G2pW9S0oNdH2",
        "outputId": "8bfb5f3a-44a8-45e6-b1ef-7fd55696ce92",
        "colab": {
          "base_uri": "https://localhost:8080/"
        }
      },
      "execution_count": null,
      "outputs": [
        {
          "output_type": "execute_result",
          "data": {
            "text/plain": [
              "3.14"
            ]
          },
          "metadata": {},
          "execution_count": 3
        }
      ]
    },
    {
      "cell_type": "code",
      "source": [
        "my_circle.get_circumference()"
      ],
      "metadata": {
        "id": "VNWZ0ubcNhz0",
        "outputId": "d2d729fb-8a41-441e-be6b-a4e1f4172283",
        "colab": {
          "base_uri": "https://localhost:8080/"
        }
      },
      "execution_count": null,
      "outputs": [
        {
          "output_type": "execute_result",
          "data": {
            "text/plain": [
              "6.28"
            ]
          },
          "metadata": {},
          "execution_count": 4
        }
      ]
    },
    {
      "cell_type": "markdown",
      "source": [
        "## **Inheritance**\n",
        "\n",
        "* Base Class (methods + attributes) --> Derived Class\n",
        "* Why ? Re-use them without having to re-implement"
      ],
      "metadata": {
        "id": "7fDzog5uoWBl"
      }
    },
    {
      "cell_type": "code",
      "source": [
        "# Base class\n",
        "\n",
        "class Animal():\n",
        "\n",
        "    def __init__(self):\n",
        "        print(\"ANIMAL CREATED\")\n",
        "\n",
        "    def who_am_i(self):\n",
        "        print(\"I am an animal\")\n",
        "\n",
        "    def eat(self):\n",
        "        print(\"I am eating\")"
      ],
      "metadata": {
        "id": "mr6xUX2LNo8D"
      },
      "execution_count": null,
      "outputs": []
    },
    {
      "cell_type": "code",
      "source": [
        "myanimal = Animal()"
      ],
      "metadata": {
        "id": "2AQzawDVOGWV",
        "outputId": "894aafb9-5f17-4d95-c493-286f40e36c9d",
        "colab": {
          "base_uri": "https://localhost:8080/"
        }
      },
      "execution_count": null,
      "outputs": [
        {
          "output_type": "stream",
          "name": "stdout",
          "text": [
            "ANIMAL CREATED\n"
          ]
        }
      ]
    },
    {
      "cell_type": "code",
      "source": [
        "# method overriding + inheritence\n",
        "# what if we want to override a method in derived class = Human\n",
        "\n",
        "class Human(Animal):\n",
        "\n",
        "    def __init__(self):\n",
        "        Animal.__init__(self)\n",
        "        print(\"Human created\")\n",
        "\n",
        "    def who_am_i(self): # overriden method\n",
        "        print(\"I am a person\")"
      ],
      "metadata": {
        "id": "3TaXcDEgOH2f"
      },
      "execution_count": null,
      "outputs": []
    },
    {
      "cell_type": "code",
      "source": [
        "human = Human()"
      ],
      "metadata": {
        "id": "h6IZHRH1OLuw",
        "outputId": "62f89836-2349-4cba-ee0e-8f234c7697b5",
        "colab": {
          "base_uri": "https://localhost:8080/"
        }
      },
      "execution_count": null,
      "outputs": [
        {
          "output_type": "stream",
          "name": "stdout",
          "text": [
            "ANIMAL CREATED\n",
            "Human created\n"
          ]
        }
      ]
    },
    {
      "cell_type": "code",
      "source": [
        "human.eat()"
      ],
      "metadata": {
        "id": "cU1a7dvEON5m",
        "outputId": "770c65df-6bf5-479e-aa6a-345333c944e4",
        "colab": {
          "base_uri": "https://localhost:8080/"
        }
      },
      "execution_count": null,
      "outputs": [
        {
          "output_type": "stream",
          "name": "stdout",
          "text": [
            "I am eating\n"
          ]
        }
      ]
    },
    {
      "cell_type": "code",
      "source": [
        "human.who_am_i()"
      ],
      "metadata": {
        "id": "CkyIu4VbOP6d",
        "outputId": "219ddca7-985d-43aa-f68d-f169c8cf728f",
        "colab": {
          "base_uri": "https://localhost:8080/"
        }
      },
      "execution_count": null,
      "outputs": [
        {
          "output_type": "stream",
          "name": "stdout",
          "text": [
            "I am a person\n"
          ]
        }
      ]
    },
    {
      "cell_type": "markdown",
      "source": [
        "# Polymorphism"
      ],
      "metadata": {
        "id": "HjMS_zosP4zD"
      }
    },
    {
      "cell_type": "code",
      "source": [
        "class Animal():\n",
        "\n",
        "    def __init__(self,name):\n",
        "        self.name = name\n",
        "\n",
        "    def speak(self):\n",
        "        raise NotImplementedError(\"subclass must implement this\")\n",
        "\n",
        "class Dog(Animal):\n",
        "\n",
        "    # note : if I inherit the Animal class\n",
        "    # the constructor function is also inherited unless we want to override it in this class\n",
        "    # The animal class has __init__ which assigns self.name = name\n",
        "\n",
        "    # we have implemented the speak() method as expected\n",
        "    def speak(self):\n",
        "        return self.name + \" says woof!\"\n",
        "\n",
        "class Cat(Animal):\n",
        "\n",
        "    # note : if I inherit the Animal class\n",
        "    # the constructor function is also inherited unless we want to override it in this class\n",
        "    # The animal class has __init__ which assigns self.name = name\n",
        "\n",
        "    # we have implemented the speak() method as expected\n",
        "    def speak(self):\n",
        "        return self.name + \" says meow!\""
      ],
      "metadata": {
        "id": "ZNxxSUeHOZrW"
      },
      "execution_count": null,
      "outputs": []
    },
    {
      "cell_type": "code",
      "source": [
        "niko = Dog(\"niko\")\n",
        "felix = Cat(\"felix\")\n",
        "\n",
        "print(niko.speak())\n",
        "print(felix.speak())"
      ],
      "metadata": {
        "colab": {
          "base_uri": "https://localhost:8080/"
        },
        "id": "jI9-5o4T8Yc2",
        "outputId": "5dcf108a-dc83-41b4-fc13-357c42744c17"
      },
      "execution_count": null,
      "outputs": [
        {
          "output_type": "stream",
          "name": "stdout",
          "text": [
            "niko says woof!\n",
            "felix says meow!\n"
          ]
        }
      ]
    },
    {
      "cell_type": "markdown",
      "source": [
        "# Special Methods\n",
        "\n",
        "---\n",
        "\n",
        "print --> _ _ str _ _<br>\n",
        "len --> _ _ len _ _"
      ],
      "metadata": {
        "id": "wawEqqbbZGlb"
      }
    },
    {
      "cell_type": "code",
      "source": [
        "# let say I create a list\n",
        "mylist = [1,2,3]\n",
        "print(len(mylist))"
      ],
      "metadata": {
        "id": "obScYZjFZIe2",
        "outputId": "c906112b-c144-4340-a145-e614c3fa9997",
        "colab": {
          "base_uri": "https://localhost:8080/"
        }
      },
      "execution_count": null,
      "outputs": [
        {
          "output_type": "stream",
          "name": "stdout",
          "text": [
            "3\n"
          ]
        }
      ]
    },
    {
      "cell_type": "code",
      "source": [
        "# but what happens if I create a class\n",
        "class Book():\n",
        "    def __init__(self,name,author,pages):\n",
        "        self.name = name\n",
        "        self.author = author\n",
        "        self.pages = pages"
      ],
      "metadata": {
        "id": "MfNcHeW6ZIiw"
      },
      "execution_count": null,
      "outputs": []
    },
    {
      "cell_type": "code",
      "source": [
        "my_book = Book('Python rocks','Niladri',200)\n",
        "print(len(my_book)) # error is expected"
      ],
      "metadata": {
        "id": "uyMS9XrIZImj",
        "outputId": "2aed2201-15f0-4513-ec90-49d53b8b259d",
        "colab": {
          "base_uri": "https://localhost:8080/",
          "height": 162
        }
      },
      "execution_count": null,
      "outputs": [
        {
          "output_type": "error",
          "ename": "TypeError",
          "evalue": "object of type 'Book' has no len()",
          "traceback": [
            "\u001b[0;31m---------------------------------------------------------------------------\u001b[0m",
            "\u001b[0;31mTypeError\u001b[0m                                 Traceback (most recent call last)",
            "\u001b[0;32m<ipython-input-6-9522b36accfa>\u001b[0m in \u001b[0;36m<cell line: 2>\u001b[0;34m()\u001b[0m\n\u001b[1;32m      1\u001b[0m \u001b[0mmy_book\u001b[0m \u001b[0;34m=\u001b[0m \u001b[0mBook\u001b[0m\u001b[0;34m(\u001b[0m\u001b[0;34m'Python rocks'\u001b[0m\u001b[0;34m,\u001b[0m\u001b[0;34m'Niladri'\u001b[0m\u001b[0;34m,\u001b[0m\u001b[0;36m200\u001b[0m\u001b[0;34m)\u001b[0m\u001b[0;34m\u001b[0m\u001b[0;34m\u001b[0m\u001b[0m\n\u001b[0;32m----> 2\u001b[0;31m \u001b[0mprint\u001b[0m\u001b[0;34m(\u001b[0m\u001b[0mlen\u001b[0m\u001b[0;34m(\u001b[0m\u001b[0mmy_book\u001b[0m\u001b[0;34m)\u001b[0m\u001b[0;34m)\u001b[0m \u001b[0;31m# error is expected\u001b[0m\u001b[0;34m\u001b[0m\u001b[0;34m\u001b[0m\u001b[0m\n\u001b[0m",
            "\u001b[0;31mTypeError\u001b[0m: object of type 'Book' has no len()"
          ]
        }
      ]
    },
    {
      "cell_type": "code",
      "source": [
        "print(my_book) # prints the memory location"
      ],
      "metadata": {
        "id": "e4jRhXwUZIqc",
        "outputId": "c122c1dc-8b72-4c39-a61e-c9b67fad26db",
        "colab": {
          "base_uri": "https://localhost:8080/"
        }
      },
      "execution_count": null,
      "outputs": [
        {
          "output_type": "stream",
          "name": "stdout",
          "text": [
            "<__main__.Book object at 0x7a42ca2f39d0>\n"
          ]
        }
      ]
    },
    {
      "cell_type": "code",
      "source": [
        "class Book():\n",
        "    def __init__(self,name,author,pages):\n",
        "        self.name = name\n",
        "        self.author = author\n",
        "        self.pages = pages\n",
        "\n",
        "    def __str__(self): # this will work if I \"print(object)\"\n",
        "        return f\"Book name = {self.name}, written by author = {self.author}\"\n",
        "\n",
        "    def __len__(self): # this will work if I \"len(object)\"\n",
        "        return self.pages"
      ],
      "metadata": {
        "id": "JcsZJZCqZIuC"
      },
      "execution_count": null,
      "outputs": []
    },
    {
      "cell_type": "code",
      "source": [
        "my_book = Book('Python rocks','Niladri',200)\n",
        "print(len(my_book))\n",
        "print(my_book)"
      ],
      "metadata": {
        "id": "njBcHkLbZ99M",
        "outputId": "1b84ed03-03eb-4974-e431-25ebe231cabe",
        "colab": {
          "base_uri": "https://localhost:8080/"
        }
      },
      "execution_count": null,
      "outputs": [
        {
          "output_type": "stream",
          "name": "stdout",
          "text": [
            "200\n",
            "Book name = Python rocks, written by author = Niladri\n"
          ]
        }
      ]
    },
    {
      "cell_type": "code",
      "source": [],
      "metadata": {
        "id": "UdMTNPO-Z-BD"
      },
      "execution_count": null,
      "outputs": []
    },
    {
      "cell_type": "markdown",
      "source": [
        "# Classwork\n",
        "\n",
        "## Create a Car Class\n",
        "Problem: Define a Car class with attributes for the car's make and model. Include a method to start the car that prints a message indicating the car has started."
      ],
      "metadata": {
        "id": "lw4VuTCt8-N6"
      }
    },
    {
      "cell_type": "code",
      "source": [
        "class Car:\n",
        "    def __init__(self, make, model):\n",
        "        self.make = make\n",
        "        self.model = model\n",
        "\n",
        "    def start(self):\n",
        "        print(f\"The {self.make} {self.model} has started.\")\n",
        "\n",
        "# Creating an instance of Car\n",
        "car1 = Car(\"Toyota\", \"Corolla\")\n",
        "car1.start()  # Output: The Toyota Corolla has started."
      ],
      "metadata": {
        "id": "j3xpiZl78ncY"
      },
      "execution_count": null,
      "outputs": []
    },
    {
      "cell_type": "markdown",
      "source": [
        "# Classwork\n",
        "\n",
        "## Create Line class\n",
        "add methods to accept coordinates as a pair of tuples and return the slope and distance of the line.\n",
        "\n",
        "class Line:\n",
        "\n",
        "    def __init__(self,coor1,coor2):\n",
        "        write your code; coor1 = (x1,y1), coor2 = (x2,y2)\n",
        "\n",
        "    def distance(self):\n",
        "        write your code\n",
        "\n",
        "    def slope(self):\n",
        "        write your code\n"
      ],
      "metadata": {
        "id": "Iw9hGJrPAPsW"
      }
    },
    {
      "cell_type": "code",
      "source": [
        "class Line:\n",
        "\n",
        "  def __init__(self,coor1,coor2):\n",
        "    self.coor1 = coor1\n",
        "    self.coor2 = coor2\n",
        "\n",
        "  def distance(self):\n",
        "    x1,y1 = self.coor1\n",
        "    x2,y2 = self.coor2\n",
        "    return ((y2-y1)**2 + (x2-x1)**2)**(0.5)\n",
        "\n",
        "\n",
        "  def slope(self):\n",
        "    x1,y1 = self.coor1\n",
        "    x2,y2 = self.coor2\n",
        "    return (y2-y1)/(x2 -x1)"
      ],
      "metadata": {
        "id": "jGhhR4YmAYf-"
      },
      "execution_count": null,
      "outputs": []
    },
    {
      "cell_type": "code",
      "source": [
        "coordinate1 = (3,2)\n",
        "coordinate2 = (8,10)\n",
        "\n",
        "li = Line(coordinate1,coordinate2)\n",
        "\n",
        "print(f\"Distance is = {li.distance()}\")\n",
        "print(f\"Slope is = {li.slope()}\")"
      ],
      "metadata": {
        "id": "c52uE1ytAqSZ"
      },
      "execution_count": null,
      "outputs": []
    },
    {
      "cell_type": "markdown",
      "source": [
        "# Linked List"
      ],
      "metadata": {
        "id": "1_psrR3BT70T"
      }
    },
    {
      "cell_type": "code",
      "source": [
        "# Go to Topic_1_SLL.ipynb"
      ],
      "metadata": {
        "id": "PvsRBIztT9Bv"
      },
      "execution_count": null,
      "outputs": []
    },
    {
      "cell_type": "code",
      "source": [],
      "metadata": {
        "id": "9Ovx3ukVUNZX"
      },
      "execution_count": null,
      "outputs": []
    }
  ]
}