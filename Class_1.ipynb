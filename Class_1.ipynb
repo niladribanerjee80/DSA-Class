{
  "nbformat": 4,
  "nbformat_minor": 0,
  "metadata": {
    "colab": {
      "provenance": [],
      "authorship_tag": "ABX9TyN3YWfMv2dbazkbx2U9XbCw",
      "include_colab_link": true
    },
    "kernelspec": {
      "name": "python3",
      "display_name": "Python 3"
    },
    "language_info": {
      "name": "python"
    }
  },
  "cells": [
    {
      "cell_type": "markdown",
      "metadata": {
        "id": "view-in-github",
        "colab_type": "text"
      },
      "source": [
        "<a href=\"https://colab.research.google.com/github/niladribanerjee80/DSA-Class/blob/main/Class_1.ipynb\" target=\"_parent\"><img src=\"https://colab.research.google.com/assets/colab-badge.svg\" alt=\"Open In Colab\"/></a>"
      ]
    },
    {
      "cell_type": "markdown",
      "source": [
        "# 1. Hybrid language : pyc"
      ],
      "metadata": {
        "id": "dM7E0x2GsKVf"
      }
    },
    {
      "cell_type": "code",
      "execution_count": null,
      "metadata": {
        "id": "hF5bWtWuksMk"
      },
      "outputs": [],
      "source": [
        "# 1. Demo to see the byte code\n",
        "\n",
        "# Create a hello.py file in a directory\n",
        "# when you execute the <python file> -> it runs and gives the o/p. But compilation step is hidden from us.\n",
        "# - Interactive shell : python\n",
        "\n",
        "# >>> import py_compile\n",
        "# >>> py_compile.compile(\"hello.py\")"
      ]
    },
    {
      "cell_type": "markdown",
      "source": [
        "# 2. Variable as objects and not memory locations"
      ],
      "metadata": {
        "id": "DaQeW8HjsSyp"
      }
    },
    {
      "cell_type": "code",
      "source": [
        "x = 10\n",
        "y = x\n",
        "\n",
        "print(id(x))\n",
        "print(id(y))"
      ],
      "metadata": {
        "colab": {
          "base_uri": "https://localhost:8080/"
        },
        "id": "UzlQkwTCscyZ",
        "outputId": "3ae7dea8-86be-493c-c0c2-6604ddaff1bb"
      },
      "execution_count": 2,
      "outputs": [
        {
          "output_type": "stream",
          "name": "stdout",
          "text": [
            "136788277084688\n",
            "136788277084688\n"
          ]
        }
      ]
    },
    {
      "cell_type": "code",
      "source": [
        "x = 10\n",
        "y = 10\n",
        "\n",
        "print(id(x))\n",
        "print(id(y))"
      ],
      "metadata": {
        "colab": {
          "base_uri": "https://localhost:8080/"
        },
        "id": "lX_-2FotsgIi",
        "outputId": "bedd2a3a-e6aa-42c0-abc0-2c9430b93217"
      },
      "execution_count": 3,
      "outputs": [
        {
          "output_type": "stream",
          "name": "stdout",
          "text": [
            "136788277084688\n",
            "136788277084688\n"
          ]
        }
      ]
    },
    {
      "cell_type": "code",
      "source": [
        "x = \"Hello\"\n",
        "y = \"Hello\"\n",
        "\n",
        "print(id(x))\n",
        "print(id(y))"
      ],
      "metadata": {
        "colab": {
          "base_uri": "https://localhost:8080/"
        },
        "id": "mvZ3_ufisn0l",
        "outputId": "ddb729be-eeb2-444c-a7c8-a67b86eb6881"
      },
      "execution_count": 4,
      "outputs": [
        {
          "output_type": "stream",
          "name": "stdout",
          "text": [
            "136787361340912\n",
            "136787361340912\n"
          ]
        }
      ]
    },
    {
      "cell_type": "code",
      "source": [
        "x = \"Hello\"\n",
        "y = \"hello\"\n",
        "\n",
        "print(id(x))\n",
        "print(id(y))"
      ],
      "metadata": {
        "colab": {
          "base_uri": "https://localhost:8080/"
        },
        "id": "Hzz-x73KtWL7",
        "outputId": "9c415496-c1ed-480f-f360-0363c4c7bf83"
      },
      "execution_count": 5,
      "outputs": [
        {
          "output_type": "stream",
          "name": "stdout",
          "text": [
            "136787361340912\n",
            "136787850564848\n"
          ]
        }
      ]
    },
    {
      "cell_type": "code",
      "source": [],
      "metadata": {
        "id": "Ixm-xmSLtY7b"
      },
      "execution_count": null,
      "outputs": []
    }
  ]
}